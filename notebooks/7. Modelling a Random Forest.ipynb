{
 "cells": [
  {
   "cell_type": "markdown",
   "metadata": {},
   "source": [
    "# Modelling a Random Forest classifier"
   ]
  },
  {
   "cell_type": "code",
   "execution_count": 1,
   "metadata": {},
   "outputs": [],
   "source": [
    "import pandas as pd\n",
    "import numpy as np\n",
    "from sklearn.ensemble import RandomForestClassifier\n",
    "from sklearn.model_selection import ShuffleSplit\n",
    "from sklearn.model_selection import cross_val_score\n",
    "from sklearn.metrics import classification_report"
   ]
  },
  {
   "cell_type": "code",
   "execution_count": 2,
   "metadata": {},
   "outputs": [],
   "source": [
    "import matplotlib.pyplot as plt\n",
    "%matplotlib inline\n",
    "font = { 'family': 'DejaVu Sans', 'weight': 'bold', 'size': 16 }\n",
    "plt.rc('font', **font)"
   ]
  },
  {
   "cell_type": "markdown",
   "metadata": {},
   "source": [
    "### Feature names"
   ]
  },
  {
   "cell_type": "code",
   "execution_count": 3,
   "metadata": {},
   "outputs": [],
   "source": [
    "with open('../data/feature_names.txt') as f:\n",
    "    feature_names = [ line.strip() for line in f.readlines() ]"
   ]
  },
  {
   "cell_type": "code",
   "execution_count": 4,
   "metadata": {},
   "outputs": [
    {
     "data": {
      "text/plain": [
       "['YEAR_2014', 'YEAR_2015', 'YEAR_2016']"
      ]
     },
     "execution_count": 4,
     "metadata": {},
     "output_type": "execute_result"
    }
   ],
   "source": [
    "feature_names[:3]"
   ]
  },
  {
   "cell_type": "markdown",
   "metadata": {},
   "source": [
    "### X and Y"
   ]
  },
  {
   "cell_type": "code",
   "execution_count": 5,
   "metadata": {},
   "outputs": [],
   "source": [
    "X_train = np.load('../data/X_train.npy')"
   ]
  },
  {
   "cell_type": "code",
   "execution_count": 6,
   "metadata": {},
   "outputs": [
    {
     "data": {
      "text/plain": [
       "(13439, 888)"
      ]
     },
     "execution_count": 6,
     "metadata": {},
     "output_type": "execute_result"
    }
   ],
   "source": [
    "X_train.shape"
   ]
  },
  {
   "cell_type": "code",
   "execution_count": 7,
   "metadata": {},
   "outputs": [],
   "source": [
    "X_test = np.load('../data/X_test.npy')"
   ]
  },
  {
   "cell_type": "code",
   "execution_count": 8,
   "metadata": {},
   "outputs": [
    {
     "data": {
      "text/plain": [
       "(3360, 888)"
      ]
     },
     "execution_count": 8,
     "metadata": {},
     "output_type": "execute_result"
    }
   ],
   "source": [
    "X_test.shape"
   ]
  },
  {
   "cell_type": "code",
   "execution_count": 9,
   "metadata": {},
   "outputs": [],
   "source": [
    "y_train = np.load('../data/y_train.npy')"
   ]
  },
  {
   "cell_type": "code",
   "execution_count": 10,
   "metadata": {},
   "outputs": [
    {
     "data": {
      "text/plain": [
       "(13439,)"
      ]
     },
     "execution_count": 10,
     "metadata": {},
     "output_type": "execute_result"
    }
   ],
   "source": [
    "y_train.shape"
   ]
  },
  {
   "cell_type": "code",
   "execution_count": 11,
   "metadata": {},
   "outputs": [],
   "source": [
    "y_test = np.load('../data/y_test.npy')"
   ]
  },
  {
   "cell_type": "code",
   "execution_count": 12,
   "metadata": {},
   "outputs": [
    {
     "data": {
      "text/plain": [
       "(3360,)"
      ]
     },
     "execution_count": 12,
     "metadata": {},
     "output_type": "execute_result"
    }
   ],
   "source": [
    "y_test.shape"
   ]
  },
  {
   "cell_type": "code",
   "execution_count": 13,
   "metadata": {},
   "outputs": [],
   "source": [
    "THRESHOLD = 40"
   ]
  },
  {
   "cell_type": "code",
   "execution_count": 14,
   "metadata": {},
   "outputs": [],
   "source": [
    "y_train_Bool = y_train >= THRESHOLD"
   ]
  },
  {
   "cell_type": "code",
   "execution_count": 15,
   "metadata": {},
   "outputs": [],
   "source": [
    "y_test_Bool = y_test >= THRESHOLD"
   ]
  },
  {
   "cell_type": "markdown",
   "metadata": {},
   "source": [
    "### Modelling"
   ]
  },
  {
   "cell_type": "code",
   "execution_count": 16,
   "metadata": {},
   "outputs": [],
   "source": [
    "model = RandomForestClassifier(random_state=42)"
   ]
  },
  {
   "cell_type": "code",
   "execution_count": 17,
   "metadata": {},
   "outputs": [
    {
     "data": {
      "text/plain": [
       "RandomForestClassifier(bootstrap=True, class_weight=None, criterion='gini',\n",
       "            max_depth=None, max_features='auto', max_leaf_nodes=None,\n",
       "            min_impurity_decrease=0.0, min_impurity_split=None,\n",
       "            min_samples_leaf=1, min_samples_split=2,\n",
       "            min_weight_fraction_leaf=0.0, n_estimators=10, n_jobs=1,\n",
       "            oob_score=False, random_state=42, verbose=0, warm_start=False)"
      ]
     },
     "execution_count": 17,
     "metadata": {},
     "output_type": "execute_result"
    }
   ],
   "source": [
    "model.fit(X_train, y_train_Bool)"
   ]
  },
  {
   "cell_type": "code",
   "execution_count": 18,
   "metadata": {},
   "outputs": [
    {
     "data": {
      "text/plain": [
       "0.9514880952380952"
      ]
     },
     "execution_count": 18,
     "metadata": {},
     "output_type": "execute_result"
    }
   ],
   "source": [
    "model.score(X_test, y_test_Bool)"
   ]
  },
  {
   "cell_type": "code",
   "execution_count": 19,
   "metadata": {},
   "outputs": [
    {
     "data": {
      "text/plain": [
       "array([False,  True])"
      ]
     },
     "execution_count": 19,
     "metadata": {},
     "output_type": "execute_result"
    }
   ],
   "source": [
    "model.classes_"
   ]
  },
  {
   "cell_type": "code",
   "execution_count": 20,
   "metadata": {},
   "outputs": [
    {
     "data": {
      "text/plain": [
       "DecisionTreeClassifier(class_weight=None, criterion='gini', max_depth=None,\n",
       "            max_features=None, max_leaf_nodes=None,\n",
       "            min_impurity_decrease=0.0, min_impurity_split=None,\n",
       "            min_samples_leaf=1, min_samples_split=2,\n",
       "            min_weight_fraction_leaf=0.0, presort=False, random_state=None,\n",
       "            splitter='best')"
      ]
     },
     "execution_count": 20,
     "metadata": {},
     "output_type": "execute_result"
    }
   ],
   "source": [
    "model.base_estimator_"
   ]
  },
  {
   "cell_type": "code",
   "execution_count": 21,
   "metadata": {},
   "outputs": [],
   "source": [
    "y_pred = model.predict(X_test)"
   ]
  },
  {
   "cell_type": "code",
   "execution_count": 22,
   "metadata": {},
   "outputs": [
    {
     "data": {
      "text/plain": [
       "0.8693452380952381"
      ]
     },
     "execution_count": 22,
     "metadata": {},
     "output_type": "execute_result"
    }
   ],
   "source": [
    "sum(y_pred) / float(len(y_pred))"
   ]
  },
  {
   "cell_type": "code",
   "execution_count": 23,
   "metadata": {},
   "outputs": [
    {
     "name": "stdout",
     "output_type": "stream",
     "text": [
      "             precision    recall  f1-score   support\n",
      "\n",
      "      False       0.84      0.80      0.82       464\n",
      "       True       0.97      0.98      0.97      2896\n",
      "\n",
      "avg / total       0.95      0.95      0.95      3360\n",
      "\n"
     ]
    }
   ],
   "source": [
    "print(classification_report(y_test_Bool, y_pred))"
   ]
  },
  {
   "cell_type": "code",
   "execution_count": 24,
   "metadata": {},
   "outputs": [],
   "source": [
    "importances = model.feature_importances_"
   ]
  },
  {
   "cell_type": "code",
   "execution_count": 25,
   "metadata": {
    "scrolled": false
   },
   "outputs": [],
   "source": [
    "# importances"
   ]
  },
  {
   "cell_type": "code",
   "execution_count": 26,
   "metadata": {},
   "outputs": [],
   "source": [
    "indices = np.argsort(importances)[::-1]"
   ]
  },
  {
   "cell_type": "code",
   "execution_count": 27,
   "metadata": {},
   "outputs": [],
   "source": [
    "# indices"
   ]
  },
  {
   "cell_type": "code",
   "execution_count": 28,
   "metadata": {
    "scrolled": false
   },
   "outputs": [
    {
     "name": "stdout",
     "output_type": "stream",
     "text": [
      "Feature ranking:\n",
      "1. Feature FIRST_RESULT_P [821] (0.108992)\n",
      "2. Feature Y2_RETURN_N [728] (0.096176)\n",
      "3. Feature PASS_M5_Y [735] (0.070435)\n",
      "4. Feature PASS_M1_0 [730] (0.052523)\n",
      "5. Feature NUM_M5_FAILS [838] (0.048287)\n",
      "6. Feature Y2_RETURN_Y [729] (0.044276)\n",
      "7. Feature PASS_M8_N [737] (0.025764)\n",
      "8. Feature EARLY_CANX_LEFT_Y [8] (0.021629)\n",
      "9. Feature NUM_EARLY_ACCESS_DAYS [861] (0.016512)\n",
      "10. Feature NUM_M8_SUBJECTS [836] (0.016382)\n",
      "11. Feature FIRST_RESULT_F [819] (0.016118)\n",
      "12. Feature YR_NUM [822] (0.014015)\n",
      "13. Feature PREV_RESULT_F [429] (0.013259)\n",
      "14. Feature PASS_M5_0 [733] (0.010847)\n",
      "15. Feature NUM_M1_FAILS [837] (0.010819)\n",
      "16. Feature AGE_AT_START [839] (0.010198)\n",
      "17. Feature PASS_M1_Y [732] (0.009971)\n",
      "18. Feature TOTAL_YEARS [823] (0.009855)\n",
      "19. Feature NUM_M5_SUBJECTS [835] (0.008729)\n",
      "20. Feature PASS_M8_0 [736] (0.008706)\n",
      "21. Feature DAYS_TO_FIRST_LAB [842] (0.008654)\n",
      "22. Feature FIRST_RESULT_F0 [820] (0.008562)\n",
      "23. Feature NUM_FEB_ACCESS_DAYS [870] (0.008452)\n",
      "24. Feature NUM_M1_SUBJECTS [834] (0.007228)\n",
      "25. Feature NUM_SUBJECTS [830] (0.007227)\n",
      "etc\n"
     ]
    }
   ],
   "source": [
    "# Print the feature ranking\n",
    "print(\"Feature ranking:\")\n",
    "for f in range(len(feature_names))[:25]:\n",
    "    print(\"%d. Feature %s [%d] (%f)\" % (f + 1, feature_names[indices[f]], indices[f], importances[indices[f]]))\n",
    "print('etc')"
   ]
  },
  {
   "cell_type": "code",
   "execution_count": 29,
   "metadata": {},
   "outputs": [
    {
     "data": {
      "image/png": "[encoded data removed]",
      "text/plain": [
       "<Figure size 1152x288 with 1 Axes>"
      ]
     },
     "metadata": {},
     "output_type": "display_data"
    }
   ],
   "source": [
    "N = 10\n",
    "\n",
    "# Plot the feature importances of the forest\n",
    "plt.figure(figsize=(16, 4))\n",
    "plt.title(\"Top-{} Feature importances\".format(N))\n",
    "# plt.bar(range(len(feature_names)), importances[indices], color=\"b\", align=\"center\")\n",
    "plt.bar(range(N), importances[indices][:N], color=\"b\", align=\"center\")\n",
    "# plt.xticks(range(len(feature_names)), indices)\n",
    "plt.xticks(range(N), [ feature_names[index].replace('_', '\\n') for index in indices[:N] ])\n",
    "plt.xlim([-1, N])\n",
    "plt.savefig('../figures/modelling_Random_Forest_Top_10_Feature_Importances.png', bbox_inches=\"tight\")\n",
    "plt.show()"
   ]
  },
  {
   "cell_type": "markdown",
   "metadata": {},
   "source": [
    "## Dropping important columns"
   ]
  },
  {
   "cell_type": "code",
   "execution_count": 30,
   "metadata": {},
   "outputs": [],
   "source": [
    "patterns_to_drop = [\n",
    "    'FIRST_RESULT_',\n",
    "    'Y2_RETURN_',\n",
    "    'NUM_M1_FAILS',\n",
    "    'NUM_M5_FAILS',\n",
    "    'PASS_M1_',\n",
    "    'PASS_M5_',\n",
    "    'PASS_M8_',\n",
    "    'NEXT_RESULT_',\n",
    "]"
   ]
  },
  {
   "cell_type": "code",
   "execution_count": 31,
   "metadata": {},
   "outputs": [],
   "source": [
    "cols_to_drop = [col for col in feature_names for pattern in patterns_to_drop if pattern in col]"
   ]
  },
  {
   "cell_type": "code",
   "execution_count": 32,
   "metadata": {},
   "outputs": [
    {
     "data": {
      "text/plain": [
       "['NEXT_RESULT_F',\n",
       " 'NEXT_RESULT_F0',\n",
       " 'NEXT_RESULT_P',\n",
       " 'Y2_RETURN_N',\n",
       " 'Y2_RETURN_Y',\n",
       " 'PASS_M1_0',\n",
       " 'PASS_M1_N',\n",
       " 'PASS_M1_Y',\n",
       " 'PASS_M5_0',\n",
       " 'PASS_M5_N',\n",
       " 'PASS_M5_Y',\n",
       " 'PASS_M8_0',\n",
       " 'PASS_M8_N',\n",
       " 'PASS_M8_Y',\n",
       " 'FIRST_RESULT_F',\n",
       " 'FIRST_RESULT_F0',\n",
       " 'FIRST_RESULT_P',\n",
       " 'NUM_M1_FAILS',\n",
       " 'NUM_M5_FAILS']"
      ]
     },
     "execution_count": 32,
     "metadata": {},
     "output_type": "execute_result"
    }
   ],
   "source": [
    "cols_to_drop"
   ]
  },
  {
   "cell_type": "code",
   "execution_count": 33,
   "metadata": {},
   "outputs": [],
   "source": [
    "indexes_to_drop = [ feature_names.index(col) for col in cols_to_drop ]"
   ]
  },
  {
   "cell_type": "code",
   "execution_count": 34,
   "metadata": {},
   "outputs": [
    {
     "data": {
      "text/plain": [
       "[725,\n",
       " 726,\n",
       " 727,\n",
       " 728,\n",
       " 729,\n",
       " 730,\n",
       " 731,\n",
       " 732,\n",
       " 733,\n",
       " 734,\n",
       " 735,\n",
       " 736,\n",
       " 737,\n",
       " 738,\n",
       " 819,\n",
       " 820,\n",
       " 821,\n",
       " 837,\n",
       " 838]"
      ]
     },
     "execution_count": 34,
     "metadata": {},
     "output_type": "execute_result"
    }
   ],
   "source": [
    "indexes_to_drop"
   ]
  },
  {
   "cell_type": "code",
   "execution_count": 35,
   "metadata": {},
   "outputs": [],
   "source": [
    "X_train = np.delete(X_train, indexes_to_drop, axis=1)"
   ]
  },
  {
   "cell_type": "code",
   "execution_count": 36,
   "metadata": {},
   "outputs": [
    {
     "data": {
      "text/plain": [
       "(13439, 869)"
      ]
     },
     "execution_count": 36,
     "metadata": {},
     "output_type": "execute_result"
    }
   ],
   "source": [
    "X_train.shape"
   ]
  },
  {
   "cell_type": "code",
   "execution_count": 37,
   "metadata": {},
   "outputs": [],
   "source": [
    "X_test = np.delete(X_test, indexes_to_drop, axis=1)"
   ]
  },
  {
   "cell_type": "code",
   "execution_count": 38,
   "metadata": {},
   "outputs": [
    {
     "data": {
      "text/plain": [
       "(3360, 869)"
      ]
     },
     "execution_count": 38,
     "metadata": {},
     "output_type": "execute_result"
    }
   ],
   "source": [
    "X_test.shape"
   ]
  },
  {
   "cell_type": "code",
   "execution_count": 39,
   "metadata": {},
   "outputs": [],
   "source": [
    "# Note that you need to delete them in reverse order so that you don't throw off the subsequent indexes.\n",
    "for index in sorted(indexes_to_drop, reverse=True):\n",
    "    del feature_names[index]"
   ]
  },
  {
   "cell_type": "code",
   "execution_count": 40,
   "metadata": {},
   "outputs": [
    {
     "data": {
      "text/plain": [
       "869"
      ]
     },
     "execution_count": 40,
     "metadata": {},
     "output_type": "execute_result"
    }
   ],
   "source": [
    "len(feature_names)"
   ]
  },
  {
   "cell_type": "code",
   "execution_count": 41,
   "metadata": {},
   "outputs": [],
   "source": [
    "model = RandomForestClassifier(random_state=42)"
   ]
  },
  {
   "cell_type": "code",
   "execution_count": 42,
   "metadata": {},
   "outputs": [
    {
     "data": {
      "text/plain": [
       "RandomForestClassifier(bootstrap=True, class_weight=None, criterion='gini',\n",
       "            max_depth=None, max_features='auto', max_leaf_nodes=None,\n",
       "            min_impurity_decrease=0.0, min_impurity_split=None,\n",
       "            min_samples_leaf=1, min_samples_split=2,\n",
       "            min_weight_fraction_leaf=0.0, n_estimators=10, n_jobs=1,\n",
       "            oob_score=False, random_state=42, verbose=0, warm_start=False)"
      ]
     },
     "execution_count": 42,
     "metadata": {},
     "output_type": "execute_result"
    }
   ],
   "source": [
    "model.fit(X_train, y_train_Bool)"
   ]
  },
  {
   "cell_type": "code",
   "execution_count": 43,
   "metadata": {},
   "outputs": [
    {
     "data": {
      "text/plain": [
       "0.9479166666666666"
      ]
     },
     "execution_count": 43,
     "metadata": {},
     "output_type": "execute_result"
    }
   ],
   "source": [
    "model.score(X_test, y_test_Bool)"
   ]
  },
  {
   "cell_type": "code",
   "execution_count": 44,
   "metadata": {},
   "outputs": [
    {
     "data": {
      "text/plain": [
       "array([False,  True])"
      ]
     },
     "execution_count": 44,
     "metadata": {},
     "output_type": "execute_result"
    }
   ],
   "source": [
    "model.classes_"
   ]
  },
  {
   "cell_type": "code",
   "execution_count": 45,
   "metadata": {},
   "outputs": [
    {
     "data": {
      "text/plain": [
       "DecisionTreeClassifier(class_weight=None, criterion='gini', max_depth=None,\n",
       "            max_features=None, max_leaf_nodes=None,\n",
       "            min_impurity_decrease=0.0, min_impurity_split=None,\n",
       "            min_samples_leaf=1, min_samples_split=2,\n",
       "            min_weight_fraction_leaf=0.0, presort=False, random_state=None,\n",
       "            splitter='best')"
      ]
     },
     "execution_count": 45,
     "metadata": {},
     "output_type": "execute_result"
    }
   ],
   "source": [
    "model.base_estimator_"
   ]
  },
  {
   "cell_type": "code",
   "execution_count": 46,
   "metadata": {},
   "outputs": [],
   "source": [
    "y_pred = model.predict(X_test)"
   ]
  },
  {
   "cell_type": "code",
   "execution_count": 47,
   "metadata": {},
   "outputs": [
    {
     "data": {
      "text/plain": [
       "0.8818452380952381"
      ]
     },
     "execution_count": 47,
     "metadata": {},
     "output_type": "execute_result"
    }
   ],
   "source": [
    "sum(y_pred) / float(len(y_pred))"
   ]
  },
  {
   "cell_type": "code",
   "execution_count": 48,
   "metadata": {},
   "outputs": [
    {
     "name": "stdout",
     "output_type": "stream",
     "text": [
      "             precision    recall  f1-score   support\n",
      "\n",
      "      False       0.86      0.74      0.80       464\n",
      "       True       0.96      0.98      0.97      2896\n",
      "\n",
      "avg / total       0.95      0.95      0.95      3360\n",
      "\n"
     ]
    }
   ],
   "source": [
    "print(classification_report(y_test_Bool, y_pred))"
   ]
  },
  {
   "cell_type": "code",
   "execution_count": 49,
   "metadata": {},
   "outputs": [],
   "source": [
    "importances = model.feature_importances_"
   ]
  },
  {
   "cell_type": "code",
   "execution_count": 50,
   "metadata": {},
   "outputs": [],
   "source": [
    "# importances"
   ]
  },
  {
   "cell_type": "code",
   "execution_count": 51,
   "metadata": {},
   "outputs": [],
   "source": [
    "indices = np.argsort(importances)[::-1]"
   ]
  },
  {
   "cell_type": "code",
   "execution_count": 52,
   "metadata": {},
   "outputs": [],
   "source": [
    "# indices"
   ]
  },
  {
   "cell_type": "code",
   "execution_count": 53,
   "metadata": {
    "scrolled": false
   },
   "outputs": [
    {
     "name": "stdout",
     "output_type": "stream",
     "text": [
      "Feature ranking:\n",
      "1. Feature NUM_M8_SUBJECTS [819] (0.181080)\n",
      "2. Feature FEB_CANX_LEFT_N [11] (0.068333)\n",
      "3. Feature TOTAL_YEARS [806] (0.044044)\n",
      "4. Feature EARLY_CANX_LEFT_Y [8] (0.037775)\n",
      "5. Feature FEB_CANX_LEFT_Y [12] (0.035228)\n",
      "6. Feature NUM_FEB_ACCESS_DAYS [851] (0.017219)\n",
      "7. Feature AGE_AT_START [820] (0.015753)\n",
      "8. Feature CANX_2017.0 [227] (0.014662)\n",
      "9. Feature NUM_EARLY_ACCESS_DAYS [842] (0.013266)\n",
      "10. Feature CANX_2015.0 [225] (0.013251)\n",
      "11. Feature DAYS_TO_FIRST_REG [807] (0.012381)\n",
      "12. Feature FEB_CANX_DEFER_Y [14] (0.012104)\n",
      "13. Feature CAO_POINTS [810] (0.011309)\n",
      "14. Feature CANX_2018.0 [228] (0.011025)\n",
      "15. Feature NUM_SUBJECTS [813] (0.010998)\n",
      "16. Feature PREV_RESULT_F [429] (0.010282)\n",
      "17. Feature DAYS_TO_FIRST_LAB [823] (0.009209)\n",
      "18. Feature SCH_ENROLMENTS [808] (0.009056)\n",
      "19. Feature DAYS_TO_FIRST_ACCESS [824] (0.008823)\n",
      "20. Feature DAYS_TO_FIRST_LOAN [822] (0.008332)\n",
      "21. Feature EARLY_CANX_LEFT_N [7] (0.008291)\n",
      "22. Feature FIRST_CANX_2014.0 [641] (0.007657)\n",
      "23. Feature LC_MATHS_POINTS [811] (0.007529)\n",
      "24. Feature NUM_MEMBERSHIPS [814] (0.007509)\n",
      "25. Feature FIRST_CANX_2016.0 [643] (0.007487)\n",
      "etc\n"
     ]
    }
   ],
   "source": [
    "# Print the feature ranking\n",
    "print(\"Feature ranking:\")\n",
    "for f in range(len(feature_names))[:25]:\n",
    "    print(\"%d. Feature %s [%d] (%f)\" % (f + 1, feature_names[indices[f]], indices[f], importances[indices[f]]))\n",
    "print('etc')"
   ]
  },
  {
   "cell_type": "code",
   "execution_count": 54,
   "metadata": {
    "scrolled": true
   },
   "outputs": [
    {
     "data": {
      "image/png": "[encoded data removed]",
      "text/plain": [
       "<Figure size 1152x288 with 1 Axes>"
      ]
     },
     "metadata": {},
     "output_type": "display_data"
    }
   ],
   "source": [
    "N = 10\n",
    "\n",
    "# Plot the feature importances of the forest\n",
    "plt.figure(figsize=(16, 4))\n",
    "plt.title(\"Top-{} Feature importances\".format(N))\n",
    "# plt.bar(range(len(feature_names)), importances[indices], color=\"b\", align=\"center\")\n",
    "plt.bar(range(N), importances[indices][:N], color=\"b\", align=\"center\")\n",
    "# plt.xticks(range(len(feature_names)), indices)\n",
    "plt.xticks(range(N), [ feature_names[index].replace('_', '\\n') for index in indices[:N] ])\n",
    "plt.xlim([-1, N])\n",
    "plt.savefig('../figures/modelling_Random_Forest_less_important_features_Top_10_Feature_Importances.png', \n",
    "            bbox_inches=\"tight\")\n",
    "plt.show()"
   ]
  }
 ],
 "metadata": {
  "kernelspec": {
   "display_name": "Python 3",
   "language": "python",
   "name": "python3"
  },
  "language_info": {
   "codemirror_mode": {
    "name": "ipython",
    "version": 3
   },
   "file_extension": ".py",
   "mimetype": "text/x-python",
   "name": "python",
   "nbconvert_exporter": "python",
   "pygments_lexer": "ipython3",
   "version": "3.5.2"
  }
 },
 "nbformat": 4,
 "nbformat_minor": 2
}
