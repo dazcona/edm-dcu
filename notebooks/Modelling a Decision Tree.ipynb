{
 "cells": [
  {
   "cell_type": "markdown",
   "metadata": {},
   "source": [
    "# Modelling a Decision Tree"
   ]
  },
  {
   "cell_type": "code",
   "execution_count": 1,
   "metadata": {},
   "outputs": [],
   "source": [
    "import numpy as np\n",
    "from sklearn import tree"
   ]
  },
  {
   "cell_type": "markdown",
   "metadata": {},
   "source": [
    "### Feature names"
   ]
  },
  {
   "cell_type": "code",
   "execution_count": 2,
   "metadata": {},
   "outputs": [],
   "source": [
    "with open('../data/feature_names.txt') as f:\n",
    "    feature_names = [ line.strip() for line in f.readlines() ]"
   ]
  },
  {
   "cell_type": "code",
   "execution_count": 3,
   "metadata": {},
   "outputs": [
    {
     "data": {
      "text/plain": [
       "['YEAR_2014', 'YEAR_2015', 'YEAR_2016']"
      ]
     },
     "execution_count": 3,
     "metadata": {},
     "output_type": "execute_result"
    }
   ],
   "source": [
    "feature_names[:3]"
   ]
  },
  {
   "cell_type": "markdown",
   "metadata": {},
   "source": [
    "### X and Y"
   ]
  },
  {
   "cell_type": "code",
   "execution_count": 4,
   "metadata": {},
   "outputs": [],
   "source": [
    "X_train = np.load('../data/X_train.npy')"
   ]
  },
  {
   "cell_type": "code",
   "execution_count": 5,
   "metadata": {},
   "outputs": [
    {
     "data": {
      "text/plain": [
       "(12648, 888)"
      ]
     },
     "execution_count": 5,
     "metadata": {},
     "output_type": "execute_result"
    }
   ],
   "source": [
    "X_train.shape"
   ]
  },
  {
   "cell_type": "code",
   "execution_count": 6,
   "metadata": {},
   "outputs": [],
   "source": [
    "X_test = np.load('../data/X_test.npy')"
   ]
  },
  {
   "cell_type": "code",
   "execution_count": 7,
   "metadata": {},
   "outputs": [
    {
     "data": {
      "text/plain": [
       "(3163, 888)"
      ]
     },
     "execution_count": 7,
     "metadata": {},
     "output_type": "execute_result"
    }
   ],
   "source": [
    "X_test.shape"
   ]
  },
  {
   "cell_type": "code",
   "execution_count": 8,
   "metadata": {},
   "outputs": [],
   "source": [
    "y_train = np.load('../data/y_train.npy')"
   ]
  },
  {
   "cell_type": "code",
   "execution_count": 9,
   "metadata": {},
   "outputs": [
    {
     "data": {
      "text/plain": [
       "(12648,)"
      ]
     },
     "execution_count": 9,
     "metadata": {},
     "output_type": "execute_result"
    }
   ],
   "source": [
    "y_train.shape"
   ]
  },
  {
   "cell_type": "code",
   "execution_count": 10,
   "metadata": {},
   "outputs": [],
   "source": [
    "y_test = np.load('../data/y_test.npy')"
   ]
  },
  {
   "cell_type": "code",
   "execution_count": 11,
   "metadata": {},
   "outputs": [
    {
     "data": {
      "text/plain": [
       "(3163,)"
      ]
     },
     "execution_count": 11,
     "metadata": {},
     "output_type": "execute_result"
    }
   ],
   "source": [
    "y_test.shape"
   ]
  },
  {
   "cell_type": "markdown",
   "metadata": {},
   "source": [
    "### Modelling"
   ]
  },
  {
   "cell_type": "code",
   "execution_count": 12,
   "metadata": {},
   "outputs": [],
   "source": [
    "model = tree.DecisionTreeClassifier(random_state=42)"
   ]
  },
  {
   "cell_type": "code",
   "execution_count": 13,
   "metadata": {},
   "outputs": [
    {
     "data": {
      "text/plain": [
       "DecisionTreeClassifier(class_weight=None, criterion='gini', max_depth=None,\n",
       "            max_features=None, max_leaf_nodes=None,\n",
       "            min_impurity_decrease=0.0, min_impurity_split=None,\n",
       "            min_samples_leaf=1, min_samples_split=2,\n",
       "            min_weight_fraction_leaf=0.0, presort=False, random_state=42,\n",
       "            splitter='best')"
      ]
     },
     "execution_count": 13,
     "metadata": {},
     "output_type": "execute_result"
    }
   ],
   "source": [
    "model.fit(X_train, y_train)"
   ]
  },
  {
   "cell_type": "code",
   "execution_count": 14,
   "metadata": {},
   "outputs": [
    {
     "data": {
      "text/plain": [
       "0.9996838444514701"
      ]
     },
     "execution_count": 14,
     "metadata": {},
     "output_type": "execute_result"
    }
   ],
   "source": [
    "model.score(X_test, y_test)"
   ]
  },
  {
   "cell_type": "code",
   "execution_count": 15,
   "metadata": {},
   "outputs": [],
   "source": [
    "labels = [name.replace('&', ' ') for name in feature_names ] "
   ]
  },
  {
   "cell_type": "code",
   "execution_count": 16,
   "metadata": {},
   "outputs": [],
   "source": [
    "import graphviz \n",
    "\n",
    "dot_data = tree.export_graphviz(model,\n",
    "                                feature_names=labels,\n",
    "                                filled=True,\n",
    "                                rounded=True,\n",
    "                                out_file=None, # out_file='../figures/graph.dot',\n",
    "                                class_names=['P', 'F'],\n",
    "                                special_characters=True)"
   ]
  },
  {
   "cell_type": "code",
   "execution_count": 17,
   "metadata": {},
   "outputs": [
    {
     "data": {
      "text/plain": [
       "'digraph Tree {\\nnode [shape=box, style=\"filled, rounded\", color=\"black\", fontname=helvetica] ;\\nedge [fontname=helvetica] ;\\n0 [label=<FIRST_RESULT_F &le; 0.5<br/>gini = 0.215<br/>samples = 12648<br/>value = [1547, 11101]<br/>class = F>, fillcolor=\"#399de5db\"] ;\\n1 [label=<PASS_M8_N &le; 0.5<br/>gini = 0.006<br/>samples = 11136<br/>value = [35, 11101]<br/>class = F>, fillcolor=\"#399de5fe\"] ;\\n0 -> 1 [labeldistance=2.5, labelangle=45, headlabel=\"True\"] ;\\n2 [label=<CANX_2014.0 &le; 0.5<br/>gini = 0.0<br/>samples = 11101<br/>value = [2, 11099]<br/>class = F>, fillcolor=\"#399de5ff\"] ;\\n1 -> 2 ;\\n3 [label=<FEB_CANX_LEFT_Y &le; 0.5<br/>gini = 0.0<br/>samples = 11100<br/>value = [1, 11099]<br/>class = F>, fillcolor=\"#399de5ff\"] ;\\n2 -> 3 ;\\n4 [label=<gini = 0.0<br/>samples = 11097<br/>value = [0, 11097]<br/>class = F>, fillcolor=\"#399de5ff\"] ;\\n3 -> 4 ;\\n5 [label=<AGE_AT_START &le; 18.45<br/>gini = 0.444<br/>samples = 3<br/>value = [1, 2]<br/>class = F>, fillcolor=\"#399de57f\"] ;\\n3 -> 5 ;\\n6 [label=<gini = 0.0<br/>samples = 1<br/>value = [1, 0]<br/>class = P>, fillcolor=\"#e58139ff\"] ;\\n5 -> 6 ;\\n7 [label=<gini = 0.0<br/>samples = 2<br/>value = [0, 2]<br/>class = F>, fillcolor=\"#399de5ff\"] ;\\n5 -> 7 ;\\n8 [label=<gini = 0.0<br/>samples = 1<br/>value = [1, 0]<br/>class = P>, fillcolor=\"#e58139ff\"] ;\\n2 -> 8 ;\\n9 [label=<FIRST_RESULT_P &le; 0.5<br/>gini = 0.108<br/>samples = 35<br/>value = [33, 2]<br/>class = P>, fillcolor=\"#e58139f0\"] ;\\n1 -> 9 ;\\n10 [label=<gini = 0.0<br/>samples = 33<br/>value = [33, 0]<br/>class = P>, fillcolor=\"#e58139ff\"] ;\\n9 -> 10 ;\\n11 [label=<gini = 0.0<br/>samples = 2<br/>value = [0, 2]<br/>class = F>, fillcolor=\"#399de5ff\"] ;\\n9 -> 11 ;\\n12 [label=<gini = 0.0<br/>samples = 1512<br/>value = [1512, 0]<br/>class = P>, fillcolor=\"#e58139ff\"] ;\\n0 -> 12 [labeldistance=2.5, labelangle=-45, headlabel=\"False\"] ;\\n}'"
      ]
     },
     "execution_count": 17,
     "metadata": {},
     "output_type": "execute_result"
    }
   ],
   "source": [
    "dot_data"
   ]
  },
  {
   "cell_type": "code",
   "execution_count": 18,
   "metadata": {},
   "outputs": [],
   "source": [
    "graph = graphviz.Source(dot_data)"
   ]
  },
  {
   "cell_type": "code",
   "execution_count": 19,
   "metadata": {},
   "outputs": [
    {
     "data": {
      "image/svg+xml": [
       "<?xml version=\"1.0\" encoding=\"UTF-8\" standalone=\"no\"?>\n",
       "<!DOCTYPE svg PUBLIC \"-//W3C//DTD SVG 1.1//EN\"\n",
       " \"http://www.w3.org/Graphics/SVG/1.1/DTD/svg11.dtd\">\n",
       "<!-- Generated by graphviz version 2.38.0 (20140413.2041)\n",
       " -->\n",
       "<!-- Title: Tree Pages: 1 -->\n",
       "<svg width=\"700pt\" height=\"671pt\"\n",
       " viewBox=\"0.00 0.00 700.00 671.00\" xmlns=\"http://www.w3.org/2000/svg\" xmlns:xlink=\"http://www.w3.org/1999/xlink\">\n",
       "<g id=\"graph0\" class=\"graph\" transform=\"scale(1 1) rotate(0) translate(4 667)\">\n",
       "<title>Tree</title>\n",
       "<polygon fill=\"white\" stroke=\"none\" points=\"-4,4 -4,-667 696,-667 696,4 -4,4\"/>\n",
       "<!-- 0 -->\n",
       "<g id=\"node1\" class=\"node\"><title>0</title>\n",
       "<path fill=\"#399de5\" fill-opacity=\"0.858824\" stroke=\"black\" d=\"M578,-663C578,-663 425,-663 425,-663 419,-663 413,-657 413,-651 413,-651 413,-592 413,-592 413,-586 419,-580 425,-580 425,-580 578,-580 578,-580 584,-580 590,-586 590,-592 590,-592 590,-651 590,-651 590,-657 584,-663 578,-663\"/>\n",
       "<text text-anchor=\"start\" x=\"421\" y=\"-647.8\" font-family=\"Helvetica,sans-Serif\" font-size=\"14.00\">FIRST_RESULT_F ≤ 0.5</text>\n",
       "<text text-anchor=\"start\" x=\"458\" y=\"-632.8\" font-family=\"Helvetica,sans-Serif\" font-size=\"14.00\">gini = 0.215</text>\n",
       "<text text-anchor=\"start\" x=\"441\" y=\"-617.8\" font-family=\"Helvetica,sans-Serif\" font-size=\"14.00\">samples = 12648</text>\n",
       "<text text-anchor=\"start\" x=\"421.5\" y=\"-602.8\" font-family=\"Helvetica,sans-Serif\" font-size=\"14.00\">value = [1547, 11101]</text>\n",
       "<text text-anchor=\"start\" x=\"470.5\" y=\"-587.8\" font-family=\"Helvetica,sans-Serif\" font-size=\"14.00\">class = F</text>\n",
       "</g>\n",
       "<!-- 1 -->\n",
       "<g id=\"node2\" class=\"node\"><title>1</title>\n",
       "<path fill=\"#399de5\" fill-opacity=\"0.996078\" stroke=\"black\" d=\"M485.5,-544C485.5,-544 351.5,-544 351.5,-544 345.5,-544 339.5,-538 339.5,-532 339.5,-532 339.5,-473 339.5,-473 339.5,-467 345.5,-461 351.5,-461 351.5,-461 485.5,-461 485.5,-461 491.5,-461 497.5,-467 497.5,-473 497.5,-473 497.5,-532 497.5,-532 497.5,-538 491.5,-544 485.5,-544\"/>\n",
       "<text text-anchor=\"start\" x=\"355\" y=\"-528.8\" font-family=\"Helvetica,sans-Serif\" font-size=\"14.00\">PASS_M8_N ≤ 0.5</text>\n",
       "<text text-anchor=\"start\" x=\"375\" y=\"-513.8\" font-family=\"Helvetica,sans-Serif\" font-size=\"14.00\">gini = 0.006</text>\n",
       "<text text-anchor=\"start\" x=\"358\" y=\"-498.8\" font-family=\"Helvetica,sans-Serif\" font-size=\"14.00\">samples = 11136</text>\n",
       "<text text-anchor=\"start\" x=\"347.5\" y=\"-483.8\" font-family=\"Helvetica,sans-Serif\" font-size=\"14.00\">value = [35, 11101]</text>\n",
       "<text text-anchor=\"start\" x=\"387.5\" y=\"-468.8\" font-family=\"Helvetica,sans-Serif\" font-size=\"14.00\">class = F</text>\n",
       "</g>\n",
       "<!-- 0&#45;&gt;1 -->\n",
       "<g id=\"edge1\" class=\"edge\"><title>0&#45;&gt;1</title>\n",
       "<path fill=\"none\" stroke=\"black\" d=\"M472.704,-579.907C466.394,-571.014 459.652,-561.509 453.141,-552.331\"/>\n",
       "<polygon fill=\"black\" stroke=\"black\" points=\"455.886,-550.152 447.246,-544.021 450.177,-554.202 455.886,-550.152\"/>\n",
       "<text text-anchor=\"middle\" x=\"443.056\" y=\"-564.967\" font-family=\"Helvetica,sans-Serif\" font-size=\"14.00\">True</text>\n",
       "</g>\n",
       "<!-- 12 -->\n",
       "<g id=\"node13\" class=\"node\"><title>12</title>\n",
       "<path fill=\"#e58139\" stroke=\"black\" d=\"M643.5,-536.5C643.5,-536.5 527.5,-536.5 527.5,-536.5 521.5,-536.5 515.5,-530.5 515.5,-524.5 515.5,-524.5 515.5,-480.5 515.5,-480.5 515.5,-474.5 521.5,-468.5 527.5,-468.5 527.5,-468.5 643.5,-468.5 643.5,-468.5 649.5,-468.5 655.5,-474.5 655.5,-480.5 655.5,-480.5 655.5,-524.5 655.5,-524.5 655.5,-530.5 649.5,-536.5 643.5,-536.5\"/>\n",
       "<text text-anchor=\"start\" x=\"551\" y=\"-521.3\" font-family=\"Helvetica,sans-Serif\" font-size=\"14.00\">gini = 0.0</text>\n",
       "<text text-anchor=\"start\" x=\"529.5\" y=\"-506.3\" font-family=\"Helvetica,sans-Serif\" font-size=\"14.00\">samples = 1512</text>\n",
       "<text text-anchor=\"start\" x=\"523.5\" y=\"-491.3\" font-family=\"Helvetica,sans-Serif\" font-size=\"14.00\">value = [1512, 0]</text>\n",
       "<text text-anchor=\"start\" x=\"554\" y=\"-476.3\" font-family=\"Helvetica,sans-Serif\" font-size=\"14.00\">class = P</text>\n",
       "</g>\n",
       "<!-- 0&#45;&gt;12 -->\n",
       "<g id=\"edge12\" class=\"edge\"><title>0&#45;&gt;12</title>\n",
       "<path fill=\"none\" stroke=\"black\" d=\"M530.643,-579.907C538.724,-568.652 547.507,-556.418 555.629,-545.106\"/>\n",
       "<polygon fill=\"black\" stroke=\"black\" points=\"558.699,-546.831 561.688,-536.667 553.013,-542.749 558.699,-546.831\"/>\n",
       "<text text-anchor=\"middle\" x=\"565.738\" y=\"-557.637\" font-family=\"Helvetica,sans-Serif\" font-size=\"14.00\">False</text>\n",
       "</g>\n",
       "<!-- 2 -->\n",
       "<g id=\"node3\" class=\"node\"><title>2</title>\n",
       "<path fill=\"#399de5\" stroke=\"black\" d=\"M392.5,-425C392.5,-425 258.5,-425 258.5,-425 252.5,-425 246.5,-419 246.5,-413 246.5,-413 246.5,-354 246.5,-354 246.5,-348 252.5,-342 258.5,-342 258.5,-342 392.5,-342 392.5,-342 398.5,-342 404.5,-348 404.5,-354 404.5,-354 404.5,-413 404.5,-413 404.5,-419 398.5,-425 392.5,-425\"/>\n",
       "<text text-anchor=\"start\" x=\"254.5\" y=\"-409.8\" font-family=\"Helvetica,sans-Serif\" font-size=\"14.00\">CANX_2014.0 ≤ 0.5</text>\n",
       "<text text-anchor=\"start\" x=\"291\" y=\"-394.8\" font-family=\"Helvetica,sans-Serif\" font-size=\"14.00\">gini = 0.0</text>\n",
       "<text text-anchor=\"start\" x=\"265\" y=\"-379.8\" font-family=\"Helvetica,sans-Serif\" font-size=\"14.00\">samples = 11101</text>\n",
       "<text text-anchor=\"start\" x=\"259\" y=\"-364.8\" font-family=\"Helvetica,sans-Serif\" font-size=\"14.00\">value = [2, 11099]</text>\n",
       "<text text-anchor=\"start\" x=\"294.5\" y=\"-349.8\" font-family=\"Helvetica,sans-Serif\" font-size=\"14.00\">class = F</text>\n",
       "</g>\n",
       "<!-- 1&#45;&gt;2 -->\n",
       "<g id=\"edge2\" class=\"edge\"><title>1&#45;&gt;2</title>\n",
       "<path fill=\"none\" stroke=\"black\" d=\"M386.234,-460.907C379.093,-451.923 371.456,-442.315 364.091,-433.05\"/>\n",
       "<polygon fill=\"black\" stroke=\"black\" points=\"366.671,-430.671 357.709,-425.021 361.191,-435.027 366.671,-430.671\"/>\n",
       "</g>\n",
       "<!-- 9 -->\n",
       "<g id=\"node10\" class=\"node\"><title>9</title>\n",
       "<path fill=\"#e58139\" fill-opacity=\"0.941176\" stroke=\"black\" d=\"M588.5,-425C588.5,-425 434.5,-425 434.5,-425 428.5,-425 422.5,-419 422.5,-413 422.5,-413 422.5,-354 422.5,-354 422.5,-348 428.5,-342 434.5,-342 434.5,-342 588.5,-342 588.5,-342 594.5,-342 600.5,-348 600.5,-354 600.5,-354 600.5,-413 600.5,-413 600.5,-419 594.5,-425 588.5,-425\"/>\n",
       "<text text-anchor=\"start\" x=\"430.5\" y=\"-409.8\" font-family=\"Helvetica,sans-Serif\" font-size=\"14.00\">FIRST_RESULT_P ≤ 0.5</text>\n",
       "<text text-anchor=\"start\" x=\"468\" y=\"-394.8\" font-family=\"Helvetica,sans-Serif\" font-size=\"14.00\">gini = 0.108</text>\n",
       "<text text-anchor=\"start\" x=\"464.5\" y=\"-379.8\" font-family=\"Helvetica,sans-Serif\" font-size=\"14.00\">samples = 35</text>\n",
       "<text text-anchor=\"start\" x=\"458.5\" y=\"-364.8\" font-family=\"Helvetica,sans-Serif\" font-size=\"14.00\">value = [33, 2]</text>\n",
       "<text text-anchor=\"start\" x=\"480\" y=\"-349.8\" font-family=\"Helvetica,sans-Serif\" font-size=\"14.00\">class = P</text>\n",
       "</g>\n",
       "<!-- 1&#45;&gt;9 -->\n",
       "<g id=\"edge9\" class=\"edge\"><title>1&#45;&gt;9</title>\n",
       "<path fill=\"none\" stroke=\"black\" d=\"M450.766,-460.907C457.907,-451.923 465.544,-442.315 472.909,-433.05\"/>\n",
       "<polygon fill=\"black\" stroke=\"black\" points=\"475.809,-435.027 479.291,-425.021 470.329,-430.671 475.809,-435.027\"/>\n",
       "</g>\n",
       "<!-- 3 -->\n",
       "<g id=\"node4\" class=\"node\"><title>3</title>\n",
       "<path fill=\"#399de5\" stroke=\"black\" d=\"M251.5,-306C251.5,-306 81.5,-306 81.5,-306 75.5,-306 69.5,-300 69.5,-294 69.5,-294 69.5,-235 69.5,-235 69.5,-229 75.5,-223 81.5,-223 81.5,-223 251.5,-223 251.5,-223 257.5,-223 263.5,-229 263.5,-235 263.5,-235 263.5,-294 263.5,-294 263.5,-300 257.5,-306 251.5,-306\"/>\n",
       "<text text-anchor=\"start\" x=\"77.5\" y=\"-290.8\" font-family=\"Helvetica,sans-Serif\" font-size=\"14.00\">FEB_CANX_LEFT_Y ≤ 0.5</text>\n",
       "<text text-anchor=\"start\" x=\"132\" y=\"-275.8\" font-family=\"Helvetica,sans-Serif\" font-size=\"14.00\">gini = 0.0</text>\n",
       "<text text-anchor=\"start\" x=\"106\" y=\"-260.8\" font-family=\"Helvetica,sans-Serif\" font-size=\"14.00\">samples = 11100</text>\n",
       "<text text-anchor=\"start\" x=\"100\" y=\"-245.8\" font-family=\"Helvetica,sans-Serif\" font-size=\"14.00\">value = [1, 11099]</text>\n",
       "<text text-anchor=\"start\" x=\"135.5\" y=\"-230.8\" font-family=\"Helvetica,sans-Serif\" font-size=\"14.00\">class = F</text>\n",
       "</g>\n",
       "<!-- 2&#45;&gt;3 -->\n",
       "<g id=\"edge3\" class=\"edge\"><title>2&#45;&gt;3</title>\n",
       "<path fill=\"none\" stroke=\"black\" d=\"M270.336,-341.907C257.263,-332.288 243.219,-321.953 229.815,-312.09\"/>\n",
       "<polygon fill=\"black\" stroke=\"black\" points=\"231.696,-309.129 221.567,-306.021 227.547,-314.767 231.696,-309.129\"/>\n",
       "</g>\n",
       "<!-- 8 -->\n",
       "<g id=\"node9\" class=\"node\"><title>8</title>\n",
       "<path fill=\"#e58139\" stroke=\"black\" d=\"M383,-298.5C383,-298.5 294,-298.5 294,-298.5 288,-298.5 282,-292.5 282,-286.5 282,-286.5 282,-242.5 282,-242.5 282,-236.5 288,-230.5 294,-230.5 294,-230.5 383,-230.5 383,-230.5 389,-230.5 395,-236.5 395,-242.5 395,-242.5 395,-286.5 395,-286.5 395,-292.5 389,-298.5 383,-298.5\"/>\n",
       "<text text-anchor=\"start\" x=\"304\" y=\"-283.3\" font-family=\"Helvetica,sans-Serif\" font-size=\"14.00\">gini = 0.0</text>\n",
       "<text text-anchor=\"start\" x=\"296\" y=\"-268.3\" font-family=\"Helvetica,sans-Serif\" font-size=\"14.00\">samples = 1</text>\n",
       "<text text-anchor=\"start\" x=\"290\" y=\"-253.3\" font-family=\"Helvetica,sans-Serif\" font-size=\"14.00\">value = [1, 0]</text>\n",
       "<text text-anchor=\"start\" x=\"307\" y=\"-238.3\" font-family=\"Helvetica,sans-Serif\" font-size=\"14.00\">class = P</text>\n",
       "</g>\n",
       "<!-- 2&#45;&gt;8 -->\n",
       "<g id=\"edge8\" class=\"edge\"><title>2&#45;&gt;8</title>\n",
       "<path fill=\"none\" stroke=\"black\" d=\"M330.01,-341.907C331.2,-331.204 332.487,-319.615 333.692,-308.776\"/>\n",
       "<polygon fill=\"black\" stroke=\"black\" points=\"337.189,-308.992 334.815,-298.667 330.232,-308.219 337.189,-308.992\"/>\n",
       "</g>\n",
       "<!-- 4 -->\n",
       "<g id=\"node5\" class=\"node\"><title>4</title>\n",
       "<path fill=\"#399de5\" stroke=\"black\" d=\"M137,-179.5C137,-179.5 12,-179.5 12,-179.5 6,-179.5 1.42109e-14,-173.5 1.42109e-14,-167.5 1.42109e-14,-167.5 1.42109e-14,-123.5 1.42109e-14,-123.5 1.42109e-14,-117.5 6,-111.5 12,-111.5 12,-111.5 137,-111.5 137,-111.5 143,-111.5 149,-117.5 149,-123.5 149,-123.5 149,-167.5 149,-167.5 149,-173.5 143,-179.5 137,-179.5\"/>\n",
       "<text text-anchor=\"start\" x=\"40\" y=\"-164.3\" font-family=\"Helvetica,sans-Serif\" font-size=\"14.00\">gini = 0.0</text>\n",
       "<text text-anchor=\"start\" x=\"14\" y=\"-149.3\" font-family=\"Helvetica,sans-Serif\" font-size=\"14.00\">samples = 11097</text>\n",
       "<text text-anchor=\"start\" x=\"8\" y=\"-134.3\" font-family=\"Helvetica,sans-Serif\" font-size=\"14.00\">value = [0, 11097]</text>\n",
       "<text text-anchor=\"start\" x=\"43.5\" y=\"-119.3\" font-family=\"Helvetica,sans-Serif\" font-size=\"14.00\">class = F</text>\n",
       "</g>\n",
       "<!-- 3&#45;&gt;4 -->\n",
       "<g id=\"edge4\" class=\"edge\"><title>3&#45;&gt;4</title>\n",
       "<path fill=\"none\" stroke=\"black\" d=\"M134.581,-222.907C125.644,-211.542 115.922,-199.178 106.955,-187.774\"/>\n",
       "<polygon fill=\"black\" stroke=\"black\" points=\"109.513,-185.364 100.58,-179.667 104.01,-189.691 109.513,-185.364\"/>\n",
       "</g>\n",
       "<!-- 5 -->\n",
       "<g id=\"node6\" class=\"node\"><title>5</title>\n",
       "<path fill=\"#399de5\" fill-opacity=\"0.498039\" stroke=\"black\" d=\"M340.5,-187C340.5,-187 178.5,-187 178.5,-187 172.5,-187 166.5,-181 166.5,-175 166.5,-175 166.5,-116 166.5,-116 166.5,-110 172.5,-104 178.5,-104 178.5,-104 340.5,-104 340.5,-104 346.5,-104 352.5,-110 352.5,-116 352.5,-116 352.5,-175 352.5,-175 352.5,-181 346.5,-187 340.5,-187\"/>\n",
       "<text text-anchor=\"start\" x=\"174.5\" y=\"-171.8\" font-family=\"Helvetica,sans-Serif\" font-size=\"14.00\">AGE_AT_START ≤ 18.45</text>\n",
       "<text text-anchor=\"start\" x=\"216\" y=\"-156.8\" font-family=\"Helvetica,sans-Serif\" font-size=\"14.00\">gini = 0.444</text>\n",
       "<text text-anchor=\"start\" x=\"217\" y=\"-141.8\" font-family=\"Helvetica,sans-Serif\" font-size=\"14.00\">samples = 3</text>\n",
       "<text text-anchor=\"start\" x=\"211\" y=\"-126.8\" font-family=\"Helvetica,sans-Serif\" font-size=\"14.00\">value = [1, 2]</text>\n",
       "<text text-anchor=\"start\" x=\"228.5\" y=\"-111.8\" font-family=\"Helvetica,sans-Serif\" font-size=\"14.00\">class = F</text>\n",
       "</g>\n",
       "<!-- 3&#45;&gt;5 -->\n",
       "<g id=\"edge5\" class=\"edge\"><title>3&#45;&gt;5</title>\n",
       "<path fill=\"none\" stroke=\"black\" d=\"M198.766,-222.907C205.907,-213.923 213.544,-204.315 220.909,-195.05\"/>\n",
       "<polygon fill=\"black\" stroke=\"black\" points=\"223.809,-197.027 227.291,-187.021 218.329,-192.671 223.809,-197.027\"/>\n",
       "</g>\n",
       "<!-- 6 -->\n",
       "<g id=\"node7\" class=\"node\"><title>6</title>\n",
       "<path fill=\"#e58139\" stroke=\"black\" d=\"M238,-68C238,-68 149,-68 149,-68 143,-68 137,-62 137,-56 137,-56 137,-12 137,-12 137,-6 143,-0 149,-0 149,-0 238,-0 238,-0 244,-0 250,-6 250,-12 250,-12 250,-56 250,-56 250,-62 244,-68 238,-68\"/>\n",
       "<text text-anchor=\"start\" x=\"159\" y=\"-52.8\" font-family=\"Helvetica,sans-Serif\" font-size=\"14.00\">gini = 0.0</text>\n",
       "<text text-anchor=\"start\" x=\"151\" y=\"-37.8\" font-family=\"Helvetica,sans-Serif\" font-size=\"14.00\">samples = 1</text>\n",
       "<text text-anchor=\"start\" x=\"145\" y=\"-22.8\" font-family=\"Helvetica,sans-Serif\" font-size=\"14.00\">value = [1, 0]</text>\n",
       "<text text-anchor=\"start\" x=\"162\" y=\"-7.8\" font-family=\"Helvetica,sans-Serif\" font-size=\"14.00\">class = P</text>\n",
       "</g>\n",
       "<!-- 5&#45;&gt;6 -->\n",
       "<g id=\"edge6\" class=\"edge\"><title>5&#45;&gt;6</title>\n",
       "<path fill=\"none\" stroke=\"black\" d=\"M234.924,-103.726C229.646,-94.9703 224.061,-85.7032 218.758,-76.9051\"/>\n",
       "<polygon fill=\"black\" stroke=\"black\" points=\"221.731,-75.0574 213.571,-68.2996 215.736,-78.671 221.731,-75.0574\"/>\n",
       "</g>\n",
       "<!-- 7 -->\n",
       "<g id=\"node8\" class=\"node\"><title>7</title>\n",
       "<path fill=\"#399de5\" stroke=\"black\" d=\"M369,-68C369,-68 280,-68 280,-68 274,-68 268,-62 268,-56 268,-56 268,-12 268,-12 268,-6 274,-0 280,-0 280,-0 369,-0 369,-0 375,-0 381,-6 381,-12 381,-12 381,-56 381,-56 381,-62 375,-68 369,-68\"/>\n",
       "<text text-anchor=\"start\" x=\"290\" y=\"-52.8\" font-family=\"Helvetica,sans-Serif\" font-size=\"14.00\">gini = 0.0</text>\n",
       "<text text-anchor=\"start\" x=\"282\" y=\"-37.8\" font-family=\"Helvetica,sans-Serif\" font-size=\"14.00\">samples = 2</text>\n",
       "<text text-anchor=\"start\" x=\"276\" y=\"-22.8\" font-family=\"Helvetica,sans-Serif\" font-size=\"14.00\">value = [0, 2]</text>\n",
       "<text text-anchor=\"start\" x=\"293.5\" y=\"-7.8\" font-family=\"Helvetica,sans-Serif\" font-size=\"14.00\">class = F</text>\n",
       "</g>\n",
       "<!-- 5&#45;&gt;7 -->\n",
       "<g id=\"edge7\" class=\"edge\"><title>5&#45;&gt;7</title>\n",
       "<path fill=\"none\" stroke=\"black\" d=\"M283.704,-103.726C288.901,-94.9703 294.402,-85.7032 299.625,-76.9051\"/>\n",
       "<polygon fill=\"black\" stroke=\"black\" points=\"302.638,-78.6853 304.733,-68.2996 296.619,-75.1121 302.638,-78.6853\"/>\n",
       "</g>\n",
       "<!-- 10 -->\n",
       "<g id=\"node11\" class=\"node\"><title>10</title>\n",
       "<path fill=\"#e58139\" stroke=\"black\" d=\"M548.5,-298.5C548.5,-298.5 450.5,-298.5 450.5,-298.5 444.5,-298.5 438.5,-292.5 438.5,-286.5 438.5,-286.5 438.5,-242.5 438.5,-242.5 438.5,-236.5 444.5,-230.5 450.5,-230.5 450.5,-230.5 548.5,-230.5 548.5,-230.5 554.5,-230.5 560.5,-236.5 560.5,-242.5 560.5,-242.5 560.5,-286.5 560.5,-286.5 560.5,-292.5 554.5,-298.5 548.5,-298.5\"/>\n",
       "<text text-anchor=\"start\" x=\"465\" y=\"-283.3\" font-family=\"Helvetica,sans-Serif\" font-size=\"14.00\">gini = 0.0</text>\n",
       "<text text-anchor=\"start\" x=\"452.5\" y=\"-268.3\" font-family=\"Helvetica,sans-Serif\" font-size=\"14.00\">samples = 33</text>\n",
       "<text text-anchor=\"start\" x=\"446.5\" y=\"-253.3\" font-family=\"Helvetica,sans-Serif\" font-size=\"14.00\">value = [33, 0]</text>\n",
       "<text text-anchor=\"start\" x=\"468\" y=\"-238.3\" font-family=\"Helvetica,sans-Serif\" font-size=\"14.00\">class = P</text>\n",
       "</g>\n",
       "<!-- 9&#45;&gt;10 -->\n",
       "<g id=\"edge10\" class=\"edge\"><title>9&#45;&gt;10</title>\n",
       "<path fill=\"none\" stroke=\"black\" d=\"M507.337,-341.907C506.239,-331.204 505.05,-319.615 503.939,-308.776\"/>\n",
       "<polygon fill=\"black\" stroke=\"black\" points=\"507.404,-308.258 502.902,-298.667 500.44,-308.972 507.404,-308.258\"/>\n",
       "</g>\n",
       "<!-- 11 -->\n",
       "<g id=\"node12\" class=\"node\"><title>11</title>\n",
       "<path fill=\"#399de5\" stroke=\"black\" d=\"M680,-298.5C680,-298.5 591,-298.5 591,-298.5 585,-298.5 579,-292.5 579,-286.5 579,-286.5 579,-242.5 579,-242.5 579,-236.5 585,-230.5 591,-230.5 591,-230.5 680,-230.5 680,-230.5 686,-230.5 692,-236.5 692,-242.5 692,-242.5 692,-286.5 692,-286.5 692,-292.5 686,-298.5 680,-298.5\"/>\n",
       "<text text-anchor=\"start\" x=\"601\" y=\"-283.3\" font-family=\"Helvetica,sans-Serif\" font-size=\"14.00\">gini = 0.0</text>\n",
       "<text text-anchor=\"start\" x=\"593\" y=\"-268.3\" font-family=\"Helvetica,sans-Serif\" font-size=\"14.00\">samples = 2</text>\n",
       "<text text-anchor=\"start\" x=\"587\" y=\"-253.3\" font-family=\"Helvetica,sans-Serif\" font-size=\"14.00\">value = [0, 2]</text>\n",
       "<text text-anchor=\"start\" x=\"604.5\" y=\"-238.3\" font-family=\"Helvetica,sans-Serif\" font-size=\"14.00\">class = F</text>\n",
       "</g>\n",
       "<!-- 9&#45;&gt;11 -->\n",
       "<g id=\"edge11\" class=\"edge\"><title>9&#45;&gt;11</title>\n",
       "<path fill=\"none\" stroke=\"black\" d=\"M554.521,-341.907C566.918,-330.211 580.434,-317.457 592.81,-305.78\"/>\n",
       "<polygon fill=\"black\" stroke=\"black\" points=\"595.477,-308.075 600.349,-298.667 590.673,-302.984 595.477,-308.075\"/>\n",
       "</g>\n",
       "</g>\n",
       "</svg>\n"
      ],
      "text/plain": [
       "<graphviz.files.Source at 0x7fe78d6194a8>"
      ]
     },
     "execution_count": 19,
     "metadata": {},
     "output_type": "execute_result"
    }
   ],
   "source": [
    "graph"
   ]
  },
  {
   "cell_type": "code",
   "execution_count": 20,
   "metadata": {},
   "outputs": [
    {
     "data": {
      "text/plain": [
       "'../figures/tree.dot.pdf'"
      ]
     },
     "execution_count": 20,
     "metadata": {},
     "output_type": "execute_result"
    }
   ],
   "source": [
    "graph.render(\"../figures/tree.dot\") # dot -Tpdf -O figures/graph.dot"
   ]
  },
  {
   "cell_type": "code",
   "execution_count": null,
   "metadata": {},
   "outputs": [],
   "source": []
  }
 ],
 "metadata": {
  "kernelspec": {
   "display_name": "Python 3",
   "language": "python",
   "name": "python3"
  },
  "language_info": {
   "codemirror_mode": {
    "name": "ipython",
    "version": 3
   },
   "file_extension": ".py",
   "mimetype": "text/x-python",
   "name": "python",
   "nbconvert_exporter": "python",
   "pygments_lexer": "ipython3",
   "version": "3.5.2"
  }
 },
 "nbformat": 4,
 "nbformat_minor": 2
}
