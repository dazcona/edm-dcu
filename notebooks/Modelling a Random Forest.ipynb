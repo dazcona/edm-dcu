{
 "cells": [
  {
   "cell_type": "markdown",
   "metadata": {},
   "source": [
    "# Modelling a Random Forest classifier"
   ]
  },
  {
   "cell_type": "code",
   "execution_count": 1,
   "metadata": {},
   "outputs": [],
   "source": [
    "import pandas as pd\n",
    "import numpy as np\n",
    "from sklearn.ensemble import RandomForestClassifier\n",
    "from sklearn.model_selection import ShuffleSplit\n",
    "from sklearn.model_selection import cross_val_score\n",
    "from sklearn.metrics import classification_report"
   ]
  },
  {
   "cell_type": "code",
   "execution_count": 2,
   "metadata": {},
   "outputs": [],
   "source": [
    "import matplotlib.pyplot as plt\n",
    "%matplotlib inline\n",
    "font = { 'family': 'DejaVu Sans', 'weight': 'bold', 'size': 16 }\n",
    "plt.rc('font', **font)"
   ]
  },
  {
   "cell_type": "markdown",
   "metadata": {},
   "source": [
    "### Feature names"
   ]
  },
  {
   "cell_type": "code",
   "execution_count": 3,
   "metadata": {},
   "outputs": [],
   "source": [
    "with open('../data/feature_names.txt') as f:\n",
    "    feature_names = [ line.strip() for line in f.readlines() ]"
   ]
  },
  {
   "cell_type": "code",
   "execution_count": 4,
   "metadata": {},
   "outputs": [
    {
     "data": {
      "text/plain": [
       "['YEAR_2014', 'YEAR_2015', 'YEAR_2016']"
      ]
     },
     "execution_count": 4,
     "metadata": {},
     "output_type": "execute_result"
    }
   ],
   "source": [
    "feature_names[:3]"
   ]
  },
  {
   "cell_type": "markdown",
   "metadata": {},
   "source": [
    "### X and Y"
   ]
  },
  {
   "cell_type": "code",
   "execution_count": 5,
   "metadata": {},
   "outputs": [],
   "source": [
    "X_train = np.load('../data/X_train.npy')"
   ]
  },
  {
   "cell_type": "code",
   "execution_count": 6,
   "metadata": {},
   "outputs": [
    {
     "data": {
      "text/plain": [
       "(12648, 888)"
      ]
     },
     "execution_count": 6,
     "metadata": {},
     "output_type": "execute_result"
    }
   ],
   "source": [
    "X_train.shape"
   ]
  },
  {
   "cell_type": "code",
   "execution_count": 7,
   "metadata": {},
   "outputs": [],
   "source": [
    "X_test = np.load('../data/X_test.npy')"
   ]
  },
  {
   "cell_type": "code",
   "execution_count": 8,
   "metadata": {},
   "outputs": [
    {
     "data": {
      "text/plain": [
       "(3163, 888)"
      ]
     },
     "execution_count": 8,
     "metadata": {},
     "output_type": "execute_result"
    }
   ],
   "source": [
    "X_test.shape"
   ]
  },
  {
   "cell_type": "code",
   "execution_count": 9,
   "metadata": {},
   "outputs": [],
   "source": [
    "y_train = np.load('../data/y_train.npy')"
   ]
  },
  {
   "cell_type": "code",
   "execution_count": 10,
   "metadata": {},
   "outputs": [
    {
     "data": {
      "text/plain": [
       "(12648,)"
      ]
     },
     "execution_count": 10,
     "metadata": {},
     "output_type": "execute_result"
    }
   ],
   "source": [
    "y_train.shape"
   ]
  },
  {
   "cell_type": "code",
   "execution_count": 11,
   "metadata": {},
   "outputs": [],
   "source": [
    "y_test = np.load('../data/y_test.npy')"
   ]
  },
  {
   "cell_type": "code",
   "execution_count": 12,
   "metadata": {},
   "outputs": [
    {
     "data": {
      "text/plain": [
       "(3163,)"
      ]
     },
     "execution_count": 12,
     "metadata": {},
     "output_type": "execute_result"
    }
   ],
   "source": [
    "y_test.shape"
   ]
  },
  {
   "cell_type": "markdown",
   "metadata": {},
   "source": [
    "### Modelling"
   ]
  },
  {
   "cell_type": "code",
   "execution_count": 13,
   "metadata": {},
   "outputs": [],
   "source": [
    "model = RandomForestClassifier(random_state=42)"
   ]
  },
  {
   "cell_type": "code",
   "execution_count": 14,
   "metadata": {},
   "outputs": [
    {
     "data": {
      "text/plain": [
       "RandomForestClassifier(bootstrap=True, class_weight=None, criterion='gini',\n",
       "            max_depth=None, max_features='auto', max_leaf_nodes=None,\n",
       "            min_impurity_decrease=0.0, min_impurity_split=None,\n",
       "            min_samples_leaf=1, min_samples_split=2,\n",
       "            min_weight_fraction_leaf=0.0, n_estimators=10, n_jobs=1,\n",
       "            oob_score=False, random_state=42, verbose=0, warm_start=False)"
      ]
     },
     "execution_count": 14,
     "metadata": {},
     "output_type": "execute_result"
    }
   ],
   "source": [
    "model.fit(X_train, y_train)"
   ]
  },
  {
   "cell_type": "code",
   "execution_count": 15,
   "metadata": {},
   "outputs": [
    {
     "data": {
      "text/plain": [
       "1.0"
      ]
     },
     "execution_count": 15,
     "metadata": {},
     "output_type": "execute_result"
    }
   ],
   "source": [
    "model.score(X_test, y_test)"
   ]
  },
  {
   "cell_type": "code",
   "execution_count": 16,
   "metadata": {},
   "outputs": [
    {
     "data": {
      "text/plain": [
       "array([False,  True])"
      ]
     },
     "execution_count": 16,
     "metadata": {},
     "output_type": "execute_result"
    }
   ],
   "source": [
    "model.classes_"
   ]
  },
  {
   "cell_type": "code",
   "execution_count": 17,
   "metadata": {},
   "outputs": [
    {
     "data": {
      "text/plain": [
       "DecisionTreeClassifier(class_weight=None, criterion='gini', max_depth=None,\n",
       "            max_features=None, max_leaf_nodes=None,\n",
       "            min_impurity_decrease=0.0, min_impurity_split=None,\n",
       "            min_samples_leaf=1, min_samples_split=2,\n",
       "            min_weight_fraction_leaf=0.0, presort=False, random_state=None,\n",
       "            splitter='best')"
      ]
     },
     "execution_count": 17,
     "metadata": {},
     "output_type": "execute_result"
    }
   ],
   "source": [
    "model.base_estimator_"
   ]
  },
  {
   "cell_type": "code",
   "execution_count": 18,
   "metadata": {},
   "outputs": [],
   "source": [
    "y_pred = model.predict(X_test)"
   ]
  },
  {
   "cell_type": "code",
   "execution_count": 19,
   "metadata": {},
   "outputs": [
    {
     "data": {
      "text/plain": [
       "0.8808093582042364"
      ]
     },
     "execution_count": 19,
     "metadata": {},
     "output_type": "execute_result"
    }
   ],
   "source": [
    "sum(y_pred) / float(len(y_pred))"
   ]
  },
  {
   "cell_type": "code",
   "execution_count": 20,
   "metadata": {},
   "outputs": [
    {
     "name": "stdout",
     "output_type": "stream",
     "text": [
      "             precision    recall  f1-score   support\n",
      "\n",
      "      False       1.00      1.00      1.00       377\n",
      "       True       1.00      1.00      1.00      2786\n",
      "\n",
      "avg / total       1.00      1.00      1.00      3163\n",
      "\n"
     ]
    }
   ],
   "source": [
    "print(classification_report(y_test, y_pred))"
   ]
  },
  {
   "cell_type": "code",
   "execution_count": 21,
   "metadata": {},
   "outputs": [],
   "source": [
    "importances = model.feature_importances_"
   ]
  },
  {
   "cell_type": "code",
   "execution_count": 22,
   "metadata": {
    "scrolled": false
   },
   "outputs": [],
   "source": [
    "# importances"
   ]
  },
  {
   "cell_type": "code",
   "execution_count": 23,
   "metadata": {},
   "outputs": [],
   "source": [
    "indices = np.argsort(importances)[::-1]"
   ]
  },
  {
   "cell_type": "code",
   "execution_count": 24,
   "metadata": {},
   "outputs": [],
   "source": [
    "# indices"
   ]
  },
  {
   "cell_type": "code",
   "execution_count": 27,
   "metadata": {
    "scrolled": false
   },
   "outputs": [
    {
     "name": "stdout",
     "output_type": "stream",
     "text": [
      "Feature ranking:\n",
      "1. Feature FIRST_RESULT_P [821] (0.193513)\n",
      "2. Feature Y2_RETURN_N [728] (0.143343)\n",
      "3. Feature Y2_RETURN_Y [729] (0.093925)\n",
      "4. Feature PASS_M8_N [737] (0.092339)\n",
      "5. Feature FIRST_RESULT_F [819] (0.084504)\n",
      "6. Feature PASS_M5_Y [735] (0.084378)\n",
      "7. Feature NUM_M5_FAILS [838] (0.058982)\n",
      "8. Feature NEXT_RESULT_P [727] (0.041122)\n",
      "9. Feature PASS_M8_0 [736] (0.032744)\n",
      "10. Feature PASS_M8_Y [738] (0.018662)\n",
      "11. Feature TOTAL_YEARS [823] (0.016341)\n",
      "12. Feature PASS_M5_N [734] (0.015935)\n",
      "13. Feature NUM_M8_SUBJECTS [836] (0.012024)\n",
      "14. Feature EARLY_TRANSFER_N [5] (0.009571)\n",
      "15. Feature NUM_M1_FAILS [837] (0.006141)\n",
      "16. Feature PASS_M1_N [731] (0.004311)\n",
      "17. Feature CAO_POINTS [827] (0.003522)\n",
      "18. Feature NEXT_CODE_CA [677] (0.003349)\n",
      "19. Feature PREV_RESULT_F [429] (0.002064)\n",
      "20. Feature NUM_MAY_TYPE_D [882] (0.001914)\n",
      "21. Feature FIRST_CANX_2017.0 [644] (0.001876)\n",
      "22. Feature YEARS_SINCE_LC [826] (0.001818)\n",
      "23. Feature DAYS_TO_FIRST_REG [824] (0.001797)\n",
      "24. Feature BIO_SEX_M [740] (0.001775)\n",
      "25. Feature NUM_SUBJECTS [830] (0.001590)\n",
      "etc\n"
     ]
    }
   ],
   "source": [
    "# Print the feature ranking\n",
    "print(\"Feature ranking:\")\n",
    "for f in range(len(feature_names))[:25]:\n",
    "    print(\"%d. Feature %s [%d] (%f)\" % (f + 1, feature_names[indices[f]], indices[f], importances[indices[f]]))\n",
    "print('etc')"
   ]
  },
  {
   "cell_type": "code",
   "execution_count": 28,
   "metadata": {},
   "outputs": [
    {
     "data": {
      "image/png": "[encoded data removed]",
      "text/plain": [
       "<Figure size 1152x288 with 1 Axes>"
      ]
     },
     "metadata": {},
     "output_type": "display_data"
    }
   ],
   "source": [
    "N = 10\n",
    "\n",
    "# Plot the feature importances of the forest\n",
    "plt.figure(figsize=(16, 4))\n",
    "plt.title(\"Top-{} Feature importances\".format(N))\n",
    "# plt.bar(range(len(feature_names)), importances[indices], color=\"b\", align=\"center\")\n",
    "plt.bar(range(N), importances[indices][:N], color=\"b\", align=\"center\")\n",
    "# plt.xticks(range(len(feature_names)), indices)\n",
    "plt.xticks(range(N), [ feature_names[index].replace('_', '\\n') for index in indices[:N] ])\n",
    "plt.xlim([-1, N])\n",
    "plt.savefig('../figures/modelling_Random_Forest_Top_10_Feature_Importances.png', bbox_inches=\"tight\")\n",
    "plt.show()"
   ]
  },
  {
   "cell_type": "markdown",
   "metadata": {},
   "source": [
    "## Dropping important columns"
   ]
  },
  {
   "cell_type": "code",
   "execution_count": 29,
   "metadata": {},
   "outputs": [],
   "source": [
    "patterns_to_drop = [\n",
    "    'FIRST_RESULT_',\n",
    "    'Y2_RETURN_',\n",
    "    'NUM_M1_FAILS',\n",
    "    'NUM_M5_FAILS',\n",
    "    'PASS_M1_',\n",
    "    'PASS_M5_',\n",
    "    'PASS_M8_',\n",
    "    'NEXT_RESULT_',\n",
    "]"
   ]
  },
  {
   "cell_type": "code",
   "execution_count": 30,
   "metadata": {},
   "outputs": [],
   "source": [
    "cols_to_drop = [col for col in feature_names for pattern in patterns_to_drop if pattern in col]"
   ]
  },
  {
   "cell_type": "code",
   "execution_count": 31,
   "metadata": {},
   "outputs": [
    {
     "data": {
      "text/plain": [
       "['NEXT_RESULT_F',\n",
       " 'NEXT_RESULT_F0',\n",
       " 'NEXT_RESULT_P',\n",
       " 'Y2_RETURN_N',\n",
       " 'Y2_RETURN_Y',\n",
       " 'PASS_M1_0',\n",
       " 'PASS_M1_N',\n",
       " 'PASS_M1_Y',\n",
       " 'PASS_M5_0',\n",
       " 'PASS_M5_N',\n",
       " 'PASS_M5_Y',\n",
       " 'PASS_M8_0',\n",
       " 'PASS_M8_N',\n",
       " 'PASS_M8_Y',\n",
       " 'FIRST_RESULT_F',\n",
       " 'FIRST_RESULT_F0',\n",
       " 'FIRST_RESULT_P',\n",
       " 'NUM_M1_FAILS',\n",
       " 'NUM_M5_FAILS']"
      ]
     },
     "execution_count": 31,
     "metadata": {},
     "output_type": "execute_result"
    }
   ],
   "source": [
    "cols_to_drop"
   ]
  },
  {
   "cell_type": "code",
   "execution_count": 32,
   "metadata": {},
   "outputs": [],
   "source": [
    "indexes_to_drop = [ feature_names.index(col) for col in cols_to_drop ]"
   ]
  },
  {
   "cell_type": "code",
   "execution_count": 33,
   "metadata": {},
   "outputs": [
    {
     "data": {
      "text/plain": [
       "[725,\n",
       " 726,\n",
       " 727,\n",
       " 728,\n",
       " 729,\n",
       " 730,\n",
       " 731,\n",
       " 732,\n",
       " 733,\n",
       " 734,\n",
       " 735,\n",
       " 736,\n",
       " 737,\n",
       " 738,\n",
       " 819,\n",
       " 820,\n",
       " 821,\n",
       " 837,\n",
       " 838]"
      ]
     },
     "execution_count": 33,
     "metadata": {},
     "output_type": "execute_result"
    }
   ],
   "source": [
    "indexes_to_drop"
   ]
  },
  {
   "cell_type": "code",
   "execution_count": 34,
   "metadata": {},
   "outputs": [],
   "source": [
    "X_train = np.delete(X_train, indexes_to_drop, axis=1)"
   ]
  },
  {
   "cell_type": "code",
   "execution_count": 35,
   "metadata": {},
   "outputs": [
    {
     "data": {
      "text/plain": [
       "(12648, 869)"
      ]
     },
     "execution_count": 35,
     "metadata": {},
     "output_type": "execute_result"
    }
   ],
   "source": [
    "X_train.shape"
   ]
  },
  {
   "cell_type": "code",
   "execution_count": 36,
   "metadata": {},
   "outputs": [],
   "source": [
    "X_test = np.delete(X_test, indexes_to_drop, axis=1)"
   ]
  },
  {
   "cell_type": "code",
   "execution_count": 37,
   "metadata": {},
   "outputs": [
    {
     "data": {
      "text/plain": [
       "(3163, 869)"
      ]
     },
     "execution_count": 37,
     "metadata": {},
     "output_type": "execute_result"
    }
   ],
   "source": [
    "X_test.shape"
   ]
  },
  {
   "cell_type": "code",
   "execution_count": 39,
   "metadata": {},
   "outputs": [],
   "source": [
    "# Note that you need to delete them in reverse order so that you don't throw off the subsequent indexes.\n",
    "for index in sorted(indexes_to_drop, reverse=True):\n",
    "    del feature_names[index]"
   ]
  },
  {
   "cell_type": "code",
   "execution_count": 40,
   "metadata": {},
   "outputs": [
    {
     "data": {
      "text/plain": [
       "869"
      ]
     },
     "execution_count": 40,
     "metadata": {},
     "output_type": "execute_result"
    }
   ],
   "source": [
    "len(feature_names)"
   ]
  },
  {
   "cell_type": "code",
   "execution_count": 41,
   "metadata": {},
   "outputs": [],
   "source": [
    "model = RandomForestClassifier(random_state=42)"
   ]
  },
  {
   "cell_type": "code",
   "execution_count": 42,
   "metadata": {},
   "outputs": [
    {
     "data": {
      "text/plain": [
       "RandomForestClassifier(bootstrap=True, class_weight=None, criterion='gini',\n",
       "            max_depth=None, max_features='auto', max_leaf_nodes=None,\n",
       "            min_impurity_decrease=0.0, min_impurity_split=None,\n",
       "            min_samples_leaf=1, min_samples_split=2,\n",
       "            min_weight_fraction_leaf=0.0, n_estimators=10, n_jobs=1,\n",
       "            oob_score=False, random_state=42, verbose=0, warm_start=False)"
      ]
     },
     "execution_count": 42,
     "metadata": {},
     "output_type": "execute_result"
    }
   ],
   "source": [
    "model.fit(X_train, y_train)"
   ]
  },
  {
   "cell_type": "code",
   "execution_count": 43,
   "metadata": {},
   "outputs": [
    {
     "data": {
      "text/plain": [
       "0.9516282010749288"
      ]
     },
     "execution_count": 43,
     "metadata": {},
     "output_type": "execute_result"
    }
   ],
   "source": [
    "model.score(X_test, y_test)"
   ]
  },
  {
   "cell_type": "code",
   "execution_count": 44,
   "metadata": {},
   "outputs": [
    {
     "data": {
      "text/plain": [
       "array([False,  True])"
      ]
     },
     "execution_count": 44,
     "metadata": {},
     "output_type": "execute_result"
    }
   ],
   "source": [
    "model.classes_"
   ]
  },
  {
   "cell_type": "code",
   "execution_count": 45,
   "metadata": {},
   "outputs": [
    {
     "data": {
      "text/plain": [
       "DecisionTreeClassifier(class_weight=None, criterion='gini', max_depth=None,\n",
       "            max_features=None, max_leaf_nodes=None,\n",
       "            min_impurity_decrease=0.0, min_impurity_split=None,\n",
       "            min_samples_leaf=1, min_samples_split=2,\n",
       "            min_weight_fraction_leaf=0.0, presort=False, random_state=None,\n",
       "            splitter='best')"
      ]
     },
     "execution_count": 45,
     "metadata": {},
     "output_type": "execute_result"
    }
   ],
   "source": [
    "model.base_estimator_"
   ]
  },
  {
   "cell_type": "code",
   "execution_count": 46,
   "metadata": {},
   "outputs": [],
   "source": [
    "y_pred = model.predict(X_test)"
   ]
  },
  {
   "cell_type": "code",
   "execution_count": 47,
   "metadata": {},
   "outputs": [
    {
     "data": {
      "text/plain": [
       "0.9007271577616187"
      ]
     },
     "execution_count": 47,
     "metadata": {},
     "output_type": "execute_result"
    }
   ],
   "source": [
    "sum(y_pred) / float(len(y_pred))"
   ]
  },
  {
   "cell_type": "code",
   "execution_count": 48,
   "metadata": {},
   "outputs": [
    {
     "name": "stdout",
     "output_type": "stream",
     "text": [
      "             precision    recall  f1-score   support\n",
      "\n",
      "      False       0.86      0.71      0.78       377\n",
      "       True       0.96      0.98      0.97      2786\n",
      "\n",
      "avg / total       0.95      0.95      0.95      3163\n",
      "\n"
     ]
    }
   ],
   "source": [
    "print(classification_report(y_test, y_pred))"
   ]
  },
  {
   "cell_type": "code",
   "execution_count": 49,
   "metadata": {},
   "outputs": [],
   "source": [
    "importances = model.feature_importances_"
   ]
  },
  {
   "cell_type": "code",
   "execution_count": 50,
   "metadata": {},
   "outputs": [],
   "source": [
    "# importances"
   ]
  },
  {
   "cell_type": "code",
   "execution_count": 51,
   "metadata": {},
   "outputs": [],
   "source": [
    "indices = np.argsort(importances)[::-1]"
   ]
  },
  {
   "cell_type": "code",
   "execution_count": 52,
   "metadata": {},
   "outputs": [],
   "source": [
    "# indices"
   ]
  },
  {
   "cell_type": "code",
   "execution_count": 54,
   "metadata": {
    "scrolled": false
   },
   "outputs": [
    {
     "name": "stdout",
     "output_type": "stream",
     "text": [
      "Feature ranking:\n",
      "1. Feature NUM_M8_SUBJECTS [819] (0.244981)\n",
      "2. Feature TOTAL_YEARS [806] (0.104532)\n",
      "3. Feature NUM_FEB_ACCESS_DAYS [851] (0.018228)\n",
      "4. Feature AGE_AT_START [820] (0.015441)\n",
      "5. Feature CAO_POINTS [810] (0.014768)\n",
      "6. Feature DAYS_TO_FIRST_LOAN [822] (0.013780)\n",
      "7. Feature DAYS_TO_FIRST_REG [807] (0.013503)\n",
      "8. Feature NUM_M1_SUBJECTS [817] (0.012169)\n",
      "9. Feature SCH_ENROLMENTS [808] (0.011614)\n",
      "10. Feature DAYS_TO_FIRST_ACCESS [824] (0.009955)\n",
      "11. Feature LC_MATHS_POINTS [811] (0.009905)\n",
      "12. Feature NUM_EARLY_ACCESS_DAYS [842] (0.009542)\n",
      "13. Feature YR_NUM [805] (0.009296)\n",
      "14. Feature DAYS_TO_FIRST_LAB [823] (0.008723)\n",
      "15. Feature DAYS_TO_FIRST_CRM [867] (0.008158)\n",
      "16. Feature NUM_SOCIETIES [815] (0.008112)\n",
      "17. Feature DAYS_FIRST_SUBMITTED_EARLY [826] (0.007505)\n",
      "18. Feature NUM_EARLY_ASSIGNMENTS [835] (0.007258)\n",
      "19. Feature NUM_M5_SUBJECTS [818] (0.007122)\n",
      "20. Feature EARLY_Q2_SUBS_PC [838] (0.006765)\n",
      "21. Feature NEXT_CODE_CE [681] (0.006714)\n",
      "22. Feature NUM_MEMBERSHIPS [814] (0.006562)\n",
      "23. Feature NEXT_CODE_BS [674] (0.006483)\n",
      "24. Feature NUM_SUBJECTS [813] (0.006389)\n",
      "25. Feature FIRST_FACULTY_ENGINEERING AND COMPUTING [434] (0.006371)\n",
      "etc\n"
     ]
    }
   ],
   "source": [
    "# Print the feature ranking\n",
    "print(\"Feature ranking:\")\n",
    "for f in range(len(feature_names))[:25]:\n",
    "    print(\"%d. Feature %s [%d] (%f)\" % (f + 1, feature_names[indices[f]], indices[f], importances[indices[f]]))\n",
    "print('etc')"
   ]
  },
  {
   "cell_type": "code",
   "execution_count": 55,
   "metadata": {
    "scrolled": true
   },
   "outputs": [
    {
     "data": {
      "image/png": "[encoded data removed]",
      "text/plain": [
       "<Figure size 1152x288 with 1 Axes>"
      ]
     },
     "metadata": {},
     "output_type": "display_data"
    }
   ],
   "source": [
    "N = 10\n",
    "\n",
    "# Plot the feature importances of the forest\n",
    "plt.figure(figsize=(16, 4))\n",
    "plt.title(\"Top-{} Feature importances\".format(N))\n",
    "# plt.bar(range(len(feature_names)), importances[indices], color=\"b\", align=\"center\")\n",
    "plt.bar(range(N), importances[indices][:N], color=\"b\", align=\"center\")\n",
    "# plt.xticks(range(len(feature_names)), indices)\n",
    "plt.xticks(range(N), [ feature_names[index].replace('_', '\\n') for index in indices[:N] ])\n",
    "plt.xlim([-1, N])\n",
    "plt.savefig('../figures/modelling_Random_Forest_less_important_features_Top_10_Feature_Importances.png', \n",
    "            bbox_inches=\"tight\")\n",
    "plt.show()"
   ]
  },
  {
   "cell_type": "code",
   "execution_count": null,
   "metadata": {},
   "outputs": [],
   "source": []
  }
 ],
 "metadata": {
  "kernelspec": {
   "display_name": "Python 3",
   "language": "python",
   "name": "python3"
  },
  "language_info": {
   "codemirror_mode": {
    "name": "ipython",
    "version": 3
   },
   "file_extension": ".py",
   "mimetype": "text/x-python",
   "name": "python",
   "nbconvert_exporter": "python",
   "pygments_lexer": "ipython3",
   "version": "3.5.2"
  }
 },
 "nbformat": 4,
 "nbformat_minor": 2
}
