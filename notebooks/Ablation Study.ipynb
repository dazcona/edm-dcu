{
 "cells": [
  {
   "cell_type": "markdown",
   "metadata": {},
   "source": [
    "## Linear Modelling & Ablation Studies"
   ]
  },
  {
   "cell_type": "code",
   "execution_count": 1,
   "metadata": {},
   "outputs": [],
   "source": [
    "import numpy as np\n",
    "from sklearn.linear_model import LogisticRegression\n",
    "from sklearn.model_selection import ShuffleSplit\n",
    "from sklearn.model_selection import cross_val_score\n",
    "from sklearn.metrics import classification_report, r2_score, mean_squared_error, explained_variance_score"
   ]
  },
  {
   "cell_type": "code",
   "execution_count": 2,
   "metadata": {},
   "outputs": [],
   "source": [
    "import matplotlib.pyplot as plt\n",
    "%matplotlib inline\n",
    "font = { 'family': 'DejaVu Sans', 'weight': 'bold', 'size': 16 }\n",
    "plt.rc('font', **font)"
   ]
  },
  {
   "cell_type": "markdown",
   "metadata": {},
   "source": [
    "### Feature names"
   ]
  },
  {
   "cell_type": "code",
   "execution_count": 3,
   "metadata": {},
   "outputs": [],
   "source": [
    "with open('../data/feature_names.txt') as f:\n",
    "    feature_names = [ line.strip() for line in f.readlines() ]"
   ]
  },
  {
   "cell_type": "code",
   "execution_count": 4,
   "metadata": {},
   "outputs": [
    {
     "data": {
      "text/plain": [
       "['YEAR_2014', 'YEAR_2015', 'YEAR_2016']"
      ]
     },
     "execution_count": 4,
     "metadata": {},
     "output_type": "execute_result"
    }
   ],
   "source": [
    "feature_names[:3]"
   ]
  },
  {
   "cell_type": "markdown",
   "metadata": {},
   "source": [
    "### X and Y"
   ]
  },
  {
   "cell_type": "code",
   "execution_count": 5,
   "metadata": {},
   "outputs": [],
   "source": [
    "X_train = np.load('../data/X_train.npy')"
   ]
  },
  {
   "cell_type": "code",
   "execution_count": 6,
   "metadata": {},
   "outputs": [
    {
     "data": {
      "text/plain": [
       "(12648, 888)"
      ]
     },
     "execution_count": 6,
     "metadata": {},
     "output_type": "execute_result"
    }
   ],
   "source": [
    "X_train.shape"
   ]
  },
  {
   "cell_type": "code",
   "execution_count": 7,
   "metadata": {},
   "outputs": [],
   "source": [
    "X_test = np.load('../data/X_test.npy')"
   ]
  },
  {
   "cell_type": "code",
   "execution_count": 8,
   "metadata": {},
   "outputs": [
    {
     "data": {
      "text/plain": [
       "(3163, 888)"
      ]
     },
     "execution_count": 8,
     "metadata": {},
     "output_type": "execute_result"
    }
   ],
   "source": [
    "X_test.shape"
   ]
  },
  {
   "cell_type": "code",
   "execution_count": 9,
   "metadata": {},
   "outputs": [],
   "source": [
    "y_train = np.load('../data/y_train.npy')"
   ]
  },
  {
   "cell_type": "code",
   "execution_count": 10,
   "metadata": {},
   "outputs": [
    {
     "data": {
      "text/plain": [
       "(12648,)"
      ]
     },
     "execution_count": 10,
     "metadata": {},
     "output_type": "execute_result"
    }
   ],
   "source": [
    "y_train.shape"
   ]
  },
  {
   "cell_type": "code",
   "execution_count": 11,
   "metadata": {},
   "outputs": [],
   "source": [
    "y_test = np.load('../data/y_test.npy')"
   ]
  },
  {
   "cell_type": "code",
   "execution_count": 12,
   "metadata": {},
   "outputs": [
    {
     "data": {
      "text/plain": [
       "(3163,)"
      ]
     },
     "execution_count": 12,
     "metadata": {},
     "output_type": "execute_result"
    }
   ],
   "source": [
    "y_test.shape"
   ]
  },
  {
   "cell_type": "markdown",
   "metadata": {},
   "source": [
    "### Modelling"
   ]
  },
  {
   "cell_type": "code",
   "execution_count": 13,
   "metadata": {},
   "outputs": [],
   "source": [
    "model = LogisticRegression(random_state=42)"
   ]
  },
  {
   "cell_type": "code",
   "execution_count": 14,
   "metadata": {},
   "outputs": [
    {
     "data": {
      "text/plain": [
       "LogisticRegression(C=1.0, class_weight=None, dual=False, fit_intercept=True,\n",
       "          intercept_scaling=1, max_iter=100, multi_class='ovr', n_jobs=1,\n",
       "          penalty='l2', random_state=42, solver='liblinear', tol=0.0001,\n",
       "          verbose=0, warm_start=False)"
      ]
     },
     "execution_count": 14,
     "metadata": {},
     "output_type": "execute_result"
    }
   ],
   "source": [
    "model.fit(X_train, y_train)"
   ]
  },
  {
   "cell_type": "code",
   "execution_count": 15,
   "metadata": {
    "scrolled": false
   },
   "outputs": [],
   "source": [
    "coefficients = model.coef_[0]"
   ]
  },
  {
   "cell_type": "code",
   "execution_count": 16,
   "metadata": {
    "scrolled": false
   },
   "outputs": [
    {
     "data": {
      "text/plain": [
       "array([ 3.76860542e-07,  4.52314183e-07,  5.74240434e-07,  6.12569905e-07,\n",
       "        5.86354520e-07,  2.54465741e-06,  5.76821744e-08,  2.60251649e-06,\n",
       "       -1.76907834e-10,  2.60233958e-06,  0.00000000e+00,  2.60251649e-06,\n",
       "       -1.76907834e-10,  2.60233958e-06,  0.00000000e+00,  6.38258663e-07,\n",
       "        5.27825651e-08,  1.88510767e-07,  7.23792455e-07,  3.86966631e-07,\n",
       "        6.12028504e-07,  6.41639595e-08,  4.20261337e-08,  2.29274093e-07,\n",
       "        1.18469505e-07,  6.38258663e-07,  5.27825651e-08,  4.60601083e-08,\n",
       "        4.37015328e-08,  3.29838289e-09,  6.27613774e-09,  2.35558066e-09,\n",
       "        1.22007500e-07,  2.44881000e-07,  3.43146373e-07,  1.27293389e-07,\n",
       "        2.87000057e-08,  3.68619177e-08,  2.63397291e-08,  3.15884040e-07,\n",
       "        3.10849524e-08,  6.37234990e-08,  1.51202528e-08,  6.30264357e-10,\n",
       "        1.32611616e-08,  2.88577650e-08,  9.17607057e-08, -1.08322660e-10,\n",
       "        4.03419076e-08,  1.54648373e-08,  1.97146664e-09,  1.19683072e-08,\n",
       "        2.87562590e-08,  1.90891395e-09,  1.52164016e-07,  7.40563917e-09,\n",
       "        2.38386845e-08,  2.39910195e-08,  9.72791299e-09,  2.92894841e-10,\n",
       "        9.08684141e-08,  4.14828159e-08,  2.72818507e-07,  6.11980518e-09,\n",
       "        4.15188974e-08,  1.04721747e-08,  3.01582086e-08,  9.90052238e-08,\n",
       "        4.14922746e-08,  6.49173618e-08,  1.72134337e-09,  3.70707309e-08,\n",
       "        2.37643153e-08,  1.68029830e-08,  8.78617788e-09,  1.80725649e-07,\n",
       "        6.71194026e-08,  2.29682485e-08,  8.33379251e-08,  8.00415265e-09,\n",
       "        8.44119391e-09,  2.28012744e-08,  3.59110818e-08,  4.43003587e-08,\n",
       "        4.57304876e-09,  1.11972502e-07,  8.89362102e-10,  1.53630424e-09,\n",
       "        3.61722359e-09,  3.41006611e-08,  3.59856911e-08,  2.03061465e-08,\n",
       "        1.09382798e-08,  2.66815626e-08,  3.80287644e-09,  9.49999707e-10,\n",
       "        6.88639600e-10,  5.27825651e-08,  6.08623768e-09,  8.24356119e-10,\n",
       "        6.32521350e-08,  2.36448631e-08,  5.65396355e-09,  6.27613774e-09,\n",
       "       -1.01632206e-10,  2.14821269e-09,  6.40807692e-08,  3.64249746e-08,\n",
       "        1.54918881e-09,  1.85190108e-09,  1.74794323e-09,  1.48947486e-09,\n",
       "        3.95357285e-10,  3.11496349e-09,  3.95018325e-09,  2.08922694e-09,\n",
       "        4.56172003e-09,  2.31278580e-09,  8.71666780e-10,  9.84057847e-10,\n",
       "        6.33450135e-10,  3.28492281e-08,  6.30264357e-10,  9.48421740e-09,\n",
       "        6.84089169e-08,  4.57503799e-08,  8.44523631e-08, -2.05785696e-09,\n",
       "       -2.06832663e-09,  4.01081075e-08,  1.39990901e-08,  3.31721645e-09,\n",
       "        2.34066431e-09,  1.11027883e-08,  3.91440434e-08,  8.44119391e-09,\n",
       "        1.04721747e-08,  3.59110818e-08,  8.89362102e-10,  9.48421740e-09,\n",
       "        6.27613774e-09,  5.65396355e-09,  6.88639600e-10,  9.17607057e-08,\n",
       "        4.03419076e-08, -1.08322660e-10,  1.11972502e-07,  2.28012744e-08,\n",
       "        5.27825651e-08,  3.61722359e-09,  3.41006611e-08,  3.59856911e-08,\n",
       "        2.03061465e-08,  1.09382798e-08,  3.64249746e-08,  6.30264357e-10,\n",
       "        3.28492281e-08,  6.71194026e-08,  9.08684141e-08,  3.80287644e-09,\n",
       "        2.14821269e-09,  9.49999707e-10,  3.70707309e-08,  2.87562590e-08,\n",
       "        4.43003587e-08,  6.08623768e-09, -2.05785696e-09,  4.57503799e-08,\n",
       "        6.84089169e-08, -2.06832663e-09,  1.11027883e-08,  3.91440434e-08,\n",
       "        2.88577650e-08,  1.19683072e-08,  1.97146664e-09,  1.54648373e-08,\n",
       "        2.29682485e-08,  1.32611616e-08,  3.01582086e-08,  6.91371307e-09,\n",
       "        8.33379251e-08,  1.53630424e-09,  6.93719402e-08,  2.66815626e-08,\n",
       "        8.24356119e-10,  2.36448631e-08,  8.44523631e-08,  9.90052238e-08,\n",
       "        4.14922746e-08,  6.49173618e-08,  4.01081075e-08,  1.39990901e-08,\n",
       "        3.31721645e-09, -1.01632206e-10,  6.40807692e-08,  1.90891395e-09,\n",
       "        1.52164016e-07,  7.40563917e-09,  2.38386845e-08,  2.39910195e-08,\n",
       "        9.72791299e-09,  2.92894841e-10,  8.71666780e-10,  2.31278580e-09,\n",
       "        9.84057847e-10,  4.56172003e-09,  6.33450135e-10,  2.08922694e-09,\n",
       "        3.95357285e-10,  1.74794323e-09,  1.85190108e-09,  1.48947486e-09,\n",
       "        3.11496349e-09,  3.95018325e-09,  1.54918881e-09,  1.80725649e-07,\n",
       "        4.14828159e-08,  2.72818507e-07,  1.72134337e-09,  8.78617788e-09,\n",
       "        2.37643153e-08,  1.68029830e-08,  4.15188974e-08,  8.00415265e-09,\n",
       "       -3.98021602e-10, -5.91249844e-09, -4.91497802e-09, -9.32713225e-09,\n",
       "       -7.08840278e-09, -8.43315674e-09,  3.25660497e-08,  6.56826946e-09,\n",
       "        1.24629611e-08,  2.31567738e-08,  3.69957496e-09,  3.54809741e-08,\n",
       "        3.16382601e-09,  7.62683005e-09,  3.31313307e-09,  1.07195443e-08,\n",
       "        3.25660497e-08,  6.56826946e-09,  9.24596603e-11,  7.77197626e-10,\n",
       "       -1.04834344e-09,  2.72574556e-10, -7.69833521e-10,  3.58275291e-09,\n",
       "        1.55674423e-08,  3.41739765e-09,  6.30628939e-10,  2.82177307e-10,\n",
       "        4.70428362e-09,  9.66219146e-10,  9.18901595e-09,  7.21426560e-09,\n",
       "        5.09871222e-09,  1.34764992e-09,  2.57959575e-09,  6.24822890e-09,\n",
       "        1.79735301e-10,  4.47500300e-09,  7.39024276e-11,  1.87928117e-09,\n",
       "        1.71804249e-09,  2.08130118e-10,  5.40542166e-10,  3.18086243e-09,\n",
       "        7.56014958e-10,  2.92662181e-09,  7.50641637e-10,  1.19813252e-09,\n",
       "        2.86720163e-10,  2.30230219e-09,  2.82177307e-10,  1.35323011e-09,\n",
       "        2.47449354e-09, -1.36452137e-10,  1.74382280e-09,  9.13575622e-10,\n",
       "        2.09146698e-10,  1.58351415e-09,  1.37726733e-09,  8.87195807e-10,\n",
       "        1.14295666e-09,  1.02153140e-09, -4.05046601e-10,  1.46023954e-08,\n",
       "        1.08594170e-09,  8.53676490e-09,  2.12468787e-09,  1.04091311e-09,\n",
       "        7.88967296e-10,  1.09362033e-09,  8.04914435e-10, -1.43686213e-10,\n",
       "        1.41301810e-09,  1.43609356e-10,  2.56245456e-09,  2.04705941e-09,\n",
       "        1.72569352e-09,  2.80655610e-10,  2.32646564e-09, -9.80500050e-11,\n",
       "       -3.61982054e-10, -3.44993381e-10,  6.56826946e-09,  2.56087848e-09,\n",
       "        3.97185746e-10,  2.12170440e-09, -1.81817696e-09,  2.72574556e-10,\n",
       "       -3.90929825e-10,  0.00000000e+00,  3.32505155e-09, -1.67167325e-09,\n",
       "        7.84252743e-10,  6.13122815e-10, -9.11506092e-11,  2.83169491e-10,\n",
       "        8.59112205e-10, -1.64593617e-10,  5.53337641e-10,  2.06320095e-09,\n",
       "        3.06505693e-10,  2.85155522e-10, -3.88488481e-10,  8.24282281e-10,\n",
       "        1.72829881e-09,  5.52942787e-11,  2.04553799e-09, -3.44929675e-10,\n",
       "        1.71816154e-10,  6.46389282e-12,  1.53285946e-09,  2.33047416e-09,\n",
       "        5.57824384e-10,  1.57690830e-09,  3.76767114e-09,  4.86324252e-10,\n",
       "        1.04091311e-09, -1.36452137e-10,  1.09362033e-09,  1.43609356e-10,\n",
       "        5.52942787e-11,  2.72574556e-10, -1.81817696e-09, -3.44993381e-10,\n",
       "        6.24822890e-09,  4.47500300e-09,  1.79735301e-10,  1.41301810e-09,\n",
       "        7.88967296e-10,  6.56826946e-09,  2.56245456e-09,  2.04705941e-09,\n",
       "        1.72569352e-09,  2.80655610e-10, -1.67167325e-09,  1.72829881e-09,\n",
       "        2.30230219e-09, -9.80500050e-11,  0.00000000e+00, -3.61982054e-10,\n",
       "        8.87195807e-10,  2.08130118e-10,  8.04914435e-10,  2.56087848e-09,\n",
       "        6.46389282e-12, -3.44929675e-10,  2.04553799e-09,  1.53285946e-09,\n",
       "        3.76767114e-09,  4.86324252e-10,  2.57959575e-09,  1.71804249e-09,\n",
       "        1.87928117e-09,  7.39024276e-11,  1.08594170e-09,  1.34764992e-09,\n",
       "        1.74382280e-09, -1.43686213e-10,  8.53676490e-09,  3.97185746e-10,\n",
       "        2.32646564e-09,  2.12170440e-09,  1.71816154e-10,  9.13575622e-10,\n",
       "        2.09146698e-10,  1.58351415e-09,  2.33047416e-09,  5.57824384e-10,\n",
       "        1.57690830e-09, -3.90929825e-10,  3.32505155e-09,  5.40542166e-10,\n",
       "        3.18086243e-09,  7.56014958e-10,  2.92662181e-09,  7.50641637e-10,\n",
       "        1.19813252e-09,  2.86720163e-10,  2.85155522e-10,  3.06505693e-10,\n",
       "       -3.88488481e-10,  2.06320095e-09,  8.24282281e-10,  5.53337641e-10,\n",
       "        2.83169491e-10,  6.13122815e-10, -9.11506092e-11,  8.59112205e-10,\n",
       "       -1.64593617e-10,  7.84252743e-10,  1.46023954e-08,  2.82177307e-10,\n",
       "        1.35323011e-09,  1.37726733e-09, -4.05046601e-10,  1.14295666e-09,\n",
       "        1.02153140e-09,  2.47449354e-09,  2.12468787e-09,  5.24086748e-10,\n",
       "        2.91125025e-09,  2.64880807e-09,  4.30140927e-09,  3.04563108e-09,\n",
       "        1.39688930e-09,  6.38073877e-08,  6.29748796e-09,  3.04943990e-08,\n",
       "        6.34355532e-07,  5.55508315e-08,  1.87387936e-07,  7.22238336e-07,\n",
       "        3.87332995e-07,  6.15473954e-07,  6.77625061e-08,  4.42780727e-08,\n",
       "        2.29444554e-07,  1.16443254e-07,  6.34355532e-07,  5.55508315e-08,\n",
       "        4.55456406e-08,  4.45818849e-08,  3.34622967e-09,  6.67563708e-09,\n",
       "        3.23962032e-09,  1.20824229e-07,  2.47518106e-07,  3.43253092e-07,\n",
       "        1.22336406e-07,  2.89596509e-08,  3.72186520e-08,  2.63627971e-08,\n",
       "        3.14270524e-07,  3.11199707e-08,  6.35018768e-08,  1.51202528e-08,\n",
       "        6.30264357e-10,  1.38813238e-08,  2.89000031e-08,  9.04398660e-08,\n",
       "       -5.07304377e-10,  4.22107437e-08,  1.55837533e-08,  1.55321185e-09,\n",
       "        1.24659245e-08,  2.87236910e-08,  3.63515307e-09,  1.49762734e-07,\n",
       "        7.63906030e-09,  2.62484538e-08,  2.48848832e-08,  7.29680770e-09,\n",
       "        1.71181321e-10,  8.61970626e-08,  4.17424611e-08,  2.72935313e-07,\n",
       "        6.11980518e-09,  4.10450996e-08,  1.04639577e-08,  3.01582086e-08,\n",
       "        9.78683896e-08,  4.14922746e-08,  6.43518184e-08,  1.72134337e-09,\n",
       "        3.76333901e-08,  2.33971722e-08,  1.69836940e-08,  8.96252342e-09,\n",
       "        1.78306660e-07,  6.67748070e-08,  2.35451910e-08,  8.27789406e-08,\n",
       "        8.31864887e-09,  8.74048073e-09,  2.11097979e-08,  3.65058562e-08,\n",
       "        4.56348171e-08,  4.26620501e-09,  1.11994767e-07,  1.17493984e-09,\n",
       "        1.53630424e-09,  3.61722359e-09,  3.46541856e-08,  3.66144018e-08,\n",
       "        2.06308258e-08,  1.06888399e-08,  2.61071118e-08,  3.80287644e-09,\n",
       "        9.49999707e-10,  6.88639600e-10,  5.55508315e-08,  6.74484785e-09,\n",
       "        1.48005829e-09,  6.27376673e-08,  2.41736545e-08,  6.58584999e-09,\n",
       "        6.67563708e-09,  1.89939855e-10,  2.14821269e-09,  6.30659519e-08,\n",
       "        3.61393439e-08,  1.54918881e-09,  1.45192907e-09,  2.54593684e-09,\n",
       "        1.80578209e-09,  9.70132144e-10,  3.19337342e-09,  4.03650386e-09,\n",
       "        2.88559200e-09,  4.63489932e-09,  2.31278580e-09,  5.86278128e-10,\n",
       "        1.54867588e-09,  3.58755127e-10,  3.35628066e-08,  6.30264357e-10,\n",
       "        8.92036858e-09,  6.78840421e-08,  4.60949755e-08,  8.38869799e-08,\n",
       "       -1.76200991e-09, -1.86313851e-09,  3.89217797e-08,  1.40292590e-08,\n",
       "        3.40442651e-09,  1.75469226e-09,  1.19502928e-08,  3.91494989e-08,\n",
       "        8.74048073e-09,  1.04639577e-08,  3.65058562e-08,  1.17493984e-09,\n",
       "        8.92036858e-09,  6.67563708e-09,  6.58584999e-09,  6.88639600e-10,\n",
       "        9.04398660e-08,  4.22107437e-08, -5.07304377e-10,  1.11994767e-07,\n",
       "        2.11097979e-08,  5.55508315e-08,  3.61722359e-09,  3.46541856e-08,\n",
       "        3.66144018e-08,  2.06308258e-08,  1.06888399e-08,  3.61393439e-08,\n",
       "        6.30264357e-10,  3.35628066e-08,  6.67748070e-08,  8.61970626e-08,\n",
       "        3.80287644e-09,  2.14821269e-09,  9.49999707e-10,  3.76333901e-08,\n",
       "        2.87236910e-08,  4.56348171e-08,  6.74484785e-09, -1.76200991e-09,\n",
       "        4.60949755e-08,  6.78840421e-08, -1.86313851e-09,  1.19502928e-08,\n",
       "        3.91494989e-08,  2.89000031e-08,  1.24659245e-08,  1.55321185e-09,\n",
       "        1.55837533e-08,  2.35451910e-08,  1.38813238e-08,  3.01582086e-08,\n",
       "        6.02089727e-09,  8.27789406e-08,  1.53630424e-09,  6.88574725e-08,\n",
       "        2.61071118e-08,  1.48005829e-09,  2.41736545e-08,  8.38869799e-08,\n",
       "        9.78683896e-08,  4.14922746e-08,  6.43518184e-08,  3.89217797e-08,\n",
       "        1.40292590e-08,  3.40442651e-09,  1.89939855e-10,  6.30659519e-08,\n",
       "        3.63515307e-09,  1.49762734e-07,  7.63906030e-09,  2.62484538e-08,\n",
       "        2.48848832e-08,  7.29680770e-09,  1.71181321e-10,  5.86278128e-10,\n",
       "        2.31278580e-09,  1.54867588e-09,  4.63489932e-09,  3.58755127e-10,\n",
       "        2.88559200e-09,  9.70132144e-10,  2.54593684e-09,  1.45192907e-09,\n",
       "        1.80578209e-09,  3.19337342e-09,  4.03650386e-09,  1.54918881e-09,\n",
       "        1.78306660e-07,  4.17424611e-08,  2.72935313e-07,  1.72134337e-09,\n",
       "        8.96252342e-09,  2.33971722e-08,  1.69836940e-08,  4.10450996e-08,\n",
       "        8.31864887e-09,  9.35510527e-09,  5.59681714e-09,  7.60276508e-09,\n",
       "        4.38781580e-09,  4.47253716e-09, -8.43315674e-09, -2.33222001e-09,\n",
       "       -4.37705559e-09, -1.17623879e-08, -5.48090789e-09, -8.54190065e-09,\n",
       "       -4.81767394e-09, -1.19188734e-09,  5.94466569e-11, -1.14279912e-08,\n",
       "       -1.01692962e-09, -1.83011190e-09, -2.51818882e-09, -3.66705640e-09,\n",
       "        2.81152739e-10, -1.17625729e-09, -7.89283594e-10, -6.32144929e-09,\n",
       "       -2.20094235e-09, -5.97289322e-09, -1.32962422e-10,  1.05894315e-09,\n",
       "        1.33193551e-10, -8.03370359e-10, -3.46395801e-10, -1.61354353e-09,\n",
       "       -3.23048495e-09, -4.68775207e-10, -1.62643449e-08, -4.46543325e-10,\n",
       "       -5.30197929e-09, -2.00220541e-08, -6.07906164e-09, -3.57555360e-09,\n",
       "       -3.12268628e-09, -1.56911563e-08, -7.79818337e-09, -7.82138723e-10,\n",
       "       -2.29537034e-09, -4.13431022e-10, -8.12375333e-10,  0.00000000e+00,\n",
       "       -3.65524976e-09, -2.42559751e-09, -6.91562842e-10, -4.09395580e-10,\n",
       "       -2.04942023e-08, -7.89278253e-10, -3.87290423e-10, -1.61258797e-08,\n",
       "       -1.56099464e-09, -3.23573578e-09, -1.59027837e-09, -5.59408163e-09,\n",
       "       -3.10913481e-09, -3.93383810e-10,  0.00000000e+00, -9.87155393e-09,\n",
       "       -2.30333617e-09, -4.16735120e-10,  0.00000000e+00, -3.85540519e-10,\n",
       "       -4.32810556e-10,  0.00000000e+00, -1.17277334e-09, -3.88058957e-10,\n",
       "       -4.82270900e-09, -7.83445165e-10, -3.68835812e-09, -5.85496294e-10,\n",
       "        0.00000000e+00,  5.47161473e-10, -1.94343948e-09, -5.16062281e-09,\n",
       "       -9.67887218e-10, -2.61969617e-10, -7.95557840e-09, -4.99747621e-09,\n",
       "       -1.69983543e-09, -6.23266357e-08, -3.94476206e-09, -1.36281120e-07,\n",
       "       -3.87954582e-07,  2.99029417e-06,  3.94086697e-08, -1.24313944e-07,\n",
       "        2.68724486e-06,  1.02264084e-08, -1.62697530e-07,  2.75481071e-06,\n",
       "        2.61733247e-06, -5.75048671e-07,  5.60055786e-07,  1.62184614e-06,\n",
       "        9.80493449e-07,  1.12516782e-07,  5.19124211e-07,  1.77477932e-07,\n",
       "        5.07241986e-07,  5.15203514e-07,  3.46745798e-07,  3.26802589e-07,\n",
       "        1.05833853e-08,  4.41165915e-08,  1.54290577e-08,  1.67996681e-08,\n",
       "        4.68521402e-07,  1.92285657e-07,  3.87785282e-07,  4.88598781e-07,\n",
       "        3.31819706e-07,  3.20758654e-07,  1.93638301e-06,  2.53386472e-07,\n",
       "        1.99224404e-06,  1.97525445e-07,  1.27708873e-08,  6.87165615e-09,\n",
       "        3.77069833e-09,  1.16523900e-08,  2.27954565e-06,  5.29919046e-08,\n",
       "        4.60405617e-07,  5.62959649e-07,  2.87459100e-07,  1.89641273e-07,\n",
       "        2.43855380e-07,  5.77672513e-08,  3.77229215e-08,  2.00479528e-09,\n",
       "        6.86785718e-09,  1.02299994e-09,  6.99640836e-07,  1.12180644e-07,\n",
       "        4.63334386e-07,  7.28273303e-07,  4.21469835e-07,  2.55632924e-07,\n",
       "        3.71146292e-07,  1.33114733e-07,  1.01550046e-07,  6.01924813e-09,\n",
       "        7.12473725e-09,  1.02299994e-09,  1.47043603e-09,  1.12180644e-07,\n",
       "        2.23333120e-08,  5.53491253e-07,  4.40327782e-07,  2.21310647e-07,\n",
       "        5.49697608e-07,  3.41213907e-07,  3.17881260e-07,  1.29022652e-08,\n",
       "        2.79701967e-08,  3.77653311e-09, -7.45822959e-10,  1.58052720e-06,\n",
       "        1.02181239e-06,  1.88926405e-06,  7.13075532e-07,  5.39544459e-09,\n",
       "        1.97706471e-06,  5.54452855e-07,  5.65873009e-07,  4.89194165e-07,\n",
       "        3.72940131e-07,  1.70104254e-08,  1.57231125e-06,  4.68971198e-07,\n",
       "        4.50040986e-07,  3.80981287e-07,  2.89328206e-07, -5.98601455e-07,\n",
       "        0.00000000e+00,  3.14244556e-06,  2.72124482e-06,  2.43187085e-06,\n",
       "        3.75919004e-05,  1.51524596e-03,  1.61256016e-06,  1.02073343e-03,\n",
       "        1.17547499e-04,  8.19571625e-07,  2.74045480e-05,  7.23988396e-06,\n",
       "        5.54520560e-06,  1.69524149e-06,  1.12765410e-05,  1.60749667e-05,\n",
       "       -1.58476999e-06, -4.42109122e-07, -1.18338233e-06,  5.17192233e-05,\n",
       "        1.22203909e-05,  1.26872787e-04,  9.58995679e-05,  2.89976813e-05,\n",
       "        7.34982730e-05,  1.78199529e-05,  3.61089406e-05,  5.06199389e-11,\n",
       "        5.87250221e-05,  7.49088248e-05,  1.92071947e-05,  3.29309161e-05,\n",
       "        2.79760074e-10,  5.19350205e-05,  1.29089926e-05,  1.93468929e-07,\n",
       "        6.38816705e-05,  6.09088204e-05,  5.28379086e-05,  3.72665479e-05,\n",
       "        6.20608087e-07,  3.84635844e-05,  2.38627396e-07,  4.84762554e-09,\n",
       "        1.17395110e-07,  2.34225919e-08,  8.27341301e-09,  2.32300812e-08,\n",
       "        2.04811869e-07,  8.32101530e-07,  5.44835593e-05,  2.65824978e-07,\n",
       "        4.38193052e-09,  1.23827533e-07,  3.99983405e-08,  1.23219606e-08,\n",
       "        8.41170479e-08,  3.01629740e-07,  2.48208672e-06,  3.45966766e-07,\n",
       "        3.04418273e-09,  1.72453537e-07,  9.10292270e-08, -4.67399789e-09,\n",
       "        2.11755900e-07,  1.66251111e-06,  4.07852123e-05, -3.81427559e-09])"
      ]
     },
     "execution_count": 16,
     "metadata": {},
     "output_type": "execute_result"
    }
   ],
   "source": [
    "coefficients"
   ]
  },
  {
   "cell_type": "code",
   "execution_count": 17,
   "metadata": {},
   "outputs": [
    {
     "data": {
      "text/plain": [
       "array([2.60233958e-06])"
      ]
     },
     "execution_count": 17,
     "metadata": {},
     "output_type": "execute_result"
    }
   ],
   "source": [
    "model.intercept_"
   ]
  },
  {
   "cell_type": "code",
   "execution_count": 18,
   "metadata": {},
   "outputs": [],
   "source": [
    "indices = np.argsort(coefficients)[::-1]"
   ]
  },
  {
   "cell_type": "code",
   "execution_count": 19,
   "metadata": {},
   "outputs": [],
   "source": [
    "def print_top_features(features, coefficients, indices):\n",
    "    print(\"Feature ranking:\")\n",
    "    for f in range(len(features))[:25]:\n",
    "        print(\"%d. Feature %s [%d] (%f)\" % (f + 1, features[indices[f]], indices[f], coefficients[indices[f]]))\n",
    "    print('etc')"
   ]
  },
  {
   "cell_type": "code",
   "execution_count": 20,
   "metadata": {},
   "outputs": [
    {
     "name": "stdout",
     "output_type": "stream",
     "text": [
      "Feature ranking:\n",
      "1. Feature SCH_ENROLMENTS [825] (0.001515)\n",
      "2. Feature CAO_POINTS [827] (0.001021)\n",
      "3. Feature DAYS_TO_FIRST_LOAN [841] (0.000127)\n",
      "4. Feature LC_MATHS_POINTS [828] (0.000118)\n",
      "5. Feature DAYS_TO_FIRST_LAB [842] (0.000096)\n",
      "6. Feature DAYS_TO_SECOND_DUE_DATE [849] (0.000075)\n",
      "7. Feature DAYS_TO_FIRST_DUE_DATE [844] (0.000073)\n",
      "8. Feature EARLY_Q1_SUBS_PC [856] (0.000064)\n",
      "9. Feature EARLY_Q2_SUBS_PC [857] (0.000061)\n",
      "10. Feature FIRST_GRADE_PC [848] (0.000059)\n",
      "11. Feature NUM_FEB_ACCESS_DAYS [870] (0.000054)\n",
      "12. Feature EARLY_Q3_SUBS_PC [858] (0.000053)\n",
      "13. Feature SECOND_GRADE_PC [853] (0.000052)\n",
      "14. Feature AGE_AT_START [839] (0.000052)\n",
      "15. Feature DAYS_TO_FIRST_CRM [886] (0.000041)\n",
      "16. Feature NUM_EARLY_ACCESS_DAYS [861] (0.000038)\n",
      "17. Feature DAYS_TO_FIRST_REG [824] (0.000038)\n",
      "18. Feature EARLY_Q4_SUBS_PC [859] (0.000037)\n",
      "19. Feature FIRST_GRADE [846] (0.000036)\n",
      "20. Feature SECOND_GRADE [851] (0.000033)\n",
      "21. Feature DAYS_TO_FIRST_ACCESS [843] (0.000029)\n",
      "22. Feature NUM_SUBJECTS [830] (0.000027)\n",
      "23. Feature DAYS_SECOND_SUBMITTED_EARLY [850] (0.000019)\n",
      "24. Feature DAYS_FIRST_SUBMITTED_EARLY [845] (0.000018)\n",
      "25. Feature NUM_M5_SUBJECTS [835] (0.000016)\n",
      "etc\n"
     ]
    }
   ],
   "source": [
    "print_top_features(feature_names, coefficients, indices)"
   ]
  },
  {
   "cell_type": "code",
   "execution_count": 21,
   "metadata": {},
   "outputs": [],
   "source": [
    "def plot_top_features(feature_names, coefficients, indices, excluded=None):\n",
    "    N = 10\n",
    "    plt.figure(figsize=(16, 4))\n",
    "    plt.title(\"Top-{} Feature coefficients\".format(N))\n",
    "    plt.bar(range(N), coefficients[indices][:N], color=\"b\", align=\"center\")\n",
    "    plt.xticks(range(N), [ feature_names[index].replace('_', '\\n') for index in indices[:N] ])\n",
    "    plt.xlim([-1, N])\n",
    "    if excluded:\n",
    "        filename = '../figures/Ablation_Excluding_{}_Top_10_Feature_Importances.png'.format(excluded)\n",
    "    else:\n",
    "        filename = '../figures/modelling_Logistic_Regression_Top_10_Feature_Importances.png'\n",
    "    plt.savefig(filename, bbox_inches=\"tight\")"
   ]
  },
  {
   "cell_type": "code",
   "execution_count": 22,
   "metadata": {},
   "outputs": [
    {
     "data": {
      "image/png": "[encoded data removed]",
      "text/plain": [
       "<Figure size 1152x288 with 1 Axes>"
      ]
     },
     "metadata": {},
     "output_type": "display_data"
    }
   ],
   "source": [
    "plot_top_features(feature_names, coefficients, indices)"
   ]
  },
  {
   "cell_type": "code",
   "execution_count": 23,
   "metadata": {},
   "outputs": [
    {
     "data": {
      "text/plain": [
       "0.8804932026557066"
      ]
     },
     "execution_count": 23,
     "metadata": {},
     "output_type": "execute_result"
    }
   ],
   "source": [
    "model.score(X_test, y_test)"
   ]
  },
  {
   "cell_type": "code",
   "execution_count": 24,
   "metadata": {},
   "outputs": [],
   "source": [
    "y_pred = model.predict(X_test)"
   ]
  },
  {
   "cell_type": "code",
   "execution_count": 25,
   "metadata": {},
   "outputs": [
    {
     "data": {
      "text/plain": [
       "array([ True,  True])"
      ]
     },
     "execution_count": 25,
     "metadata": {},
     "output_type": "execute_result"
    }
   ],
   "source": [
    "y_pred[:2]"
   ]
  },
  {
   "cell_type": "code",
   "execution_count": 26,
   "metadata": {},
   "outputs": [],
   "source": [
    "y_pred_int = [ int(i) for i in y_pred ]"
   ]
  },
  {
   "cell_type": "code",
   "execution_count": 27,
   "metadata": {},
   "outputs": [
    {
     "data": {
      "text/plain": [
       "[1, 1]"
      ]
     },
     "execution_count": 27,
     "metadata": {},
     "output_type": "execute_result"
    }
   ],
   "source": [
    "y_pred_int[:2]"
   ]
  },
  {
   "cell_type": "code",
   "execution_count": 28,
   "metadata": {},
   "outputs": [],
   "source": [
    "y_test_int = [ int(i) for i in y_test ]"
   ]
  },
  {
   "cell_type": "code",
   "execution_count": 29,
   "metadata": {},
   "outputs": [
    {
     "data": {
      "text/plain": [
       "'99.96838% of the test set were predicted as True'"
      ]
     },
     "execution_count": 29,
     "metadata": {},
     "output_type": "execute_result"
    }
   ],
   "source": [
    "'{0:.5%} of the test set were predicted as True'.format(sum(y_pred_int) / float(len(y_pred_int)))"
   ]
  },
  {
   "cell_type": "code",
   "execution_count": 30,
   "metadata": {},
   "outputs": [
    {
     "data": {
      "text/plain": [
       "'88.08094% of the test set were actually True'"
      ]
     },
     "execution_count": 30,
     "metadata": {},
     "output_type": "execute_result"
    }
   ],
   "source": [
    "'{0:.5%} of the test set were actually True'.format(sum(y_test_int) / float(len(y_test_int)))"
   ]
  },
  {
   "cell_type": "code",
   "execution_count": 31,
   "metadata": {},
   "outputs": [
    {
     "data": {
      "text/plain": [
       "-0.13833091185369817"
      ]
     },
     "execution_count": 31,
     "metadata": {},
     "output_type": "execute_result"
    }
   ],
   "source": [
    "r2_score(y_test_int, y_pred_int)"
   ]
  },
  {
   "cell_type": "code",
   "execution_count": 32,
   "metadata": {},
   "outputs": [
    {
     "data": {
      "text/plain": [
       "0.1195067973442934"
      ]
     },
     "execution_count": 32,
     "metadata": {},
     "output_type": "execute_result"
    }
   ],
   "source": [
    "mean_squared_error(y_test_int, y_pred_int)"
   ]
  },
  {
   "cell_type": "code",
   "execution_count": 33,
   "metadata": {},
   "outputs": [
    {
     "name": "stdout",
     "output_type": "stream",
     "text": [
      "             precision    recall  f1-score   support\n",
      "\n",
      "          0       0.00      0.00      0.00       377\n",
      "          1       0.88      1.00      0.94      2786\n",
      "\n",
      "avg / total       0.78      0.88      0.82      3163\n",
      "\n"
     ]
    }
   ],
   "source": [
    "print(classification_report(y_test_int, y_pred_int))"
   ]
  },
  {
   "cell_type": "markdown",
   "metadata": {},
   "source": [
    "### Ablation studies"
   ]
  },
  {
   "cell_type": "code",
   "execution_count": 34,
   "metadata": {},
   "outputs": [],
   "source": [
    "original_columns = [\n",
    "    # CATEGORIES\n",
    "    'YEAR',\n",
    "    'EARLY_TRANSFER',\n",
    "    'EARLY_CANX_LEFT',\n",
    "    'EARLY_CANX_DEFER',\n",
    "    'FEB_CANX_LEFT',\n",
    "    'FEB_CANX_DEFER',\n",
    "    'FACULTY',\n",
    "    'DEPT',\n",
    "    'CODE',\n",
    "    'COURSE',\n",
    "    'CANX',\n",
    "    'PREV_FACULTY',\n",
    "    'PREV_DEPT',\n",
    "    'PREV_CODE',\n",
    "    'PREV_COURSE',\n",
    "    'PREV_CANX',\n",
    "    'PREV_RESULT',\n",
    "    'FIRST_FACULTY',\n",
    "    'FIRST_DEPT',\n",
    "    'FIRST_CODE',\n",
    "    'FIRST_COURSE',\n",
    "    'FIRST_CANX',\n",
    "    'NEXT_CODE',\n",
    "    'NEXT_RESULT',\n",
    "    'Y2_RETURN',\n",
    "    'PASS_M1',\n",
    "    'PASS_M5',\n",
    "    'PASS_M8',\n",
    "    'BIO_SEX',\n",
    "    'ORIGIN_CODE',\n",
    "    'SCH_ADDR_CODE',\n",
    "    'SCH_DEIS',\n",
    "    'SCH_FEE_PAYING',\n",
    "    'STUDENT_TYPE',\n",
    "    'STUDENT_ADDR_CODE',\n",
    "    'ADDRESS_CODE',\n",
    "    'PERMANENT_ADDR_CODE',\n",
    "    'ENTERPRISE_ESOC',\n",
    "    'ACC_FINANCE',\n",
    "    'FIRST_REL_IND',\n",
    "    'FIRST_QUARTILE_RANK',\n",
    "    'SECOND_REL_IND',\n",
    "    'SECOND_QUARTILE_RANK',\n",
    "    'FIRST_RESULT',\n",
    "    # NUMBERS\n",
    "    'YR_NUM',\n",
    "    'TOTAL_YEARS',\n",
    "    'DAYS_TO_FIRST_REG',\n",
    "    'SCH_ENROLMENTS',\n",
    "    'YEARS_SINCE_LC',\n",
    "    'CAO_POINTS',\n",
    "    'LC_MATHS_POINTS',\n",
    "    'NUM_GRANTS',\n",
    "    'NUM_SUBJECTS',\n",
    "    'NUM_MEMBERSHIPS',\n",
    "    'NUM_SOCIETIES',\n",
    "    'NUM_CLUBS',\n",
    "    'NUM_M1_SUBJECTS',\n",
    "    'NUM_M5_SUBJECTS',\n",
    "    'NUM_M8_SUBJECTS',\n",
    "    'NUM_M1_FAILS',\n",
    "    'NUM_M5_FAILS',\n",
    "    'AGE_AT_START',\n",
    "    'NUM_EARLY_LOANS',\n",
    "    'DAYS_TO_FIRST_LOAN',\n",
    "    'DAYS_TO_FIRST_LAB',\n",
    "    'DAYS_TO_FIRST_ACCESS',\n",
    "    'DAYS_TO_FIRST_DUE_DATE',\n",
    "    'DAYS_FIRST_SUBMITTED_EARLY',\n",
    "    'FIRST_GRADE',\n",
    "    'FIRST_ASSIGN_GRADE',\n",
    "    'FIRST_GRADE_PC',\n",
    "    'FIRST_GRADE',\n",
    "    'DAYS_TO_SECOND_DUE_DATE',\n",
    "    'DAYS_SECOND_SUBMITTED_EARLY',\n",
    "    'SECOND_GRADE',\n",
    "    'SECOND_ASSIGN_GRADE',\n",
    "    'SECOND_GRADE_PC',\n",
    "    'NUM_EARLY_ASSIGNMENTS',\n",
    "    'NUM_EARLY_LATES',\n",
    "    'EARLY_Q1_SUBS_PC',\n",
    "    'EARLY_Q2_SUBS_PC',\n",
    "    'EARLY_Q3_SUBS_PC',\n",
    "    'EARLY_Q4_SUBS_PC',\n",
    "    'NUM_EARLY_CRM',\n",
    "    'NUM_EARLY_ACCESS_DAYS',\n",
    "    'NUM_EARLY_TYPE_A',\n",
    "    'NUM_EARLY_TYPE_B',\n",
    "    'NUM_EARLY_TYPE_C',\n",
    "    'NUM_EARLY_TYPE_D',\n",
    "    'NUM_EARLY_TYPE_E',\n",
    "    'NUM_EARLY_TYPE_S',\n",
    "    'NUM_EARLY_TYPE_X',\n",
    "    'NUM_FEB_CRM',\n",
    "    'NUM_FEB_ACCESS_DAYS',\n",
    "    'NUM_FEB_TYPE_A',\n",
    "    'NUM_FEB_TYPE_B',\n",
    "    'NUM_FEB_TYPE_C',\n",
    "    'NUM_FEB_TYPE_D',\n",
    "    'NUM_FEB_TYPE_E',\n",
    "    'NUM_FEB_TYPE_S',\n",
    "    'NUM_FEB_TYPE_X',\n",
    "    'NUM_MAY_CRM',\n",
    "    'NUM_MAY_TYPE_A',\n",
    "    'NUM_MAY_TYPE_B',\n",
    "    'NUM_MAY_TYPE_C',\n",
    "    'NUM_MAY_TYPE_D',\n",
    "    'NUM_MAY_TYPE_E',\n",
    "    'NUM_MAY_TYPE_S',\n",
    "    'NUM_MAY_TYPE_X',\n",
    "    'DAYS_TO_FIRST_CRM',\n",
    "    'PREV_NUM_CRM',\n",
    "]"
   ]
  },
  {
   "cell_type": "code",
   "execution_count": 73,
   "metadata": {},
   "outputs": [],
   "source": [
    "def train_model(cols_names_to_remove):\n",
    "    \n",
    "    # Columns to drop\n",
    "    cols_to_drop = []\n",
    "    for col in cols_names_to_remove:\n",
    "        cols_to_drop.extend([ feature_name for feature_name in feature_names if feature_name.startswith(col) ])\n",
    "    print('Excluding:', cols_to_drop)\n",
    "    \n",
    "    # Indexes to drop\n",
    "    indexes_to_drop = [ feature_names.index(col) for col in cols_to_drop ]\n",
    "    # Deep copy of the list\n",
    "    features = feature_names[:] # or list(feature_names)\n",
    "    for index in sorted(indexes_to_drop, reverse=True):\n",
    "        del features[index]\n",
    "    \n",
    "    # New train and test sets\n",
    "    X_mini_train = np.delete(X_train, indexes_to_drop, axis=1)\n",
    "    X_mini_test = np.delete(X_test, indexes_to_drop, axis=1)\n",
    "    \n",
    "    # model\n",
    "    model = LogisticRegression(random_state=42)\n",
    "    # train\n",
    "    model.fit(X_mini_train, y_train)\n",
    "    \n",
    "    # scores\n",
    "    score = model.score(X_mini_test, y_test)\n",
    "    \n",
    "    # Predictions\n",
    "    y_mini_pred = model.predict(X_mini_test)\n",
    "    y_mini_pred_int = [ int(i) for i in y_mini_pred ]\n",
    "    \n",
    "    # Scorings\n",
    "    r2 = r2_score(y_test_int, y_mini_pred_int)\n",
    "    mse = mean_squared_error(y_test_int, y_mini_pred_int)\n",
    "    var = explained_variance_score(y_test_int, y_mini_pred_int)\n",
    "    \n",
    "    # Get coefficients and indices\n",
    "    coefficients = model.coef_[0]\n",
    "    indices = np.argsort(coefficients)[::-1]\n",
    "    \n",
    "    # Print top features\n",
    "    # print_top_features(features, coefficients, indices)\n",
    "    \n",
    "    # Plot top features\n",
    "    # plot_top_features(features, coefficients, indices, excluded=column_name)\n",
    "    \n",
    "    print('Score: {:0.4f}\\t R2: {:0.10f}\\t MSE: {:0.10f}\\t Variance: {:0.10f}'.format(score, r2, mse, var))\n",
    "    \n",
    "    return var"
   ]
  },
  {
   "cell_type": "code",
   "execution_count": 40,
   "metadata": {
    "scrolled": true
   },
   "outputs": [
    {
     "name": "stdout",
     "output_type": "stream",
     "text": [
      "Leaving Column YEAR out\n",
      "['YEAR_2014', 'YEAR_2015', 'YEAR_2016', 'YEAR_2017', 'YEAR_2018', 'YEARS_SINCE_LC']\n",
      "Score: 0.8805\t R2: -0.1383309119\t MSE: 0.1195067973\t Variance: -0.0037283804\n",
      "\n",
      "Leaving Column EARLY_TRANSFER out\n",
      "['EARLY_TRANSFER_N', 'EARLY_TRANSFER_Y']\n",
      "Score: 0.8805\t R2: -0.1383309119\t MSE: 0.1195067973\t Variance: -0.0037283804\n",
      "\n",
      "Leaving Column EARLY_CANX_LEFT out\n",
      "['EARLY_CANX_LEFT_N', 'EARLY_CANX_LEFT_Y']\n",
      "Score: 0.8805\t R2: -0.1383309119\t MSE: 0.1195067973\t Variance: -0.0037283804\n",
      "\n",
      "Leaving Column EARLY_CANX_DEFER out\n",
      "['EARLY_CANX_DEFER_N', 'EARLY_CANX_DEFER_Y']\n",
      "Score: 0.8805\t R2: -0.1383309119\t MSE: 0.1195067973\t Variance: -0.0037283804\n",
      "\n",
      "Leaving Column FEB_CANX_LEFT out\n",
      "['FEB_CANX_LEFT_N', 'FEB_CANX_LEFT_Y']\n",
      "Score: 0.8805\t R2: -0.1383309119\t MSE: 0.1195067973\t Variance: -0.0037283804\n",
      "\n",
      "Leaving Column FEB_CANX_DEFER out\n",
      "['FEB_CANX_DEFER_N', 'FEB_CANX_DEFER_Y']\n",
      "Score: 0.8805\t R2: -0.1383309119\t MSE: 0.1195067973\t Variance: -0.0037283804\n",
      "\n",
      "Leaving Column FACULTY out\n",
      "['FACULTY_DCU BUSINESS SCHOOL', 'FACULTY_DCUBS/HSS', 'FACULTY_ENGINEERING AND COMPUTING', 'FACULTY_HUMANITIES AND SOCIAL SCIENCES', 'FACULTY_INSTITUTE OF EDUCATION', 'FACULTY_SCIENCE AND HEALTH']\n",
      "Score: 0.8805\t R2: -0.1383309119\t MSE: 0.1195067973\t Variance: -0.0037283804\n",
      "\n",
      "Leaving Column DEPT out\n",
      "['DEPT_BIOTECHNOLOGY', 'DEPT_CHEMICAL SCIENCES', 'DEPT_COMMUNICATIONS', 'DEPT_COMPUTING', 'DEPT_DCU BUSINESS SCHOOL', 'DEPT_DCUBS / HSS L&G Programmes', 'DEPT_EDUCATION', 'DEPT_ELECTRONIC ENGINEERING', 'DEPT_FIONTAR', 'DEPT_FIONTAR/COMMUNICATIONS', 'DEPT_Fiontar agus Scoil na Gaeilge', 'DEPT_HEALTH AND HUMAN PERFORMANCE', 'DEPT_HUMANITIES AND SOCIAL SCIENCES', 'DEPT_INSTITUTE OF EDUCATION', 'DEPT_LAW AND GOVERNMENT', 'DEPT_Language, Literacy and ECE', 'DEPT_MATHEMATICAL SCIENCES', 'DEPT_MECHANICAL ENGINEERING', 'DEPT_NURSING', 'DEPT_PHYSICAL SCIENCES', 'DEPT_SALIS', 'DEPT_STEM Ed & Global Studies', 'DEPT_THEOLOGY, PHILOSOPHY AND MUSIC']\n",
      "Score: 0.8805\t R2: -0.1383309119\t MSE: 0.1195067973\t Variance: -0.0037283804\n",
      "\n",
      "Leaving Column CODE out\n",
      "['CODE_AC', 'CODE_ACM', 'CODE_AF', 'CODE_ALIS', 'CODE_ALTS', 'CODE_AMPS', 'CODE_AP', 'CODE_AS', 'CODE_ATT', 'CODE_BAJG', 'CODE_BAJH', 'CODE_BAJI', 'CODE_BAJL', 'CODE_BAJM', 'CODE_BAJP', 'CODE_BAJW', 'CODE_BCL', 'CODE_BECE', 'CODE_BED', 'CODE_BET', 'CODE_BHS', 'CODE_BMED', 'CODE_BNCG', 'CODE_BNGN', 'CODE_BNID', 'CODE_BNPY', 'CODE_BNS', 'CODE_BPY', 'CODE_BRE', 'CODE_BRH', 'CODE_BRM', 'CODE_BS', 'CODE_BSIF', 'CODE_BT', 'CODE_CA', 'CODE_CAFM', 'CODE_CAM', 'CODE_CCS', 'CODE_CE', 'CODE_CES', 'CODE_CPSSD', 'CODE_CS', 'CODE_DME', 'CODE_DS', 'CODE_EBC', 'CODE_EBF', 'CODE_EBG', 'CODE_EBS', 'CODE_EBT', 'CODE_EC', 'CODE_ECE', 'CODE_EE', 'CODE_ENGLIC', 'CODE_EPL', 'CODE_ESH', 'CODE_EST', 'CODE_ET', 'CODE_GCB', 'CODE_GG', 'CODE_GI', 'CODE_HOR', 'CODE_ICE', 'CODE_INTB', 'CODE_IR', 'CODE_JHIFR', 'CODE_JHIIL', 'CODE_JHLFR', 'CODE_JHLIL', 'CODE_JHLIR', 'CODE_JHLMS', 'CODE_JHLPO', 'CODE_JHMFR', 'CODE_JHMIL', 'CODE_JHMSI', 'CODE_JHPFR', 'CODE_JHPIL', 'CODE_JHPOM', 'CODE_JR', 'CODE_JZCM', 'CODE_ME', 'CODE_MINT', 'CODE_MINTD', 'CODE_MMA', 'CODE_MWB', 'CODE_PBM', 'CODE_PEB', 'CODE_PEM', 'CODE_PHA', 'CODE_PSSD', 'CODE_SE', 'CODE_SSH']\n",
      "Score: 0.8805\t R2: -0.1383309119\t MSE: 0.1195067973\t Variance: -0.0037283804\n",
      "\n",
      "Leaving Column COURSE out\n",
      "['COURSE_B.Eng. Mechanical & Manufacturing Eng', 'COURSE_B.Eng. in Biomedical Engineering', 'COURSE_B.Eng. in Common Entry into Engineering', 'COURSE_B.Eng. in Digital Media Engineering', 'COURSE_B.Eng. in Mechatronic Engineering', 'COURSE_BA Gaeilge agus Iriseoireacht', 'COURSE_BA Gno agus Gaeilge', 'COURSE_BA Languages for Int. Communication(Eng)', 'COURSE_BA in Accounting and Finance', 'COURSE_BA in Applied Language & Translation Stu', 'COURSE_BA in Applied Language and Intercultural', 'COURSE_BA in Communication Studies', 'COURSE_BA in Contemporary Culture and Society', 'COURSE_BA in Economics, Politics and Law', 'COURSE_BA in Global Business (Canada)', 'COURSE_BA in Global Business (France)', 'COURSE_BA in Global Business (Germany)', 'COURSE_BA in Global Business (Spain)', 'COURSE_BA in Global Business (USA)', 'COURSE_BA in International Relations', 'COURSE_BA in Jazz and Contemporary Music Perfor', 'COURSE_BA in Journalism', 'COURSE_BBS (International Finance)', 'COURSE_BCL (Law and Society)', 'COURSE_BEng Electronic & Computer Engineering', 'COURSE_BEng Info and Communications Engineering', 'COURSE_BEng in Electronic Engineering', 'COURSE_BSc (Honours) in Psychology', 'COURSE_BSc Athletic Therapy and Training', 'COURSE_BSc Common Entry into Science', 'COURSE_BSc Environmental Science & Health', 'COURSE_BSc Manufacturing Eng with Business', 'COURSE_BSc Marketing, Innovation & Technology', 'COURSE_BSc Marketing, Innovation and Technology', 'COURSE_BSc Physics with Biomedical Sciences', 'COURSE_BSc Science Education', 'COURSE_BSc Sport Science and Health', 'COURSE_BSc in Actuarial Mathematics', 'COURSE_BSc in Analytical Science', 'COURSE_BSc in Applied Physics', 'COURSE_BSc in Aviation Management', 'COURSE_BSc in Biotechnology', 'COURSE_BSc in Chemical and Pharmaceutical Sc.', \"COURSE_BSc in Children's & General Nursing\", 'COURSE_BSc in ComputationalProblem Solv&SW Dev.', 'COURSE_BSc in Computer Applications', 'COURSE_BSc in Data Science', 'COURSE_BSc in Education & Training', 'COURSE_BSc in Enterprise Computing', 'COURSE_BSc in Environmental Science & Tech', 'COURSE_BSc in Genetics & Cell Biology', 'COURSE_BSc in Multimedia', 'COURSE_BSc in Nursing (General)', 'COURSE_BSc in Nursing (Intellectual Disability)', 'COURSE_BSc in Nursing (Mental Health)', 'COURSE_BSc in Physical Education with Biology', 'COURSE_BSc in Physical Education with Maths.', 'COURSE_BSc in Physics with Astronomy', 'COURSE_BSc. in Horticulture', 'COURSE_Bachelor Business Studies International', 'COURSE_Bachelor of Arts (BAJG)', 'COURSE_Bachelor of Arts (BAJH)', 'COURSE_Bachelor of Arts (BAJI)', 'COURSE_Bachelor of Arts (BAJL)', 'COURSE_Bachelor of Arts (BAJM)', 'COURSE_Bachelor of Arts (BAJP)', 'COURSE_Bachelor of Arts (BAJW)', 'COURSE_Bachelor of Arts J. H. (Politics&French)', 'COURSE_Bachelor of Arts J.H. (MediaStud&Irish)', 'COURSE_Bachelor of Arts J.H. Pol with Int. Lang', 'COURSE_Bachelor of Arts J.H.( M.S & Int. Lang)', 'COURSE_Bachelor of Arts J.H.(Politics&Med Stu)', 'COURSE_Bachelor of Arts Jnt Hon(MediaStud&Fren)', 'COURSE_Bachelor of Arts Jnt Hons (Law & Irish)', 'COURSE_Bachelor of Arts Jnt Hons (Law&French)', 'COURSE_Bachelor of Arts Jnt Hons Irs &Int Lang', 'COURSE_Bachelor of Arts Jnt Hons Law & Int.Lang', 'COURSE_Bachelor of Arts Jnt Hons(Law&Media Std)', 'COURSE_Bachelor of Arts Jnt Hons(Law&Politics)', 'COURSE_Bachelor of Arts Jnt.Hons(Irish&French)', 'COURSE_Bachelor of Business Studies', 'COURSE_Bachelor of Early Childhood Education', 'COURSE_Bachelor of Education', 'COURSE_Bachelor of Nursing Studies (Hons)', 'COURSE_Bachelor of Religious Education & Music', 'COURSE_Bachelor of Religious Education &English', 'COURSE_Bachelor of Religious Education &History', 'COURSE_Bachelor of Science in Health & Society', 'COURSE_Common Entry Actuarial and Financial Maths']\n",
      "Score: 0.8805\t R2: -0.1383309119\t MSE: 0.1195067973\t Variance: -0.0037283804\n",
      "\n",
      "Leaving Column CANX out\n",
      "['CANX_2014.0', 'CANX_2015.0', 'CANX_2016.0', 'CANX_2017.0', 'CANX_2018.0', 'CANX_2019.0']\n",
      "Score: 0.8805\t R2: -0.1383309119\t MSE: 0.1195067973\t Variance: -0.0037283804\n",
      "\n",
      "Leaving Column PREV_FACULTY out\n",
      "['PREV_FACULTY_DCU BUSINESS SCHOOL', 'PREV_FACULTY_DCUBS/HSS', 'PREV_FACULTY_ENGINEERING AND COMPUTING', 'PREV_FACULTY_HUMANITIES AND SOCIAL SCIENCES', 'PREV_FACULTY_INSTITUTE OF EDUCATION', 'PREV_FACULTY_SCIENCE AND HEALTH']\n",
      "Score: 0.8805\t R2: -0.1383309119\t MSE: 0.1195067973\t Variance: -0.0037283804\n",
      "\n",
      "Leaving Column PREV_DEPT out\n",
      "['PREV_DEPT_BIOTECHNOLOGY', 'PREV_DEPT_CHEMICAL SCIENCES', 'PREV_DEPT_COMMUNICATIONS', 'PREV_DEPT_COMPUTING', 'PREV_DEPT_DCU BUSINESS SCHOOL', 'PREV_DEPT_DCUBS / HSS L&G Programmes', 'PREV_DEPT_EDUCATION', 'PREV_DEPT_ELECTRONIC ENGINEERING', 'PREV_DEPT_FIONTAR', 'PREV_DEPT_FIONTAR/COMMUNICATIONS', 'PREV_DEPT_Fiontar agus Scoil na Gaeilge', 'PREV_DEPT_HEALTH AND HUMAN PERFORMANCE', 'PREV_DEPT_HUMANITIES AND SOCIAL SCIENCES', 'PREV_DEPT_INSTITUTE OF EDUCATION', 'PREV_DEPT_LAW AND GOVERNMENT', 'PREV_DEPT_Language, Literacy and ECE', 'PREV_DEPT_MATHEMATICAL SCIENCES', 'PREV_DEPT_MECHANICAL ENGINEERING', 'PREV_DEPT_NURSING', 'PREV_DEPT_PHYSICAL SCIENCES', 'PREV_DEPT_SALIS']\n"
     ]
    },
    {
     "name": "stdout",
     "output_type": "stream",
     "text": [
      "Score: 0.8805\t R2: -0.1383309119\t MSE: 0.1195067973\t Variance: -0.0037283804\n",
      "\n",
      "Leaving Column PREV_CODE out\n",
      "['PREV_CODE_AC', 'PREV_CODE_ACM', 'PREV_CODE_AF', 'PREV_CODE_ALIS', 'PREV_CODE_ALTS', 'PREV_CODE_AMPS', 'PREV_CODE_AP', 'PREV_CODE_AS', 'PREV_CODE_ATT', 'PREV_CODE_BAJG', 'PREV_CODE_BAJH', 'PREV_CODE_BAJI', 'PREV_CODE_BAJL', 'PREV_CODE_BAJM', 'PREV_CODE_BAJP', 'PREV_CODE_BAJW', 'PREV_CODE_BCL', 'PREV_CODE_BECE', 'PREV_CODE_BED', 'PREV_CODE_BHS', 'PREV_CODE_BMED', 'PREV_CODE_BNCG', 'PREV_CODE_BNGN', 'PREV_CODE_BNID', 'PREV_CODE_BNPY', 'PREV_CODE_BNS', 'PREV_CODE_BPY', 'PREV_CODE_BRE', 'PREV_CODE_BRH', 'PREV_CODE_BRM', 'PREV_CODE_BS', 'PREV_CODE_BT', 'PREV_CODE_CA', 'PREV_CODE_CAFM', 'PREV_CODE_CAM', 'PREV_CODE_CCS', 'PREV_CODE_CE', 'PREV_CODE_CES', 'PREV_CODE_CPSSD', 'PREV_CODE_CS', 'PREV_CODE_DME', 'PREV_CODE_EBF', 'PREV_CODE_EBG', 'PREV_CODE_EBS', 'PREV_CODE_EBT', 'PREV_CODE_EC', 'PREV_CODE_ECE', 'PREV_CODE_EE', 'PREV_CODE_ENGLIC', 'PREV_CODE_EPL', 'PREV_CODE_ESH', 'PREV_CODE_ET', 'PREV_CODE_GCB', 'PREV_CODE_GG', 'PREV_CODE_GI', 'PREV_CODE_HOR', 'PREV_CODE_ICE', 'PREV_CODE_INTB', 'PREV_CODE_IR', 'PREV_CODE_JHIFR', 'PREV_CODE_JHLFR', 'PREV_CODE_JHLIL', 'PREV_CODE_JHLIR', 'PREV_CODE_JHLMS', 'PREV_CODE_JHLPO', 'PREV_CODE_JHMFR', 'PREV_CODE_JHMIL', 'PREV_CODE_JHMSI', 'PREV_CODE_JHPFR', 'PREV_CODE_JHPIL', 'PREV_CODE_JHPOM', 'PREV_CODE_JR', 'PREV_CODE_ME', 'PREV_CODE_MINT', 'PREV_CODE_MINTD', 'PREV_CODE_MMA', 'PREV_CODE_MWB', 'PREV_CODE_PBM', 'PREV_CODE_PEB', 'PREV_CODE_PEM', 'PREV_CODE_PHA', 'PREV_CODE_SE', 'PREV_CODE_SSH']\n",
      "Score: 0.8805\t R2: -0.1383309119\t MSE: 0.1195067973\t Variance: -0.0037283804\n",
      "\n",
      "Leaving Column PREV_COURSE out\n",
      "['PREV_COURSE_B.Eng. Mechanical & Manufacturing Eng', 'PREV_COURSE_B.Eng. in Biomedical Engineering', 'PREV_COURSE_B.Eng. in Common Entry into Engineering', 'PREV_COURSE_B.Eng. in Digital Media Engineering', 'PREV_COURSE_B.Eng. in Mechatronic Engineering', 'PREV_COURSE_BA Gaeilge agus Iriseoireacht', 'PREV_COURSE_BA Gno agus Gaeilge', 'PREV_COURSE_BA Languages for Int. Communication(Eng)', 'PREV_COURSE_BA in Accounting and Finance', 'PREV_COURSE_BA in Applied Language & Translation Stu', 'PREV_COURSE_BA in Applied Language and Intercultural', 'PREV_COURSE_BA in Communication Studies', 'PREV_COURSE_BA in Contemporary Culture and Society', 'PREV_COURSE_BA in Economics, Politics and Law', 'PREV_COURSE_BA in Global Business (France)', 'PREV_COURSE_BA in Global Business (Germany)', 'PREV_COURSE_BA in Global Business (Spain)', 'PREV_COURSE_BA in Global Business (USA)', 'PREV_COURSE_BA in International Relations', 'PREV_COURSE_BA in Journalism', 'PREV_COURSE_BCL (Law and Society)', 'PREV_COURSE_BEng Electronic & Computer Engineering', 'PREV_COURSE_BEng Info and Communications Engineering', 'PREV_COURSE_BEng in Electronic Engineering', 'PREV_COURSE_BSc (Honours) in Psychology', 'PREV_COURSE_BSc Athletic Therapy and Training', 'PREV_COURSE_BSc Common Entry into Science', 'PREV_COURSE_BSc Environmental Science & Health', 'PREV_COURSE_BSc Manufacturing Eng with Business', 'PREV_COURSE_BSc Marketing, Innovation & Technology', 'PREV_COURSE_BSc Marketing, Innovation and Technology', 'PREV_COURSE_BSc Physics with Biomedical Sciences', 'PREV_COURSE_BSc Science Education', 'PREV_COURSE_BSc Sport Science and Health', 'PREV_COURSE_BSc in Actuarial Mathematics', 'PREV_COURSE_BSc in Analytical Science', 'PREV_COURSE_BSc in Applied Physics', 'PREV_COURSE_BSc in Aviation Management', 'PREV_COURSE_BSc in Biotechnology', 'PREV_COURSE_BSc in Chemical and Pharmaceutical Sc.', \"PREV_COURSE_BSc in Children's & General Nursing\", 'PREV_COURSE_BSc in ComputationalProblem Solv&SW Dev.', 'PREV_COURSE_BSc in Computer Applications', 'PREV_COURSE_BSc in Education & Training', 'PREV_COURSE_BSc in Enterprise Computing', 'PREV_COURSE_BSc in Genetics & Cell Biology', 'PREV_COURSE_BSc in Multimedia', 'PREV_COURSE_BSc in Nursing (General)', 'PREV_COURSE_BSc in Nursing (Intellectual Disability)', 'PREV_COURSE_BSc in Nursing (Mental Health)', 'PREV_COURSE_BSc in Physical Education with Biology', 'PREV_COURSE_BSc in Physical Education with Maths.', 'PREV_COURSE_BSc in Physics with Astronomy', 'PREV_COURSE_BSc. in Horticulture', 'PREV_COURSE_Bachelor Business Studies International', 'PREV_COURSE_Bachelor of Arts (BAJG)', 'PREV_COURSE_Bachelor of Arts (BAJH)', 'PREV_COURSE_Bachelor of Arts (BAJI)', 'PREV_COURSE_Bachelor of Arts (BAJL)', 'PREV_COURSE_Bachelor of Arts (BAJM)', 'PREV_COURSE_Bachelor of Arts (BAJP)', 'PREV_COURSE_Bachelor of Arts (BAJW)', 'PREV_COURSE_Bachelor of Arts J. H. (Politics&French)', 'PREV_COURSE_Bachelor of Arts J.H. (MediaStud&Irish)', 'PREV_COURSE_Bachelor of Arts J.H. Pol with Int. Lang', 'PREV_COURSE_Bachelor of Arts J.H.( M.S & Int. Lang)', 'PREV_COURSE_Bachelor of Arts J.H.(Politics&Med Stu)', 'PREV_COURSE_Bachelor of Arts Jnt Hon(MediaStud&Fren)', 'PREV_COURSE_Bachelor of Arts Jnt Hons (Law & Irish)', 'PREV_COURSE_Bachelor of Arts Jnt Hons (Law&French)', 'PREV_COURSE_Bachelor of Arts Jnt Hons Law & Int.Lang', 'PREV_COURSE_Bachelor of Arts Jnt Hons(Law&Media Std)', 'PREV_COURSE_Bachelor of Arts Jnt Hons(Law&Politics)', 'PREV_COURSE_Bachelor of Arts Jnt.Hons(Irish&French)', 'PREV_COURSE_Bachelor of Business Studies', 'PREV_COURSE_Bachelor of Early Childhood Education', 'PREV_COURSE_Bachelor of Education', 'PREV_COURSE_Bachelor of Nursing Studies (Hons)', 'PREV_COURSE_Bachelor of Religious Education & Music', 'PREV_COURSE_Bachelor of Religious Education &English', 'PREV_COURSE_Bachelor of Religious Education &History', 'PREV_COURSE_Bachelor of Science in Health & Society', 'PREV_COURSE_Common Entry Actuarial and Financial Maths']\n",
      "Score: 0.8805\t R2: -0.1383309119\t MSE: 0.1195067973\t Variance: -0.0037283804\n",
      "\n",
      "Leaving Column PREV_CANX out\n",
      "['PREV_CANX_2013.0', 'PREV_CANX_2014.0', 'PREV_CANX_2015.0', 'PREV_CANX_2016.0', 'PREV_CANX_2017.0', 'PREV_CANX_2018.0']\n",
      "Score: 0.8805\t R2: -0.1383309119\t MSE: 0.1195067973\t Variance: -0.0037283804\n",
      "\n",
      "Leaving Column PREV_RESULT out\n",
      "['PREV_RESULT_F', 'PREV_RESULT_F0', 'PREV_RESULT_P']\n",
      "Score: 0.8805\t R2: -0.1383309119\t MSE: 0.1195067973\t Variance: -0.0037283804\n",
      "\n",
      "Leaving Column FIRST_FACULTY out\n",
      "['FIRST_FACULTY_DCU BUSINESS SCHOOL', 'FIRST_FACULTY_DCUBS/HSS', 'FIRST_FACULTY_ENGINEERING AND COMPUTING', 'FIRST_FACULTY_HUMANITIES AND SOCIAL SCIENCES', 'FIRST_FACULTY_INSTITUTE OF EDUCATION', 'FIRST_FACULTY_SCIENCE AND HEALTH']\n",
      "Score: 0.8805\t R2: -0.1383309119\t MSE: 0.1195067973\t Variance: -0.0037283804\n",
      "\n",
      "Leaving Column FIRST_DEPT out\n",
      "['FIRST_DEPT_BIOTECHNOLOGY', 'FIRST_DEPT_CHEMICAL SCIENCES', 'FIRST_DEPT_COMMUNICATIONS', 'FIRST_DEPT_COMPUTING', 'FIRST_DEPT_DCU BUSINESS SCHOOL', 'FIRST_DEPT_DCUBS / HSS L&G Programmes', 'FIRST_DEPT_EDUCATION', 'FIRST_DEPT_ELECTRONIC ENGINEERING', 'FIRST_DEPT_FIONTAR', 'FIRST_DEPT_FIONTAR/COMMUNICATIONS', 'FIRST_DEPT_Fiontar agus Scoil na Gaeilge', 'FIRST_DEPT_HEALTH AND HUMAN PERFORMANCE', 'FIRST_DEPT_HUMANITIES AND SOCIAL SCIENCES', 'FIRST_DEPT_INSTITUTE OF EDUCATION', 'FIRST_DEPT_LAW AND GOVERNMENT', 'FIRST_DEPT_Language, Literacy and ECE', 'FIRST_DEPT_MATHEMATICAL SCIENCES', 'FIRST_DEPT_MECHANICAL ENGINEERING', 'FIRST_DEPT_NURSING', 'FIRST_DEPT_PHYSICAL SCIENCES', 'FIRST_DEPT_SALIS', 'FIRST_DEPT_STEM Ed & Global Studies', 'FIRST_DEPT_THEOLOGY, PHILOSOPHY AND MUSIC']\n",
      "Score: 0.8805\t R2: -0.1383309119\t MSE: 0.1195067973\t Variance: -0.0037283804\n",
      "\n",
      "Leaving Column FIRST_CODE out\n",
      "['FIRST_CODE_AC', 'FIRST_CODE_ACM', 'FIRST_CODE_AF', 'FIRST_CODE_ALIS', 'FIRST_CODE_ALTS', 'FIRST_CODE_AMPS', 'FIRST_CODE_AP', 'FIRST_CODE_AS', 'FIRST_CODE_ATT', 'FIRST_CODE_BAJG', 'FIRST_CODE_BAJH', 'FIRST_CODE_BAJI', 'FIRST_CODE_BAJL', 'FIRST_CODE_BAJM', 'FIRST_CODE_BAJP', 'FIRST_CODE_BAJW', 'FIRST_CODE_BCL', 'FIRST_CODE_BECE', 'FIRST_CODE_BED', 'FIRST_CODE_BET', 'FIRST_CODE_BHS', 'FIRST_CODE_BMED', 'FIRST_CODE_BNCG', 'FIRST_CODE_BNGN', 'FIRST_CODE_BNID', 'FIRST_CODE_BNPY', 'FIRST_CODE_BNS', 'FIRST_CODE_BPY', 'FIRST_CODE_BRE', 'FIRST_CODE_BRH', 'FIRST_CODE_BRM', 'FIRST_CODE_BS', 'FIRST_CODE_BSIF', 'FIRST_CODE_BT', 'FIRST_CODE_CA', 'FIRST_CODE_CAFM', 'FIRST_CODE_CAM', 'FIRST_CODE_CCS', 'FIRST_CODE_CE', 'FIRST_CODE_CES', 'FIRST_CODE_CPSSD', 'FIRST_CODE_CS', 'FIRST_CODE_DME', 'FIRST_CODE_DS', 'FIRST_CODE_EBC', 'FIRST_CODE_EBF', 'FIRST_CODE_EBG', 'FIRST_CODE_EBS', 'FIRST_CODE_EBT', 'FIRST_CODE_EC', 'FIRST_CODE_ECE', 'FIRST_CODE_EE', 'FIRST_CODE_ENGLIC', 'FIRST_CODE_EPL', 'FIRST_CODE_ESH', 'FIRST_CODE_EST', 'FIRST_CODE_ET', 'FIRST_CODE_GCB', 'FIRST_CODE_GG', 'FIRST_CODE_GI', 'FIRST_CODE_HOR', 'FIRST_CODE_ICE', 'FIRST_CODE_INTB', 'FIRST_CODE_IR', 'FIRST_CODE_JHIFR', 'FIRST_CODE_JHIIL', 'FIRST_CODE_JHLFR', 'FIRST_CODE_JHLIL', 'FIRST_CODE_JHLIR', 'FIRST_CODE_JHLMS', 'FIRST_CODE_JHLPO', 'FIRST_CODE_JHMFR', 'FIRST_CODE_JHMIL', 'FIRST_CODE_JHMSI', 'FIRST_CODE_JHPFR', 'FIRST_CODE_JHPIL', 'FIRST_CODE_JHPOM', 'FIRST_CODE_JR', 'FIRST_CODE_JZCM', 'FIRST_CODE_ME', 'FIRST_CODE_MINT', 'FIRST_CODE_MINTD', 'FIRST_CODE_MMA', 'FIRST_CODE_MWB', 'FIRST_CODE_PBM', 'FIRST_CODE_PEB', 'FIRST_CODE_PEM', 'FIRST_CODE_PHA', 'FIRST_CODE_PSSD', 'FIRST_CODE_SE', 'FIRST_CODE_SSH']\n"
     ]
    },
    {
     "name": "stdout",
     "output_type": "stream",
     "text": [
      "Score: 0.8805\t R2: -0.1383309119\t MSE: 0.1195067973\t Variance: -0.0037283804\n",
      "\n",
      "Leaving Column FIRST_COURSE out\n",
      "['FIRST_COURSE_B.Eng. Mechanical & Manufacturing Eng', 'FIRST_COURSE_B.Eng. in Biomedical Engineering', 'FIRST_COURSE_B.Eng. in Common Entry into Engineering', 'FIRST_COURSE_B.Eng. in Digital Media Engineering', 'FIRST_COURSE_B.Eng. in Mechatronic Engineering', 'FIRST_COURSE_BA Gaeilge agus Iriseoireacht', 'FIRST_COURSE_BA Gno agus Gaeilge', 'FIRST_COURSE_BA Languages for Int. Communication(Eng)', 'FIRST_COURSE_BA in Accounting and Finance', 'FIRST_COURSE_BA in Applied Language & Translation Stu', 'FIRST_COURSE_BA in Applied Language and Intercultural', 'FIRST_COURSE_BA in Communication Studies', 'FIRST_COURSE_BA in Contemporary Culture and Society', 'FIRST_COURSE_BA in Economics, Politics and Law', 'FIRST_COURSE_BA in Global Business (Canada)', 'FIRST_COURSE_BA in Global Business (France)', 'FIRST_COURSE_BA in Global Business (Germany)', 'FIRST_COURSE_BA in Global Business (Spain)', 'FIRST_COURSE_BA in Global Business (USA)', 'FIRST_COURSE_BA in International Relations', 'FIRST_COURSE_BA in Jazz and Contemporary Music Perfor', 'FIRST_COURSE_BA in Journalism', 'FIRST_COURSE_BBS (International Finance)', 'FIRST_COURSE_BCL (Law and Society)', 'FIRST_COURSE_BEng Electronic & Computer Engineering', 'FIRST_COURSE_BEng Info and Communications Engineering', 'FIRST_COURSE_BEng in Electronic Engineering', 'FIRST_COURSE_BSc (Honours) in Psychology', 'FIRST_COURSE_BSc Athletic Therapy and Training', 'FIRST_COURSE_BSc Common Entry into Science', 'FIRST_COURSE_BSc Environmental Science & Health', 'FIRST_COURSE_BSc Manufacturing Eng with Business', 'FIRST_COURSE_BSc Marketing, Innovation & Technology', 'FIRST_COURSE_BSc Marketing, Innovation and Technology', 'FIRST_COURSE_BSc Physics with Biomedical Sciences', 'FIRST_COURSE_BSc Science Education', 'FIRST_COURSE_BSc Sport Science and Health', 'FIRST_COURSE_BSc in Actuarial Mathematics', 'FIRST_COURSE_BSc in Analytical Science', 'FIRST_COURSE_BSc in Applied Physics', 'FIRST_COURSE_BSc in Aviation Management', 'FIRST_COURSE_BSc in Biotechnology', 'FIRST_COURSE_BSc in Chemical and Pharmaceutical Sc.', \"FIRST_COURSE_BSc in Children's & General Nursing\", 'FIRST_COURSE_BSc in ComputationalProblem Solv&SW Dev.', 'FIRST_COURSE_BSc in Computer Applications', 'FIRST_COURSE_BSc in Data Science', 'FIRST_COURSE_BSc in Education & Training', 'FIRST_COURSE_BSc in Enterprise Computing', 'FIRST_COURSE_BSc in Environmental Science & Tech', 'FIRST_COURSE_BSc in Genetics & Cell Biology', 'FIRST_COURSE_BSc in Multimedia', 'FIRST_COURSE_BSc in Nursing (General)', 'FIRST_COURSE_BSc in Nursing (Intellectual Disability)', 'FIRST_COURSE_BSc in Nursing (Mental Health)', 'FIRST_COURSE_BSc in Physical Education with Biology', 'FIRST_COURSE_BSc in Physical Education with Maths.', 'FIRST_COURSE_BSc in Physics with Astronomy', 'FIRST_COURSE_BSc. in Horticulture', 'FIRST_COURSE_Bachelor Business Studies International', 'FIRST_COURSE_Bachelor of Arts (BAJG)', 'FIRST_COURSE_Bachelor of Arts (BAJH)', 'FIRST_COURSE_Bachelor of Arts (BAJI)', 'FIRST_COURSE_Bachelor of Arts (BAJL)', 'FIRST_COURSE_Bachelor of Arts (BAJM)', 'FIRST_COURSE_Bachelor of Arts (BAJP)', 'FIRST_COURSE_Bachelor of Arts (BAJW)', 'FIRST_COURSE_Bachelor of Arts J. H. (Politics&French)', 'FIRST_COURSE_Bachelor of Arts J.H. (MediaStud&Irish)', 'FIRST_COURSE_Bachelor of Arts J.H. Pol with Int. Lang', 'FIRST_COURSE_Bachelor of Arts J.H.( M.S & Int. Lang)', 'FIRST_COURSE_Bachelor of Arts J.H.(Politics&Med Stu)', 'FIRST_COURSE_Bachelor of Arts Jnt Hon(MediaStud&Fren)', 'FIRST_COURSE_Bachelor of Arts Jnt Hons (Law & Irish)', 'FIRST_COURSE_Bachelor of Arts Jnt Hons (Law&French)', 'FIRST_COURSE_Bachelor of Arts Jnt Hons Irs &Int Lang', 'FIRST_COURSE_Bachelor of Arts Jnt Hons Law & Int.Lang', 'FIRST_COURSE_Bachelor of Arts Jnt Hons(Law&Media Std)', 'FIRST_COURSE_Bachelor of Arts Jnt Hons(Law&Politics)', 'FIRST_COURSE_Bachelor of Arts Jnt.Hons(Irish&French)', 'FIRST_COURSE_Bachelor of Business Studies', 'FIRST_COURSE_Bachelor of Early Childhood Education', 'FIRST_COURSE_Bachelor of Education', 'FIRST_COURSE_Bachelor of Nursing Studies (Hons)', 'FIRST_COURSE_Bachelor of Religious Education & Music', 'FIRST_COURSE_Bachelor of Religious Education &English', 'FIRST_COURSE_Bachelor of Religious Education &History', 'FIRST_COURSE_Bachelor of Science in Health & Society', 'FIRST_COURSE_Common Entry Actuarial and Financial Maths']\n",
      "Score: 0.8805\t R2: -0.1383309119\t MSE: 0.1195067973\t Variance: -0.0037283804\n",
      "\n",
      "Leaving Column FIRST_CANX out\n",
      "['FIRST_CANX_2014.0', 'FIRST_CANX_2015.0', 'FIRST_CANX_2016.0', 'FIRST_CANX_2017.0', 'FIRST_CANX_2018.0', 'FIRST_CANX_2019.0']\n",
      "Score: 0.8805\t R2: -0.1383309119\t MSE: 0.1195067973\t Variance: -0.0037283804\n",
      "\n",
      "Leaving Column NEXT_CODE out\n",
      "['NEXT_CODE_AC', 'NEXT_CODE_ACM', 'NEXT_CODE_AF', 'NEXT_CODE_ALTS', 'NEXT_CODE_AMPS', 'NEXT_CODE_AP', 'NEXT_CODE_AS', 'NEXT_CODE_ATT', 'NEXT_CODE_BAJH', 'NEXT_CODE_BAJI', 'NEXT_CODE_BAJL', 'NEXT_CODE_BAJM', 'NEXT_CODE_BAJP', 'NEXT_CODE_BAJW', 'NEXT_CODE_BCL', 'NEXT_CODE_BECE', 'NEXT_CODE_BED', 'NEXT_CODE_BHS', 'NEXT_CODE_BMED', 'NEXT_CODE_BNCG', 'NEXT_CODE_BNGN', 'NEXT_CODE_BNID', 'NEXT_CODE_BNPY', 'NEXT_CODE_BPY', 'NEXT_CODE_BRE', 'NEXT_CODE_BRH', 'NEXT_CODE_BRM', 'NEXT_CODE_BS', 'NEXT_CODE_BSSCI', 'NEXT_CODE_BT', 'NEXT_CODE_CA', 'NEXT_CODE_CAFM', 'NEXT_CODE_CAM', 'NEXT_CODE_CCS', 'NEXT_CODE_CE', 'NEXT_CODE_CES', 'NEXT_CODE_CPSSD', 'NEXT_CODE_CS', 'NEXT_CODE_DME', 'NEXT_CODE_DS', 'NEXT_CODE_EBC', 'NEXT_CODE_EBF', 'NEXT_CODE_EBG', 'NEXT_CODE_EBS', 'NEXT_CODE_EBT', 'NEXT_CODE_EC', 'NEXT_CODE_ECE', 'NEXT_CODE_EE', 'NEXT_CODE_EPL', 'NEXT_CODE_ESH', 'NEXT_CODE_EST', 'NEXT_CODE_ET', 'NEXT_CODE_GCB', 'NEXT_CODE_GG', 'NEXT_CODE_GI', 'NEXT_CODE_HOR', 'NEXT_CODE_INTB', 'NEXT_CODE_IR', 'NEXT_CODE_JHLIL', 'NEXT_CODE_JHLIR', 'NEXT_CODE_JHLMS', 'NEXT_CODE_JHLPO', 'NEXT_CODE_JHMFR', 'NEXT_CODE_JHMIL', 'NEXT_CODE_JHPOM', 'NEXT_CODE_JR', 'NEXT_CODE_JZCM', 'NEXT_CODE_ME', 'NEXT_CODE_MINT', 'NEXT_CODE_MINTD', 'NEXT_CODE_MMA', 'NEXT_CODE_MWB', 'NEXT_CODE_PBM', 'NEXT_CODE_PEB', 'NEXT_CODE_PEM', 'NEXT_CODE_PHA', 'NEXT_CODE_SE', 'NEXT_CODE_SSH']\n",
      "Score: 0.8805\t R2: -0.1383309119\t MSE: 0.1195067973\t Variance: -0.0037283804\n",
      "\n",
      "Leaving Column NEXT_RESULT out\n",
      "['NEXT_RESULT_F', 'NEXT_RESULT_F0', 'NEXT_RESULT_P']\n",
      "Score: 0.8805\t R2: -0.1383309119\t MSE: 0.1195067973\t Variance: -0.0037283804\n",
      "\n",
      "Leaving Column Y2_RETURN out\n",
      "['Y2_RETURN_N', 'Y2_RETURN_Y']\n",
      "Score: 0.8805\t R2: -0.1383309119\t MSE: 0.1195067973\t Variance: -0.0037283804\n",
      "\n",
      "Leaving Column PASS_M1 out\n",
      "['PASS_M1_0', 'PASS_M1_N', 'PASS_M1_Y']\n",
      "Score: 0.8805\t R2: -0.1383309119\t MSE: 0.1195067973\t Variance: -0.0037283804\n",
      "\n",
      "Leaving Column PASS_M5 out\n",
      "['PASS_M5_0', 'PASS_M5_N', 'PASS_M5_Y']\n",
      "Score: 0.8805\t R2: -0.1383309119\t MSE: 0.1195067973\t Variance: -0.0037283804\n",
      "\n",
      "Leaving Column PASS_M8 out\n",
      "['PASS_M8_0', 'PASS_M8_N', 'PASS_M8_Y']\n",
      "Score: 0.8805\t R2: -0.1383309119\t MSE: 0.1195067973\t Variance: -0.0037283804\n",
      "\n",
      "Leaving Column BIO_SEX out\n",
      "['BIO_SEX_F', 'BIO_SEX_M']\n",
      "Score: 0.8805\t R2: -0.1383309119\t MSE: 0.1195067973\t Variance: -0.0037283804\n",
      "\n",
      "Leaving Column ORIGIN_CODE out\n",
      "['ORIGIN_CODE_0.0', 'ORIGIN_CODE_2.0', 'ORIGIN_CODE_3.0', 'ORIGIN_CODE_4.0', 'ORIGIN_CODE_5.0', 'ORIGIN_CODE_6.0', 'ORIGIN_CODE_7.0', 'ORIGIN_CODE_8.0', 'ORIGIN_CODE_9.0', 'ORIGIN_CODE_10.0', 'ORIGIN_CODE_11.0']\n",
      "Score: 0.8805\t R2: -0.1383309119\t MSE: 0.1195067973\t Variance: -0.0037283804\n",
      "\n",
      "Leaving Column SCH_ADDR_CODE out\n",
      "['SCH_ADDR_CODE_2.0', 'SCH_ADDR_CODE_3.0', 'SCH_ADDR_CODE_4.0', 'SCH_ADDR_CODE_5.0', 'SCH_ADDR_CODE_6.0', 'SCH_ADDR_CODE_7.0']\n",
      "Score: 0.8805\t R2: -0.1383309119\t MSE: 0.1195067973\t Variance: -0.0037283804\n",
      "\n",
      "Leaving Column SCH_DEIS out\n",
      "['SCH_DEIS_N', 'SCH_DEIS_Y']\n",
      "Score: 0.8805\t R2: -0.1383309119\t MSE: 0.1195067973\t Variance: -0.0037283804\n",
      "\n",
      "Leaving Column SCH_FEE_PAYING out\n",
      "['SCH_FEE_PAYING_N', 'SCH_FEE_PAYING_Y']\n",
      "Score: 0.8805\t R2: -0.1383309119\t MSE: 0.1195067973\t Variance: -0.0037283804\n",
      "\n",
      "Leaving Column STUDENT_TYPE out\n",
      "['STUDENT_TYPE_1.0', 'STUDENT_TYPE_4.0', 'STUDENT_TYPE_5.0', 'STUDENT_TYPE_7.0', 'STUDENT_TYPE_9.0']\n",
      "Score: 0.8805\t R2: -0.1383309119\t MSE: 0.1195067973\t Variance: -0.0037283804\n",
      "\n",
      "Leaving Column STUDENT_ADDR_CODE out\n",
      "['STUDENT_ADDR_CODE_0.0', 'STUDENT_ADDR_CODE_1.0', 'STUDENT_ADDR_CODE_2.0', 'STUDENT_ADDR_CODE_3.0', 'STUDENT_ADDR_CODE_4.0', 'STUDENT_ADDR_CODE_5.0', 'STUDENT_ADDR_CODE_6.0', 'STUDENT_ADDR_CODE_7.0', 'STUDENT_ADDR_CODE_8.0', 'STUDENT_ADDR_CODE_9.0', 'STUDENT_ADDR_CODE_10.0', 'STUDENT_ADDR_CODE_11.0']\n"
     ]
    },
    {
     "name": "stdout",
     "output_type": "stream",
     "text": [
      "Score: 0.8805\t R2: -0.1383309119\t MSE: 0.1195067973\t Variance: -0.0037283804\n",
      "\n",
      "Leaving Column ADDRESS_CODE out\n",
      "['ADDRESS_CODE_0.0', 'ADDRESS_CODE_1.0', 'ADDRESS_CODE_2.0', 'ADDRESS_CODE_3.0', 'ADDRESS_CODE_4.0', 'ADDRESS_CODE_5.0', 'ADDRESS_CODE_6.0', 'ADDRESS_CODE_7.0', 'ADDRESS_CODE_8.0', 'ADDRESS_CODE_9.0', 'ADDRESS_CODE_10.0', 'ADDRESS_CODE_11.0']\n",
      "Score: 0.8805\t R2: -0.1383309119\t MSE: 0.1195067973\t Variance: -0.0037283804\n",
      "\n",
      "Leaving Column PERMANENT_ADDR_CODE out\n",
      "['PERMANENT_ADDR_CODE_0.0', 'PERMANENT_ADDR_CODE_1.0', 'PERMANENT_ADDR_CODE_2.0', 'PERMANENT_ADDR_CODE_3.0', 'PERMANENT_ADDR_CODE_4.0', 'PERMANENT_ADDR_CODE_5.0', 'PERMANENT_ADDR_CODE_6.0', 'PERMANENT_ADDR_CODE_7.0', 'PERMANENT_ADDR_CODE_8.0', 'PERMANENT_ADDR_CODE_9.0', 'PERMANENT_ADDR_CODE_10.0', 'PERMANENT_ADDR_CODE_11.0']\n",
      "Score: 0.8805\t R2: -0.1383309119\t MSE: 0.1195067973\t Variance: -0.0037283804\n",
      "\n",
      "Leaving Column ENTERPRISE_ESOC out\n",
      "['ENTERPRISE_ESOC_0', 'ENTERPRISE_ESOC_1']\n",
      "Score: 0.8805\t R2: -0.1383309119\t MSE: 0.1195067973\t Variance: -0.0037283804\n",
      "\n",
      "Leaving Column ACC_FINANCE out\n",
      "['ACC_FINANCE_0', 'ACC_FINANCE_1']\n",
      "Score: 0.8805\t R2: -0.1383309119\t MSE: 0.1195067973\t Variance: -0.0037283804\n",
      "\n",
      "Leaving Column FIRST_REL_IND out\n",
      "['FIRST_REL_IND_0.0', 'FIRST_REL_IND_1.0']\n",
      "Score: 0.8805\t R2: -0.1383309119\t MSE: 0.1195067973\t Variance: -0.0037283804\n",
      "\n",
      "Leaving Column FIRST_QUARTILE_RANK out\n",
      "['FIRST_QUARTILE_RANK_1.0', 'FIRST_QUARTILE_RANK_2.0', 'FIRST_QUARTILE_RANK_3.0', 'FIRST_QUARTILE_RANK_4.0']\n",
      "Score: 0.8805\t R2: -0.1383309119\t MSE: 0.1195067973\t Variance: -0.0037283804\n",
      "\n",
      "Leaving Column SECOND_REL_IND out\n",
      "['SECOND_REL_IND_0.0', 'SECOND_REL_IND_1.0']\n",
      "Score: 0.8805\t R2: -0.1383309119\t MSE: 0.1195067973\t Variance: -0.0037283804\n",
      "\n",
      "Leaving Column SECOND_QUARTILE_RANK out\n",
      "['SECOND_QUARTILE_RANK_1.0', 'SECOND_QUARTILE_RANK_2.0', 'SECOND_QUARTILE_RANK_3.0', 'SECOND_QUARTILE_RANK_4.0']\n",
      "Score: 0.8805\t R2: -0.1383309119\t MSE: 0.1195067973\t Variance: -0.0037283804\n",
      "\n",
      "Leaving Column FIRST_RESULT out\n",
      "['FIRST_RESULT_F', 'FIRST_RESULT_F0', 'FIRST_RESULT_P']\n",
      "Score: 0.8805\t R2: -0.1383309119\t MSE: 0.1195067973\t Variance: -0.0037283804\n",
      "\n",
      "Leaving Column YR_NUM out\n",
      "['YR_NUM']\n",
      "Score: 0.8805\t R2: -0.1383309119\t MSE: 0.1195067973\t Variance: -0.0037283804\n",
      "\n",
      "Leaving Column TOTAL_YEARS out\n",
      "['TOTAL_YEARS']\n",
      "Score: 0.8805\t R2: -0.1383309119\t MSE: 0.1195067973\t Variance: -0.0037283804\n",
      "\n",
      "Leaving Column DAYS_TO_FIRST_REG out\n",
      "['DAYS_TO_FIRST_REG']\n",
      "Score: 0.8802\t R2: -0.1413423693\t MSE: 0.1198229529\t Variance: -0.0074548567\n",
      "\n",
      "Leaving Column SCH_ENROLMENTS out\n",
      "['SCH_ENROLMENTS']\n",
      "Score: 0.8805\t R2: -0.1383309119\t MSE: 0.1195067973\t Variance: -0.0037283804\n",
      "\n",
      "Leaving Column YEARS_SINCE_LC out\n",
      "['YEARS_SINCE_LC']\n",
      "Score: 0.8805\t R2: -0.1383309119\t MSE: 0.1195067973\t Variance: -0.0037283804\n",
      "\n",
      "Leaving Column CAO_POINTS out\n",
      "['CAO_POINTS']\n",
      "Score: 0.8805\t R2: -0.1383309119\t MSE: 0.1195067973\t Variance: -0.0051565139\n",
      "\n",
      "Leaving Column LC_MATHS_POINTS out\n",
      "['LC_MATHS_POINTS']\n",
      "Score: 0.8802\t R2: -0.1413423693\t MSE: 0.1198229529\t Variance: -0.0074548567\n",
      "\n",
      "Leaving Column NUM_GRANTS out\n",
      "['NUM_GRANTS']\n",
      "Score: 0.8805\t R2: -0.1383309119\t MSE: 0.1195067973\t Variance: -0.0037283804\n",
      "\n",
      "Leaving Column NUM_SUBJECTS out\n",
      "['NUM_SUBJECTS']\n",
      "Score: 0.8805\t R2: -0.1383309119\t MSE: 0.1195067973\t Variance: -0.0037283804\n",
      "\n",
      "Leaving Column NUM_MEMBERSHIPS out\n",
      "['NUM_MEMBERSHIPS']\n",
      "Score: 0.8805\t R2: -0.1383309119\t MSE: 0.1195067973\t Variance: -0.0037283804\n",
      "\n",
      "Leaving Column NUM_SOCIETIES out\n",
      "['NUM_SOCIETIES']\n",
      "Score: 0.8805\t R2: -0.1383309119\t MSE: 0.1195067973\t Variance: -0.0037283804\n",
      "\n",
      "Leaving Column NUM_CLUBS out\n",
      "['NUM_CLUBS']\n",
      "Score: 0.8805\t R2: -0.1383309119\t MSE: 0.1195067973\t Variance: -0.0037283804\n",
      "\n",
      "Leaving Column NUM_M1_SUBJECTS out\n",
      "['NUM_M1_SUBJECTS']\n",
      "Score: 0.8805\t R2: -0.1383309119\t MSE: 0.1195067973\t Variance: -0.0037283804\n",
      "\n",
      "Leaving Column NUM_M5_SUBJECTS out\n",
      "['NUM_M5_SUBJECTS']\n",
      "Score: 0.8805\t R2: -0.1383309119\t MSE: 0.1195067973\t Variance: -0.0037283804\n",
      "\n",
      "Leaving Column NUM_M8_SUBJECTS out\n",
      "['NUM_M8_SUBJECTS']\n",
      "Score: 0.8805\t R2: -0.1383309119\t MSE: 0.1195067973\t Variance: -0.0037283804\n",
      "\n",
      "Leaving Column NUM_M1_FAILS out\n",
      "['NUM_M1_FAILS']\n",
      "Score: 0.8805\t R2: -0.1383309119\t MSE: 0.1195067973\t Variance: -0.0037283804\n",
      "\n",
      "Leaving Column NUM_M5_FAILS out\n",
      "['NUM_M5_FAILS']\n",
      "Score: 0.8805\t R2: -0.1383309119\t MSE: 0.1195067973\t Variance: -0.0037283804\n",
      "\n",
      "Leaving Column AGE_AT_START out\n",
      "['AGE_AT_START']\n",
      "Score: 0.8805\t R2: -0.1383309119\t MSE: 0.1195067973\t Variance: -0.0037283804\n",
      "\n",
      "Leaving Column NUM_EARLY_LOANS out\n",
      "['NUM_EARLY_LOANS']\n",
      "Score: 0.8805\t R2: -0.1383309119\t MSE: 0.1195067973\t Variance: -0.0037283804\n",
      "\n",
      "Leaving Column DAYS_TO_FIRST_LOAN out\n",
      "['DAYS_TO_FIRST_LOAN']\n",
      "Score: 0.8805\t R2: -0.1383309119\t MSE: 0.1195067973\t Variance: -0.0037283804\n",
      "\n",
      "Leaving Column DAYS_TO_FIRST_LAB out\n",
      "['DAYS_TO_FIRST_LAB']\n",
      "Score: 0.8808\t R2: -0.1353194544\t MSE: 0.1191906418\t Variance: 0.0000000000\n",
      "\n",
      "Leaving Column DAYS_TO_FIRST_ACCESS out\n",
      "['DAYS_TO_FIRST_ACCESS']\n",
      "Score: 0.8805\t R2: -0.1383309119\t MSE: 0.1195067973\t Variance: -0.0037283804\n",
      "\n",
      "Leaving Column DAYS_TO_FIRST_DUE_DATE out\n",
      "['DAYS_TO_FIRST_DUE_DATE']\n",
      "Score: 0.8805\t R2: -0.1383309119\t MSE: 0.1195067973\t Variance: -0.0037283804\n",
      "\n",
      "Leaving Column DAYS_FIRST_SUBMITTED_EARLY out\n",
      "['DAYS_FIRST_SUBMITTED_EARLY']\n",
      "Score: 0.8805\t R2: -0.1383309119\t MSE: 0.1195067973\t Variance: -0.0037283804\n",
      "\n",
      "Leaving Column FIRST_GRADE out\n",
      "['FIRST_GRADE', 'FIRST_GRADE_PC']\n",
      "Score: 0.8805\t R2: -0.1383309119\t MSE: 0.1195067973\t Variance: -0.0037283804\n",
      "\n",
      "Leaving Column FIRST_ASSIGN_GRADE out\n",
      "['FIRST_ASSIGN_GRADE']\n",
      "Score: 0.8805\t R2: -0.1383309119\t MSE: 0.1195067973\t Variance: -0.0037283804\n",
      "\n",
      "Leaving Column FIRST_GRADE_PC out\n",
      "['FIRST_GRADE_PC']\n",
      "Score: 0.8805\t R2: -0.1383309119\t MSE: 0.1195067973\t Variance: -0.0037283804\n",
      "\n",
      "Leaving Column FIRST_GRADE out\n",
      "['FIRST_GRADE', 'FIRST_GRADE_PC']\n",
      "Score: 0.8805\t R2: -0.1383309119\t MSE: 0.1195067973\t Variance: -0.0037283804\n",
      "\n",
      "Leaving Column DAYS_TO_SECOND_DUE_DATE out\n",
      "['DAYS_TO_SECOND_DUE_DATE']\n",
      "Score: 0.8805\t R2: -0.1383309119\t MSE: 0.1195067973\t Variance: -0.0037283804\n",
      "\n",
      "Leaving Column DAYS_SECOND_SUBMITTED_EARLY out\n",
      "['DAYS_SECOND_SUBMITTED_EARLY']\n",
      "Score: 0.8805\t R2: -0.1383309119\t MSE: 0.1195067973\t Variance: -0.0037283804\n",
      "\n",
      "Leaving Column SECOND_GRADE out\n",
      "['SECOND_GRADE', 'SECOND_GRADE_PC']\n",
      "Score: 0.8805\t R2: -0.1383309119\t MSE: 0.1195067973\t Variance: -0.0037283804\n",
      "\n",
      "Leaving Column SECOND_ASSIGN_GRADE out\n",
      "['SECOND_ASSIGN_GRADE']\n",
      "Score: 0.8805\t R2: -0.1383309119\t MSE: 0.1195067973\t Variance: -0.0037283804\n",
      "\n",
      "Leaving Column SECOND_GRADE_PC out\n",
      "['SECOND_GRADE_PC']\n",
      "Score: 0.8805\t R2: -0.1383309119\t MSE: 0.1195067973\t Variance: -0.0037283804\n",
      "\n",
      "Leaving Column NUM_EARLY_ASSIGNMENTS out\n",
      "['NUM_EARLY_ASSIGNMENTS']\n",
      "Score: 0.8805\t R2: -0.1383309119\t MSE: 0.1195067973\t Variance: -0.0037283804\n",
      "\n",
      "Leaving Column NUM_EARLY_LATES out\n",
      "['NUM_EARLY_LATES']\n",
      "Score: 0.8805\t R2: -0.1383309119\t MSE: 0.1195067973\t Variance: -0.0037283804\n",
      "\n",
      "Leaving Column EARLY_Q1_SUBS_PC out\n",
      "['EARLY_Q1_SUBS_PC']\n",
      "Score: 0.8805\t R2: -0.1383309119\t MSE: 0.1195067973\t Variance: -0.0037283804\n",
      "\n",
      "Leaving Column EARLY_Q2_SUBS_PC out\n",
      "['EARLY_Q2_SUBS_PC']\n",
      "Score: 0.8805\t R2: -0.1383309119\t MSE: 0.1195067973\t Variance: -0.0037283804\n",
      "\n",
      "Leaving Column EARLY_Q3_SUBS_PC out\n",
      "['EARLY_Q3_SUBS_PC']\n",
      "Score: 0.8805\t R2: -0.1383309119\t MSE: 0.1195067973\t Variance: -0.0037283804\n",
      "\n",
      "Leaving Column EARLY_Q4_SUBS_PC out\n",
      "['EARLY_Q4_SUBS_PC']\n",
      "Score: 0.8805\t R2: -0.1383309119\t MSE: 0.1195067973\t Variance: -0.0037283804\n",
      "\n",
      "Leaving Column NUM_EARLY_CRM out\n",
      "['NUM_EARLY_CRM']\n",
      "Score: 0.8805\t R2: -0.1383309119\t MSE: 0.1195067973\t Variance: -0.0037283804\n",
      "\n",
      "Leaving Column NUM_EARLY_ACCESS_DAYS out\n",
      "['NUM_EARLY_ACCESS_DAYS']\n",
      "Score: 0.8805\t R2: -0.1383309119\t MSE: 0.1195067973\t Variance: -0.0037283804\n",
      "\n",
      "Leaving Column NUM_EARLY_TYPE_A out\n",
      "['NUM_EARLY_TYPE_A']\n",
      "Score: 0.8805\t R2: -0.1383309119\t MSE: 0.1195067973\t Variance: -0.0037283804\n",
      "\n",
      "Leaving Column NUM_EARLY_TYPE_B out\n",
      "['NUM_EARLY_TYPE_B']\n",
      "Score: 0.8805\t R2: -0.1383309119\t MSE: 0.1195067973\t Variance: -0.0037283804\n",
      "\n",
      "Leaving Column NUM_EARLY_TYPE_C out\n",
      "['NUM_EARLY_TYPE_C']\n",
      "Score: 0.8805\t R2: -0.1383309119\t MSE: 0.1195067973\t Variance: -0.0037283804\n",
      "\n",
      "Leaving Column NUM_EARLY_TYPE_D out\n",
      "['NUM_EARLY_TYPE_D']\n",
      "Score: 0.8805\t R2: -0.1383309119\t MSE: 0.1195067973\t Variance: -0.0037283804\n",
      "\n",
      "Leaving Column NUM_EARLY_TYPE_E out\n",
      "['NUM_EARLY_TYPE_E']\n"
     ]
    },
    {
     "name": "stdout",
     "output_type": "stream",
     "text": [
      "Score: 0.8805\t R2: -0.1383309119\t MSE: 0.1195067973\t Variance: -0.0037283804\n",
      "\n",
      "Leaving Column NUM_EARLY_TYPE_S out\n",
      "['NUM_EARLY_TYPE_S']\n",
      "Score: 0.8805\t R2: -0.1383309119\t MSE: 0.1195067973\t Variance: -0.0037283804\n",
      "\n",
      "Leaving Column NUM_EARLY_TYPE_X out\n",
      "['NUM_EARLY_TYPE_X']\n",
      "Score: 0.8805\t R2: -0.1383309119\t MSE: 0.1195067973\t Variance: -0.0037283804\n",
      "\n",
      "Leaving Column NUM_FEB_CRM out\n",
      "['NUM_FEB_CRM']\n",
      "Score: 0.8805\t R2: -0.1383309119\t MSE: 0.1195067973\t Variance: -0.0037283804\n",
      "\n",
      "Leaving Column NUM_FEB_ACCESS_DAYS out\n",
      "['NUM_FEB_ACCESS_DAYS']\n",
      "Score: 0.8805\t R2: -0.1383309119\t MSE: 0.1195067973\t Variance: -0.0037283804\n",
      "\n",
      "Leaving Column NUM_FEB_TYPE_A out\n",
      "['NUM_FEB_TYPE_A']\n",
      "Score: 0.8805\t R2: -0.1383309119\t MSE: 0.1195067973\t Variance: -0.0037283804\n",
      "\n",
      "Leaving Column NUM_FEB_TYPE_B out\n",
      "['NUM_FEB_TYPE_B']\n",
      "Score: 0.8805\t R2: -0.1383309119\t MSE: 0.1195067973\t Variance: -0.0037283804\n",
      "\n",
      "Leaving Column NUM_FEB_TYPE_C out\n",
      "['NUM_FEB_TYPE_C']\n",
      "Score: 0.8805\t R2: -0.1383309119\t MSE: 0.1195067973\t Variance: -0.0037283804\n",
      "\n",
      "Leaving Column NUM_FEB_TYPE_D out\n",
      "['NUM_FEB_TYPE_D']\n",
      "Score: 0.8805\t R2: -0.1383309119\t MSE: 0.1195067973\t Variance: -0.0037283804\n",
      "\n",
      "Leaving Column NUM_FEB_TYPE_E out\n",
      "['NUM_FEB_TYPE_E']\n",
      "Score: 0.8805\t R2: -0.1383309119\t MSE: 0.1195067973\t Variance: -0.0037283804\n",
      "\n",
      "Leaving Column NUM_FEB_TYPE_S out\n",
      "['NUM_FEB_TYPE_S']\n",
      "Score: 0.8805\t R2: -0.1383309119\t MSE: 0.1195067973\t Variance: -0.0037283804\n",
      "\n",
      "Leaving Column NUM_FEB_TYPE_X out\n",
      "['NUM_FEB_TYPE_X']\n",
      "Score: 0.8805\t R2: -0.1383309119\t MSE: 0.1195067973\t Variance: -0.0037283804\n",
      "\n",
      "Leaving Column NUM_MAY_CRM out\n",
      "['NUM_MAY_CRM']\n",
      "Score: 0.8805\t R2: -0.1383309119\t MSE: 0.1195067973\t Variance: -0.0037283804\n",
      "\n",
      "Leaving Column NUM_MAY_TYPE_A out\n",
      "['NUM_MAY_TYPE_A']\n",
      "Score: 0.8805\t R2: -0.1383309119\t MSE: 0.1195067973\t Variance: -0.0037283804\n",
      "\n",
      "Leaving Column NUM_MAY_TYPE_B out\n",
      "['NUM_MAY_TYPE_B']\n",
      "Score: 0.8805\t R2: -0.1383309119\t MSE: 0.1195067973\t Variance: -0.0037283804\n",
      "\n",
      "Leaving Column NUM_MAY_TYPE_C out\n",
      "['NUM_MAY_TYPE_C']\n",
      "Score: 0.8805\t R2: -0.1383309119\t MSE: 0.1195067973\t Variance: -0.0037283804\n",
      "\n",
      "Leaving Column NUM_MAY_TYPE_D out\n",
      "['NUM_MAY_TYPE_D']\n",
      "Score: 0.8805\t R2: -0.1383309119\t MSE: 0.1195067973\t Variance: -0.0037283804\n",
      "\n",
      "Leaving Column NUM_MAY_TYPE_E out\n",
      "['NUM_MAY_TYPE_E']\n",
      "Score: 0.8805\t R2: -0.1383309119\t MSE: 0.1195067973\t Variance: -0.0037283804\n",
      "\n",
      "Leaving Column NUM_MAY_TYPE_S out\n",
      "['NUM_MAY_TYPE_S']\n",
      "Score: 0.8805\t R2: -0.1383309119\t MSE: 0.1195067973\t Variance: -0.0037283804\n",
      "\n",
      "Leaving Column NUM_MAY_TYPE_X out\n",
      "['NUM_MAY_TYPE_X']\n",
      "Score: 0.8805\t R2: -0.1383309119\t MSE: 0.1195067973\t Variance: -0.0037283804\n",
      "\n",
      "Leaving Column DAYS_TO_FIRST_CRM out\n",
      "['DAYS_TO_FIRST_CRM']\n",
      "Score: 0.8805\t R2: -0.1383309119\t MSE: 0.1195067973\t Variance: -0.0037283804\n",
      "\n",
      "Leaving Column PREV_NUM_CRM out\n",
      "['PREV_NUM_CRM']\n",
      "Score: 0.8805\t R2: -0.1383309119\t MSE: 0.1195067973\t Variance: -0.0037283804\n",
      "\n"
     ]
    }
   ],
   "source": [
    "scores = {}\n",
    "\n",
    "for column_name in original_columns:\n",
    "    \n",
    "    print('Leaving Column {} out'.format(column_name))\n",
    "    \n",
    "    # Train a model and give me back the variance explained\n",
    "    var = train_model([ column_name ])\n",
    "    \n",
    "    # Leaving that column out, we get this variance explained\n",
    "    scores[column_name] = var\n",
    "\n",
    "    print()"
   ]
  },
  {
   "cell_type": "code",
   "execution_count": 42,
   "metadata": {},
   "outputs": [],
   "source": [
    "def plot(scores):\n",
    "    plt.figure(figsize=(16, 4))\n",
    "    plt.title(\"Variance explained excluding the following features\")\n",
    "    plt.bar(range(len(scores)), scores.values(), color=\"b\", align=\"center\")\n",
    "    plt.xticks(range(len(scores)), scores.keys(), rotation='vertical', fontsize=6)\n",
    "    # Pad margins so that markers don't get clipped by the axes\n",
    "    plt.margins(0.1)\n",
    "    # Tweak spacing to prevent clipping of tick-labels\n",
    "    plt.subplots_adjust(bottom=0.15)\n",
    "    filename = '../figures/linear_model_variance_explained_by_excluding_features.png'\n",
    "    plt.savefig(filename, bbox_inches=\"tight\", dpi=100)"
   ]
  },
  {
   "cell_type": "code",
   "execution_count": 43,
   "metadata": {},
   "outputs": [
    {
     "data": {
      "image/png": "[encoded data removed]",
      "text/plain": [
       "<Figure size 1152x288 with 1 Axes>"
      ]
     },
     "metadata": {},
     "output_type": "display_data"
    }
   ],
   "source": [
    "plot(scores)"
   ]
  },
  {
   "cell_type": "code",
   "execution_count": 37,
   "metadata": {
    "scrolled": false
   },
   "outputs": [
    {
     "name": "stdout",
     "output_type": "stream",
     "text": [
      "Excluding DAYS_TO_FIRST_REG,\t variance explained:-0.00745\n",
      "Excluding LC_MATHS_POINTS,\t variance explained:-0.00745\n",
      "Excluding CAO_POINTS,\t variance explained:-0.00516\n",
      "Excluding NUM_EARLY_TYPE_C,\t variance explained:-0.00373\n",
      "Excluding FIRST_ASSIGN_GRADE,\t variance explained:-0.00373\n",
      "Excluding FIRST_REL_IND,\t variance explained:-0.00373\n",
      "Excluding PREV_COURSE,\t variance explained:-0.00373\n",
      "Excluding NUM_FEB_TYPE_A,\t variance explained:-0.00373\n",
      "Excluding ENTERPRISE_ESOC,\t variance explained:-0.00373\n",
      "Excluding FEB_CANX_DEFER,\t variance explained:-0.00373\n",
      "Excluding NUM_MAY_TYPE_C,\t variance explained:-0.00373\n",
      "Excluding NUM_MEMBERSHIPS,\t variance explained:-0.00373\n",
      "Excluding EARLY_CANX_DEFER,\t variance explained:-0.00373\n",
      "Excluding NUM_MAY_TYPE_D,\t variance explained:-0.00373\n",
      "Excluding PREV_CANX,\t variance explained:-0.00373\n",
      "Excluding FACULTY,\t variance explained:-0.00373\n",
      "Excluding PREV_RESULT,\t variance explained:-0.00373\n",
      "Excluding AGE_AT_START,\t variance explained:-0.00373\n",
      "Excluding PASS_M1,\t variance explained:-0.00373\n",
      "Excluding SECOND_QUARTILE_RANK,\t variance explained:-0.00373\n",
      "Excluding PASS_M8,\t variance explained:-0.00373\n",
      "Excluding EARLY_TRANSFER,\t variance explained:-0.00373\n",
      "Excluding NUM_EARLY_LATES,\t variance explained:-0.00373\n",
      "Excluding DAYS_TO_FIRST_CRM,\t variance explained:-0.00373\n",
      "Excluding FIRST_FACULTY,\t variance explained:-0.00373\n",
      "Excluding EARLY_Q3_SUBS_PC,\t variance explained:-0.00373\n",
      "Excluding ACC_FINANCE,\t variance explained:-0.00373\n",
      "Excluding NUM_FEB_TYPE_C,\t variance explained:-0.00373\n",
      "Excluding SCH_DEIS,\t variance explained:-0.00373\n",
      "Excluding FIRST_DEPT,\t variance explained:-0.00373\n",
      "Excluding NUM_EARLY_TYPE_X,\t variance explained:-0.00373\n",
      "Excluding FIRST_GRADE,\t variance explained:-0.00373\n",
      "Excluding DAYS_TO_FIRST_LOAN,\t variance explained:-0.00373\n",
      "Excluding PREV_DEPT,\t variance explained:-0.00373\n",
      "Excluding NUM_M8_SUBJECTS,\t variance explained:-0.00373\n",
      "Excluding NUM_M1_SUBJECTS,\t variance explained:-0.00373\n",
      "Excluding NUM_EARLY_TYPE_S,\t variance explained:-0.00373\n",
      "Excluding PASS_M5,\t variance explained:-0.00373\n",
      "Excluding NUM_EARLY_ACCESS_DAYS,\t variance explained:-0.00373\n",
      "Excluding NUM_FEB_TYPE_D,\t variance explained:-0.00373\n",
      "Excluding EARLY_Q1_SUBS_PC,\t variance explained:-0.00373\n",
      "Excluding NUM_FEB_CRM,\t variance explained:-0.00373\n",
      "Excluding NUM_MAY_TYPE_X,\t variance explained:-0.00373\n",
      "Excluding NUM_MAY_TYPE_S,\t variance explained:-0.00373\n",
      "Excluding DAYS_FIRST_SUBMITTED_EARLY,\t variance explained:-0.00373\n",
      "Excluding NUM_FEB_TYPE_B,\t variance explained:-0.00373\n",
      "Excluding NEXT_CODE,\t variance explained:-0.00373\n",
      "Excluding NEXT_RESULT,\t variance explained:-0.00373\n",
      "Excluding YR_NUM,\t variance explained:-0.00373\n",
      "Excluding DAYS_TO_FIRST_DUE_DATE,\t variance explained:-0.00373\n",
      "Excluding CANX,\t variance explained:-0.00373\n",
      "Excluding DAYS_TO_FIRST_ACCESS,\t variance explained:-0.00373\n",
      "Excluding NUM_SUBJECTS,\t variance explained:-0.00373\n",
      "Excluding NUM_CLUBS,\t variance explained:-0.00373\n",
      "Excluding EARLY_CANX_LEFT,\t variance explained:-0.00373\n",
      "Excluding YEARS_SINCE_LC,\t variance explained:-0.00373\n",
      "Excluding NUM_MAY_TYPE_A,\t variance explained:-0.00373\n",
      "Excluding PREV_FACULTY,\t variance explained:-0.00373\n",
      "Excluding NUM_M5_SUBJECTS,\t variance explained:-0.00373\n",
      "Excluding PREV_NUM_CRM,\t variance explained:-0.00373\n",
      "Excluding COURSE,\t variance explained:-0.00373\n",
      "Excluding TOTAL_YEARS,\t variance explained:-0.00373\n",
      "Excluding NUM_M1_FAILS,\t variance explained:-0.00373\n",
      "Excluding NUM_GRANTS,\t variance explained:-0.00373\n",
      "Excluding PERMANENT_ADDR_CODE,\t variance explained:-0.00373\n",
      "Excluding DEPT,\t variance explained:-0.00373\n",
      "Excluding NUM_EARLY_ASSIGNMENTS,\t variance explained:-0.00373\n",
      "Excluding NUM_EARLY_LOANS,\t variance explained:-0.00373\n",
      "Excluding FIRST_QUARTILE_RANK,\t variance explained:-0.00373\n",
      "Excluding SCH_FEE_PAYING,\t variance explained:-0.00373\n",
      "Excluding SCH_ADDR_CODE,\t variance explained:-0.00373\n",
      "Excluding NUM_MAY_TYPE_E,\t variance explained:-0.00373\n",
      "Excluding SECOND_GRADE_PC,\t variance explained:-0.00373\n",
      "Excluding NUM_MAY_CRM,\t variance explained:-0.00373\n",
      "Excluding NUM_FEB_TYPE_X,\t variance explained:-0.00373\n",
      "Excluding FIRST_CANX,\t variance explained:-0.00373\n",
      "Excluding DAYS_SECOND_SUBMITTED_EARLY,\t variance explained:-0.00373\n",
      "Excluding FIRST_GRADE_PC,\t variance explained:-0.00373\n",
      "Excluding STUDENT_TYPE,\t variance explained:-0.00373\n",
      "Excluding NUM_EARLY_TYPE_E,\t variance explained:-0.00373\n",
      "Excluding FIRST_RESULT,\t variance explained:-0.00373\n",
      "Excluding NUM_EARLY_TYPE_A,\t variance explained:-0.00373\n",
      "Excluding SECOND_GRADE,\t variance explained:-0.00373\n",
      "Excluding EARLY_Q2_SUBS_PC,\t variance explained:-0.00373\n",
      "Excluding Y2_RETURN,\t variance explained:-0.00373\n",
      "Excluding NUM_EARLY_CRM,\t variance explained:-0.00373\n",
      "Excluding PREV_CODE,\t variance explained:-0.00373\n",
      "Excluding DAYS_TO_SECOND_DUE_DATE,\t variance explained:-0.00373\n",
      "Excluding CODE,\t variance explained:-0.00373\n",
      "Excluding FEB_CANX_LEFT,\t variance explained:-0.00373\n",
      "Excluding NUM_FEB_TYPE_S,\t variance explained:-0.00373\n",
      "Excluding SECOND_ASSIGN_GRADE,\t variance explained:-0.00373\n",
      "Excluding SCH_ENROLMENTS,\t variance explained:-0.00373\n",
      "Excluding NUM_M5_FAILS,\t variance explained:-0.00373\n",
      "Excluding FIRST_CODE,\t variance explained:-0.00373\n",
      "Excluding EARLY_Q4_SUBS_PC,\t variance explained:-0.00373\n",
      "Excluding YEAR,\t variance explained:-0.00373\n",
      "Excluding ADDRESS_CODE,\t variance explained:-0.00373\n",
      "Excluding NUM_FEB_ACCESS_DAYS,\t variance explained:-0.00373\n",
      "Excluding SECOND_REL_IND,\t variance explained:-0.00373\n",
      "Excluding NUM_EARLY_TYPE_D,\t variance explained:-0.00373\n",
      "Excluding ORIGIN_CODE,\t variance explained:-0.00373\n",
      "Excluding NUM_FEB_TYPE_E,\t variance explained:-0.00373\n",
      "Excluding BIO_SEX,\t variance explained:-0.00373\n",
      "Excluding FIRST_COURSE,\t variance explained:-0.00373\n",
      "Excluding NUM_SOCIETIES,\t variance explained:-0.00373\n",
      "Excluding STUDENT_ADDR_CODE,\t variance explained:-0.00373\n",
      "Excluding NUM_EARLY_TYPE_B,\t variance explained:-0.00373\n",
      "Excluding NUM_MAY_TYPE_B,\t variance explained:-0.00373\n",
      "Excluding DAYS_TO_FIRST_LAB,\t variance explained:0.00000\n"
     ]
    }
   ],
   "source": [
    "for key, value in sorted(scores.items(), key=lambda kv: kv[1]):\n",
    "    print('Excluding {},\\t variance explained:{:0.5f}'.format(key, value))"
   ]
  },
  {
   "cell_type": "code",
   "execution_count": 38,
   "metadata": {},
   "outputs": [],
   "source": [
    "# create function to drop col\n",
    "# CAlculate everything...?\n",
    "# that we can re-use to drop multiple cols"
   ]
  },
  {
   "cell_type": "code",
   "execution_count": 65,
   "metadata": {},
   "outputs": [],
   "source": [
    "column_names = [\n",
    "    'DAYS_TO_FIRST_REG',\n",
    "    'LC_MATHS_POINTS',\n",
    "    'CAO_POINTS',\n",
    "]"
   ]
  },
  {
   "cell_type": "code",
   "execution_count": 66,
   "metadata": {},
   "outputs": [
    {
     "data": {
      "text/plain": [
       "['DAYS_TO_FIRST_REG', 'LC_MATHS_POINTS', 'CAO_POINTS']"
      ]
     },
     "execution_count": 66,
     "metadata": {},
     "output_type": "execute_result"
    }
   ],
   "source": [
    "column_names"
   ]
  },
  {
   "cell_type": "code",
   "execution_count": 67,
   "metadata": {},
   "outputs": [
    {
     "name": "stdout",
     "output_type": "stream",
     "text": [
      "['DAYS_TO_FIRST_REG', 'LC_MATHS_POINTS', 'CAO_POINTS']\n",
      "Score: 0.8805\t R2: -0.1383309119\t MSE: 0.1195067973\t Variance: -0.0065770307\n"
     ]
    },
    {
     "data": {
      "text/plain": [
       "-0.006577030662977323"
      ]
     },
     "execution_count": 67,
     "metadata": {},
     "output_type": "execute_result"
    }
   ],
   "source": [
    "train_model(column_names)"
   ]
  },
  {
   "cell_type": "code",
   "execution_count": 68,
   "metadata": {},
   "outputs": [
    {
     "name": "stdout",
     "output_type": "stream",
     "text": [
      "['DAYS_TO_FIRST_REG', 'LC_MATHS_POINTS']\n",
      "Score: 0.8802\t R2: -0.1413423693\t MSE: 0.1198229529\t Variance: -0.0074548567\n"
     ]
    },
    {
     "data": {
      "text/plain": [
       "-0.0074548567010874756"
      ]
     },
     "execution_count": 68,
     "metadata": {},
     "output_type": "execute_result"
    }
   ],
   "source": [
    "column_names = [\n",
    "    'DAYS_TO_FIRST_REG',\n",
    "    'LC_MATHS_POINTS',\n",
    "]\n",
    "train_model(column_names)"
   ]
  },
  {
   "cell_type": "code",
   "execution_count": 69,
   "metadata": {},
   "outputs": [
    {
     "name": "stdout",
     "output_type": "stream",
     "text": [
      "['LC_MATHS_POINTS', 'CAO_POINTS']\n",
      "Score: 0.8805\t R2: -0.1383309119\t MSE: 0.1195067973\t Variance: -0.0065770307\n"
     ]
    },
    {
     "data": {
      "text/plain": [
       "-0.006577030662977323"
      ]
     },
     "execution_count": 69,
     "metadata": {},
     "output_type": "execute_result"
    }
   ],
   "source": [
    "column_names = [\n",
    "    'LC_MATHS_POINTS',\n",
    "    'CAO_POINTS',\n",
    "]\n",
    "train_model(column_names)"
   ]
  },
  {
   "cell_type": "code",
   "execution_count": 70,
   "metadata": {},
   "outputs": [
    {
     "name": "stdout",
     "output_type": "stream",
     "text": [
      "['DAYS_TO_FIRST_REG', 'CAO_POINTS']\n",
      "Score: 0.8802\t R2: -0.1413423693\t MSE: 0.1198229529\t Variance: -0.0088791818\n"
     ]
    },
    {
     "data": {
      "text/plain": [
       "-0.008879181812815329"
      ]
     },
     "execution_count": 70,
     "metadata": {},
     "output_type": "execute_result"
    }
   ],
   "source": [
    "column_names = [\n",
    "    'DAYS_TO_FIRST_REG',\n",
    "    'CAO_POINTS',\n",
    "]\n",
    "train_model(column_names)"
   ]
  },
  {
   "cell_type": "code",
   "execution_count": 71,
   "metadata": {},
   "outputs": [
    {
     "name": "stdout",
     "output_type": "stream",
     "text": [
      "['DAYS_TO_FIRST_REG', 'LC_MATHS_POINTS', 'CAO_POINTS', 'DAYS_TO_FIRST_LAB']\n",
      "Score: 0.8808\t R2: -0.1353194544\t MSE: 0.1191906418\t Variance: 0.0000000000\n"
     ]
    },
    {
     "data": {
      "text/plain": [
       "0.0"
      ]
     },
     "execution_count": 71,
     "metadata": {},
     "output_type": "execute_result"
    }
   ],
   "source": [
    "column_names = [\n",
    "    'DAYS_TO_FIRST_REG',\n",
    "    'LC_MATHS_POINTS',\n",
    "    'CAO_POINTS',\n",
    "    'DAYS_TO_FIRST_LAB',\n",
    "]\n",
    "train_model(column_names)"
   ]
  },
  {
   "cell_type": "code",
   "execution_count": 72,
   "metadata": {},
   "outputs": [
    {
     "name": "stdout",
     "output_type": "stream",
     "text": [
      "['DAYS_TO_FIRST_REG', 'DAYS_TO_FIRST_LAB']\n",
      "Score: 0.8808\t R2: -0.1353194544\t MSE: 0.1191906418\t Variance: 0.0000000000\n"
     ]
    },
    {
     "data": {
      "text/plain": [
       "0.0"
      ]
     },
     "execution_count": 72,
     "metadata": {},
     "output_type": "execute_result"
    }
   ],
   "source": [
    "column_names = [\n",
    "    'DAYS_TO_FIRST_REG',\n",
    "    'DAYS_TO_FIRST_LAB',\n",
    "]\n",
    "train_model(column_names)"
   ]
  },
  {
   "cell_type": "code",
   "execution_count": 74,
   "metadata": {},
   "outputs": [
    {
     "name": "stdout",
     "output_type": "stream",
     "text": [
      "Excluding: ['CAO_POINTS', 'DAYS_TO_FIRST_LAB']\n",
      "Score: 0.8808\t R2: -0.1353194544\t MSE: 0.1191906418\t Variance: 0.0000000000\n"
     ]
    },
    {
     "data": {
      "text/plain": [
       "0.0"
      ]
     },
     "execution_count": 74,
     "metadata": {},
     "output_type": "execute_result"
    }
   ],
   "source": [
    "column_names = [\n",
    "    'CAO_POINTS',\n",
    "    'DAYS_TO_FIRST_LAB',\n",
    "]\n",
    "train_model(column_names)"
   ]
  },
  {
   "cell_type": "code",
   "execution_count": 75,
   "metadata": {},
   "outputs": [
    {
     "name": "stdout",
     "output_type": "stream",
     "text": [
      "Excluding: []\n",
      "Score: 0.8805\t R2: -0.1383309119\t MSE: 0.1195067973\t Variance: -0.0037283804\n"
     ]
    },
    {
     "data": {
      "text/plain": [
       "-0.003728380439522727"
      ]
     },
     "execution_count": 75,
     "metadata": {},
     "output_type": "execute_result"
    }
   ],
   "source": [
    "column_names = []\n",
    "train_model(column_names)"
   ]
  },
  {
   "cell_type": "code",
   "execution_count": null,
   "metadata": {},
   "outputs": [],
   "source": []
  }
 ],
 "metadata": {
  "kernelspec": {
   "display_name": "Python 3",
   "language": "python",
   "name": "python3"
  },
  "language_info": {
   "codemirror_mode": {
    "name": "ipython",
    "version": 3
   },
   "file_extension": ".py",
   "mimetype": "text/x-python",
   "name": "python",
   "nbconvert_exporter": "python",
   "pygments_lexer": "ipython3",
   "version": "3.5.2"
  }
 },
 "nbformat": 4,
 "nbformat_minor": 2
}
