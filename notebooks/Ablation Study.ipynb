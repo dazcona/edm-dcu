{
 "cells": [
  {
   "cell_type": "markdown",
   "metadata": {},
   "source": [
    "## Linear Modelling & Ablation Studies"
   ]
  },
  {
   "cell_type": "code",
   "execution_count": 1,
   "metadata": {},
   "outputs": [],
   "source": [
    "import numpy as np\n",
    "from sklearn.linear_model import LinearRegression\n",
    "from sklearn.model_selection import ShuffleSplit\n",
    "from sklearn.model_selection import cross_val_score\n",
    "from sklearn.metrics import classification_report, r2_score, mean_squared_error, explained_variance_score"
   ]
  },
  {
   "cell_type": "code",
   "execution_count": 2,
   "metadata": {},
   "outputs": [],
   "source": [
    "import matplotlib.pyplot as plt\n",
    "%matplotlib inline\n",
    "font = { 'family': 'DejaVu Sans', 'weight': 'bold', 'size': 16 }\n",
    "plt.rc('font', **font)"
   ]
  },
  {
   "cell_type": "markdown",
   "metadata": {},
   "source": [
    "### Feature names"
   ]
  },
  {
   "cell_type": "code",
   "execution_count": 3,
   "metadata": {},
   "outputs": [],
   "source": [
    "with open('../data/feature_names.txt') as f:\n",
    "    feature_names = [ line.strip() for line in f.readlines() ]"
   ]
  },
  {
   "cell_type": "code",
   "execution_count": 4,
   "metadata": {},
   "outputs": [
    {
     "data": {
      "text/plain": [
       "['YEAR_2014', 'YEAR_2015', 'YEAR_2016']"
      ]
     },
     "execution_count": 4,
     "metadata": {},
     "output_type": "execute_result"
    }
   ],
   "source": [
    "feature_names[:3]"
   ]
  },
  {
   "cell_type": "markdown",
   "metadata": {},
   "source": [
    "### X and Y"
   ]
  },
  {
   "cell_type": "code",
   "execution_count": 5,
   "metadata": {},
   "outputs": [],
   "source": [
    "X_train = np.load('../data/X_train.npy')"
   ]
  },
  {
   "cell_type": "code",
   "execution_count": 6,
   "metadata": {},
   "outputs": [
    {
     "data": {
      "text/plain": [
       "(13439, 888)"
      ]
     },
     "execution_count": 6,
     "metadata": {},
     "output_type": "execute_result"
    }
   ],
   "source": [
    "X_train.shape"
   ]
  },
  {
   "cell_type": "code",
   "execution_count": 7,
   "metadata": {},
   "outputs": [],
   "source": [
    "X_test = np.load('../data/X_test.npy')"
   ]
  },
  {
   "cell_type": "code",
   "execution_count": 8,
   "metadata": {},
   "outputs": [
    {
     "data": {
      "text/plain": [
       "(3360, 888)"
      ]
     },
     "execution_count": 8,
     "metadata": {},
     "output_type": "execute_result"
    }
   ],
   "source": [
    "X_test.shape"
   ]
  },
  {
   "cell_type": "code",
   "execution_count": 9,
   "metadata": {},
   "outputs": [],
   "source": [
    "y_train = np.load('../data/y_train.npy')"
   ]
  },
  {
   "cell_type": "code",
   "execution_count": 10,
   "metadata": {},
   "outputs": [
    {
     "data": {
      "text/plain": [
       "(13439,)"
      ]
     },
     "execution_count": 10,
     "metadata": {},
     "output_type": "execute_result"
    }
   ],
   "source": [
    "y_train.shape"
   ]
  },
  {
   "cell_type": "code",
   "execution_count": 11,
   "metadata": {},
   "outputs": [],
   "source": [
    "y_test = np.load('../data/y_test.npy')"
   ]
  },
  {
   "cell_type": "code",
   "execution_count": 12,
   "metadata": {},
   "outputs": [
    {
     "data": {
      "text/plain": [
       "(3360,)"
      ]
     },
     "execution_count": 12,
     "metadata": {},
     "output_type": "execute_result"
    }
   ],
   "source": [
    "y_test.shape"
   ]
  },
  {
   "cell_type": "markdown",
   "metadata": {},
   "source": [
    "### Modelling"
   ]
  },
  {
   "cell_type": "code",
   "execution_count": 13,
   "metadata": {},
   "outputs": [],
   "source": [
    "model = LinearRegression()"
   ]
  },
  {
   "cell_type": "code",
   "execution_count": 14,
   "metadata": {},
   "outputs": [
    {
     "data": {
      "text/plain": [
       "LinearRegression(copy_X=True, fit_intercept=True, n_jobs=1, normalize=False)"
      ]
     },
     "execution_count": 14,
     "metadata": {},
     "output_type": "execute_result"
    }
   ],
   "source": [
    "model.fit(X_train, y_train)"
   ]
  },
  {
   "cell_type": "code",
   "execution_count": 15,
   "metadata": {
    "scrolled": false
   },
   "outputs": [],
   "source": [
    "coefficients = model.coef_"
   ]
  },
  {
   "cell_type": "code",
   "execution_count": 16,
   "metadata": {
    "scrolled": false
   },
   "outputs": [
    {
     "data": {
      "text/plain": [
       "array([-5.27130301e-01, -5.13327189e-01,  5.49079621e-02,  5.94494692e-02,\n",
       "        9.21552964e-01, -1.06653367e+00,  1.06634770e+00,  6.17281643e-01,\n",
       "       -6.17293173e-01,  6.94691446e-01, -6.95029946e-01,  6.46464712e-01,\n",
       "       -6.46579912e-01,  5.78799550e-01, -5.78173412e-01, -9.69943165e-02,\n",
       "       -1.47760497e+00,  5.03230513e-01, -4.92956695e-01,  1.92731510e-01,\n",
       "        1.37292219e+00, -4.71082765e+00, -1.41617264e+00, -2.46694384e+00,\n",
       "        1.75395935e-01, -9.82300759e-02, -1.47722958e+00, -4.95502752e+00,\n",
       "       -7.00632466e-02,  6.11494746e+00,  2.90844196e+00, -3.19692249e+00,\n",
       "        8.31679347e+00, -5.55177360e-02,  7.10240839e+00, -1.56288511e+00,\n",
       "        6.13204336e+00, -2.94508160e+00,  3.97684844e-01, -1.54821772e+00,\n",
       "        3.67471961e+00,  2.13837407e+00, -1.30416106e+01,  5.82589764e-01,\n",
       "        8.76443614e-01, -1.68804317e+00, -1.20983096e+00,  1.18842576e+01,\n",
       "       -4.73461972e-01, -7.39929926e-01, -3.89131969e+00, -2.87503972e+00,\n",
       "        8.95804706e+00, -3.54485273e+00, -1.85394090e+00, -9.17687081e-01,\n",
       "       -2.58225563e+00,  2.28941281e-01, -2.76294110e+00,  1.14009518e+00,\n",
       "       -4.35163337e-01, -5.17812616e+00, -5.38844019e+00,  1.77917667e+00,\n",
       "        3.47321684e-01,  3.44393288e-01,  4.52611640e-01,  2.59276202e+00,\n",
       "       -1.39792080e+00, -2.07266932e+00,  8.86330090e-01, -2.35665304e+00,\n",
       "       -5.16406542e+00,  8.37912777e+00, -2.47140818e+00, -8.77641646e-01,\n",
       "        1.71601599e+00,  2.94323978e+00, -5.05287608e-01, -1.25703842e+00,\n",
       "       -5.38848252e-01, -5.73420113e+00, -7.28342227e-01, -8.20556092e-01,\n",
       "       -3.97592662e-01, -1.19414319e+00,  8.98639683e-01, -7.26979883e-01,\n",
       "       -7.64158243e-02,  2.56812022e-01, -4.91786148e+00, -1.66487104e-01,\n",
       "        7.96324005e+00,  1.97888584e-01,  2.69959481e-01, -5.74230357e-01,\n",
       "       -3.53822041e+00, -1.47769322e+00,  2.37749964e+00,  3.36795133e+00,\n",
       "        3.28217042e+00,  3.18659274e+00,  2.91765446e+00,  2.90867370e+00,\n",
       "        9.07326661e-01,  6.41639781e-02, -9.83955715e-01, -1.12772177e+00,\n",
       "        2.49562548e+01, -1.36526132e+00,  1.08222487e+00, -5.67306453e+00,\n",
       "       -1.99954016e+00,  6.59220683e-01, -4.59423661e+00, -3.20608298e+00,\n",
       "       -6.00839777e-02,  5.54969555e+00, -9.67553088e+00, -8.63664076e+00,\n",
       "        1.32001686e+01, -3.75776822e+00,  5.82589764e-01,  2.96006043e+00,\n",
       "       -2.89701035e+00,  1.83507331e+00,  2.48396712e+00, -2.36792063e+00,\n",
       "       -3.43997839e+00, -4.42870409e+00, -6.41332896e+00, -5.34259241e+00,\n",
       "        1.60717781e+00,  2.59867831e-01,  1.02010734e+01, -5.38848252e-01,\n",
       "        3.44393288e-01, -7.28342227e-01,  8.98639683e-01,  2.96006043e+00,\n",
       "        2.90867370e+00,  2.91765446e+00, -3.53822041e+00, -1.20983096e+00,\n",
       "       -4.73461972e-01,  1.18842576e+01, -1.19414319e+00, -5.73420113e+00,\n",
       "       -1.47769322e+00, -7.64158243e-02,  2.56812022e-01, -4.91786148e+00,\n",
       "       -1.66487104e-01,  7.96324005e+00, -1.12772177e+00,  5.82589764e-01,\n",
       "       -3.75776822e+00,  1.71601599e+00, -4.35163337e-01,  2.69959481e-01,\n",
       "        6.41639781e-02, -5.74230357e-01, -2.35665304e+00,  8.95804706e+00,\n",
       "       -8.20556092e-01,  2.37749964e+00, -2.36792063e+00,  1.83507331e+00,\n",
       "       -2.89701035e+00, -3.43997839e+00,  2.59867831e-01,  1.02010734e+01,\n",
       "       -1.68804317e+00, -2.87503972e+00, -3.89131969e+00, -7.39929926e-01,\n",
       "        2.94323978e+00,  8.76443614e-01,  4.52611640e-01,  1.20958515e+00,\n",
       "       -5.05287608e-01, -7.26979883e-01,  5.06134709e+00,  1.97888584e-01,\n",
       "        3.36795133e+00,  3.18659274e+00,  2.48396712e+00,  2.59276202e+00,\n",
       "       -1.39792080e+00, -2.07266932e+00, -4.42870409e+00, -6.41332896e+00,\n",
       "       -5.34259241e+00,  9.07326661e-01, -9.83955715e-01, -3.54485273e+00,\n",
       "       -1.85394090e+00, -9.17687081e-01, -2.58225563e+00,  2.28941281e-01,\n",
       "       -2.76294110e+00,  1.14009518e+00, -9.67553088e+00,  5.54969555e+00,\n",
       "       -8.63664076e+00, -6.00839777e-02,  1.32001686e+01, -3.20608298e+00,\n",
       "       -1.99954016e+00,  1.08222487e+00, -1.36526132e+00, -5.67306453e+00,\n",
       "        6.59220683e-01, -4.59423661e+00,  2.49562548e+01, -8.77641646e-01,\n",
       "       -5.17812616e+00, -5.38844019e+00,  8.86330090e-01, -2.47140818e+00,\n",
       "       -5.16406542e+00,  8.37912777e+00,  3.47321684e-01, -1.25703842e+00,\n",
       "       -4.72422114e+01, -4.76632201e+01, -4.58072169e+01, -4.46273014e+01,\n",
       "       -4.67893355e+01,  2.32998711e-01, -3.34576198e+00, -1.58135303e+00,\n",
       "       -4.07665902e+00, -9.12711020e+00, -5.49363444e+00, -8.42121550e+00,\n",
       "       -3.16185558e+00,  4.55351312e-01,  2.86719940e+00, -5.13530262e+00,\n",
       "       -3.34576198e+00, -1.58135303e+00, -2.08483991e+01,  1.12920089e+00,\n",
       "        1.96127763e+00, -1.56689493e+00,  8.64803406e-01,  4.83351899e-01,\n",
       "        4.78966873e+00,  1.36690156e+01,  9.56555047e-01, -1.91626501e+01,\n",
       "       -3.05428067e-01, -7.05572922e-02, -6.05197287e+00,  1.59337803e-01,\n",
       "        1.84867961e+00, -5.96557479e+00,  9.18375293e-02,  3.14587999e-01,\n",
       "       -8.86398052e+00,  1.16740590e+00, -2.98076106e+00,  2.16821689e+00,\n",
       "       -6.12087161e-01, -9.78970554e-01, -9.09782946e+00, -6.25511135e+00,\n",
       "        2.43317290e+00,  6.94688422e-01,  1.71686646e+00, -1.29235879e+00,\n",
       "        1.25903721e+01, -2.44628907e-02, -1.91626501e+01, -9.10347741e+00,\n",
       "       -1.92861483e+00,  4.66272999e-01,  5.41762429e-02, -2.00875395e+00,\n",
       "        1.99147199e+00,  1.87766553e+00, -6.32035621e+00,  2.82438367e-01,\n",
       "       -3.27038663e+00, -5.33652610e+00, -7.96305569e-01,  9.13550721e-01,\n",
       "        2.53017691e+00, -1.87169553e+00, -3.97265596e-01,  1.99165864e-02,\n",
       "        4.85065953e+00, -2.22845482e-01, -2.00797860e+00, -4.74795488e+00,\n",
       "        1.89473128e+00,  5.99608756e-02, -6.22355978e-01, -5.53765685e+00,\n",
       "       -1.65031324e+00,  4.47751422e+00,  1.48434779e+00, -2.07628609e+00,\n",
       "        2.98653022e+00,  4.69459470e+00, -1.58135303e+00, -1.75319498e-01,\n",
       "        1.13273122e+01, -3.26665808e+00,  2.82608104e+00, -1.56689493e+00,\n",
       "        6.32569192e+00,  3.81841376e-01, -4.94191058e-01,  9.81017938e-01,\n",
       "       -6.67238877e+00,  2.32773596e+00,  3.80886795e+00,  1.68127875e+00,\n",
       "       -2.65859327e+00,  2.84194483e+00, -9.84595258e+00, -1.55663214e+00,\n",
       "       -8.88178420e-15,  1.73781808e+00,  8.42577483e+00,  3.91001480e+00,\n",
       "       -2.06701739e+00,  5.08308759e-01,  1.13371347e+00,  1.10014980e+00,\n",
       "        3.03948551e+00, -1.06505564e+00, -2.09626246e+00, -5.90012017e-02,\n",
       "        1.41992875e+00,  2.37190863e-01,  3.15437540e-01,  1.01394899e-01,\n",
       "        1.99165864e-02,  4.66272999e-01, -2.22845482e-01,  5.99608756e-02,\n",
       "        5.08308759e-01, -1.56689493e+00,  2.82608104e+00,  4.69459470e+00,\n",
       "        3.14587999e-01,  1.16740590e+00, -8.86398052e+00,  1.89473128e+00,\n",
       "        4.85065953e+00, -1.58135303e+00, -6.22355978e-01, -5.53765685e+00,\n",
       "       -1.65031324e+00,  4.47751422e+00,  9.81017938e-01, -2.06701739e+00,\n",
       "       -2.44628907e-02, -2.07628609e+00,  3.81841376e-01,  2.98653022e+00,\n",
       "        2.82438367e-01, -9.78970554e-01, -2.00797860e+00, -1.75319498e-01,\n",
       "       -1.06505564e+00,  1.10014980e+00,  1.13371347e+00, -2.09626246e+00,\n",
       "        3.15437540e-01,  1.01394899e-01,  9.18375293e-02, -6.12087161e-01,\n",
       "        2.16821689e+00, -2.98076106e+00,  2.53017691e+00, -5.96557479e+00,\n",
       "        5.41762429e-02, -4.74795488e+00, -1.87169553e+00,  1.13273122e+01,\n",
       "        1.48434779e+00, -3.26665808e+00,  3.03948551e+00, -2.00875395e+00,\n",
       "        1.99147199e+00,  1.87766553e+00, -5.90012017e-02,  1.41992875e+00,\n",
       "        2.37190863e-01,  6.32569192e+00, -4.94191058e-01, -9.09782946e+00,\n",
       "       -6.25511135e+00,  2.43317290e+00,  6.94688422e-01,  1.71686646e+00,\n",
       "       -1.29235879e+00,  1.25903721e+01,  1.73781808e+00,  2.48689958e-14,\n",
       "        8.42577483e+00, -1.55663214e+00,  3.91001480e+00, -9.84595258e+00,\n",
       "        1.68127875e+00,  2.32773596e+00,  3.80886795e+00, -2.65859327e+00,\n",
       "        2.84194483e+00, -6.67238877e+00,  9.13550721e-01, -1.91626501e+01,\n",
       "       -9.10347741e+00, -6.32035621e+00, -7.96305569e-01, -3.27038663e+00,\n",
       "       -5.33652610e+00, -1.92861483e+00, -3.97265596e-01,  1.76283549e+01,\n",
       "       -2.49636752e+01, -2.30740646e+01, -2.39928991e+01, -2.24318511e+01,\n",
       "       -4.36568609e+01, -1.50914091e+00,  4.75562462e+00,  9.01780757e+00,\n",
       "        6.68303552e-01,  8.14820255e-01, -2.83468197e-01, -5.74863302e-02,\n",
       "       -3.43062590e-01, -7.99106690e-01,  4.08377336e+00,  2.55540381e+00,\n",
       "        1.33968347e+00,  3.63018411e-01,  6.68303552e-01,  8.14820255e-01,\n",
       "        5.91241746e+00, -3.17373597e-01, -8.80614270e+00, -3.49633882e+00,\n",
       "        5.99088868e+00, -9.02087896e+00, -2.46194012e+00, -7.25146295e+00,\n",
       "        1.00559607e+00, -3.15732726e+00,  1.77179446e+00, -3.29113010e-01,\n",
       "        3.27656806e+00, -3.46576742e+00, -1.24240138e-01,  1.00657276e+01,\n",
       "        5.82589764e-01,  4.93194341e-01,  2.12996088e+00,  6.11165167e-01,\n",
       "       -2.65531458e+00, -1.43323178e+00,  3.04235594e-01,  3.44222040e+00,\n",
       "        2.66790182e+00, -1.02047431e+01,  3.60834168e+00,  2.62483055e+00,\n",
       "        8.06121334e-01,  2.19166956e+00,  1.06077117e+00,  2.90677906e+00,\n",
       "       -7.67232499e-01, -5.07200512e-02,  3.19123081e+00,  5.63148471e+00,\n",
       "        1.68195967e-01, -1.40306925e+00, -1.00606594e+00,  4.52611640e-01,\n",
       "       -1.87340973e+00,  1.36150777e+00,  2.70622608e+00,  8.86330090e-01,\n",
       "        1.14637146e+00,  5.08015860e+00, -8.79102127e+00,  3.82769768e+00,\n",
       "        7.93712837e-02,  3.02675505e+00, -2.66055092e+00,  1.96313284e-01,\n",
       "       -3.58166418e-01,  6.38585748e-01,  4.32976155e+00,  9.88243255e-01,\n",
       "        1.33479767e+00,  4.52225769e+00,  1.18399983e+00, -1.06550995e+00,\n",
       "       -7.26979883e-01, -7.64158243e-02, -2.01085735e+00,  5.56243206e+00,\n",
       "       -7.74038753e-01, -6.45896479e+00,  4.16941282e-01,  2.69959481e-01,\n",
       "       -5.74230357e-01, -3.65455321e-01,  8.14820255e-01, -2.95843510e+00,\n",
       "       -3.87992699e+00, -3.53839162e+00, -1.50283399e+00, -2.81525403e+00,\n",
       "       -3.49633882e+00,  9.07326661e-01,  6.41639781e-02, -7.55665395e-01,\n",
       "        1.05631612e+00, -2.55802939e+01,  2.74891009e+00, -1.22793085e+00,\n",
       "        4.38633624e+00,  4.87007590e-01, -1.19924967e+00,  4.88705159e+00,\n",
       "        2.51087056e+00, -1.41125708e-01, -6.74562256e+00,  9.41437430e+00,\n",
       "        7.87547414e+00, -1.23090228e+01,  1.25871616e+00,  5.82589764e-01,\n",
       "       -2.20308591e+00,  6.35952261e-01,  5.24334253e-01, -1.10303252e+00,\n",
       "        2.24145309e+00,  1.17432100e+00,  5.44712372e+00,  6.05375692e+00,\n",
       "        4.95632174e+00, -4.04551396e+00, -8.00926879e-01, -1.03170165e+01,\n",
       "        6.38585748e-01, -1.00606594e+00,  9.88243255e-01, -1.06550995e+00,\n",
       "       -2.20308591e+00, -3.49633882e+00, -2.81525403e+00, -3.65455321e-01,\n",
       "        6.11165167e-01, -1.43323178e+00, -2.65531458e+00,  1.18399983e+00,\n",
       "        4.32976155e+00,  8.14820255e-01, -7.64158243e-02, -2.01085735e+00,\n",
       "        5.56243206e+00, -7.74038753e-01, -6.45896479e+00,  1.05631612e+00,\n",
       "        5.82589764e-01,  1.25871616e+00,  3.02675505e+00, -5.07200512e-02,\n",
       "        2.69959481e-01,  6.41639781e-02, -5.74230357e-01,  1.14637146e+00,\n",
       "       -1.02047431e+01,  1.33479767e+00, -2.95843510e+00,  2.24145309e+00,\n",
       "        5.24334253e-01,  6.35952261e-01,  1.17432100e+00, -8.00926879e-01,\n",
       "       -1.03170165e+01,  2.12996088e+00,  2.66790182e+00,  3.44222040e+00,\n",
       "        3.04235594e-01, -2.66055092e+00,  4.93194341e-01,  4.52611640e-01,\n",
       "        4.76743728e-01,  1.96313284e-01, -7.26979883e-01, -3.37019566e+00,\n",
       "        4.16941282e-01, -3.87992699e+00, -1.50283399e+00, -1.10303252e+00,\n",
       "       -1.87340973e+00,  1.36150777e+00,  2.70622608e+00,  5.44712372e+00,\n",
       "        6.05375692e+00,  4.95632174e+00,  9.07326661e-01, -7.55665395e-01,\n",
       "        3.60834168e+00,  2.62483055e+00,  8.06121334e-01,  2.19166956e+00,\n",
       "        1.06077117e+00,  2.90677906e+00, -7.67232499e-01,  9.41437430e+00,\n",
       "       -6.74562256e+00,  7.87547414e+00, -1.41125708e-01, -1.23090228e+01,\n",
       "        2.51087056e+00,  4.87007590e-01, -1.22793085e+00,  2.74891009e+00,\n",
       "        4.38633624e+00, -1.19924967e+00,  4.88705159e+00, -2.55802939e+01,\n",
       "        7.93712837e-02,  3.19123081e+00,  5.63148471e+00,  8.86330090e-01,\n",
       "        3.82769768e+00,  5.08015860e+00, -8.79102127e+00, -1.40306925e+00,\n",
       "       -3.58166418e-01,  4.39298920e+01,  4.54336549e+01,  4.41283184e+01,\n",
       "        4.32892363e+01,  4.43164367e+01,  2.32998711e-01, -4.88117075e+00,\n",
       "       -2.55024743e+00,  1.45130792e+00,  5.67935091e-01, -3.35185715e+00,\n",
       "        1.74523833e+00, -3.00654721e+00, -4.48033494e+00,  2.39735576e+00,\n",
       "        5.62043459e+00,  3.04473923e+00, -4.91275167e+00,  1.12107883e+00,\n",
       "        3.46694056e+00,  9.12930850e-01, -1.40983572e+00, -3.09994697e-01,\n",
       "       -8.75109696e-01,  3.55301324e+00, -5.39482699e+00,  4.30847376e+00,\n",
       "       -1.55669386e+00, -1.85496879e+00, -1.49382622e+00,  2.47414611e+00,\n",
       "       -1.19065584e+00,  1.08821761e+01,  2.49480206e+00, -5.70111693e-01,\n",
       "        1.96670563e+00, -1.01281081e+00, -1.47806983e+00,  2.92304584e+00,\n",
       "       -1.02535478e+00,  2.28989310e+00, -1.99905525e+00, -2.13862484e+01,\n",
       "       -9.07725996e-01,  5.72749094e-01, -2.74361939e+00,  0.00000000e+00,\n",
       "        4.08521835e-01,  5.58950898e-01, -1.79692732e+00,  4.20920614e+00,\n",
       "        2.83331673e+00,  4.11000740e+00,  7.29664631e+00,  2.41636258e+00,\n",
       "        3.99087458e+00,  8.40156549e-01,  4.34073136e+00,  1.47609056e+00,\n",
       "        1.77833962e-02,  2.90336087e+00, -3.14389169e-01,  1.44910857e+00,\n",
       "       -1.93925894e+00,  3.42351288e+00,  1.30141925e+00,  0.00000000e+00,\n",
       "        5.53884019e-01, -1.29273541e+01,  7.17015204e-01,  3.14020143e+00,\n",
       "        3.06217463e+00,  1.98641240e+00,  2.89127412e+00,  2.09202655e+00,\n",
       "       -7.72213837e+00,  5.27264335e-01,  3.16632044e+00,  3.80515582e+00,\n",
       "        6.47199455e-01,  1.90406775e-01,  1.55316103e+00,  9.67988690e-01,\n",
       "        2.11687726e+00,  1.82590548e-01, -3.91651946e+00, -1.01525242e+00,\n",
       "       -5.24345323e-01,  5.24345323e-01, -3.60790490e-01, -1.47580197e-02,\n",
       "        3.75548510e-01, -3.39702611e+00,  1.87678600e+00,  1.52024012e+00,\n",
       "        1.02762753e+00, -1.31712405e+00,  2.89496526e-01,  4.19997417e-01,\n",
       "       -4.19997417e-01, -1.51758673e+00, -1.50415128e+00, -2.31255517e+00,\n",
       "       -2.53582034e+00, -2.47390845e+00, -2.34806621e+00, -2.16643388e+00,\n",
       "       -5.93607337e-01,  9.87024595e-01, -2.44780303e+00, -2.99377162e+00,\n",
       "       -4.14039035e-02,  7.40042245e-02,  4.52898006e-01, -3.83771901e-02,\n",
       "       -1.60758527e-01, -4.04312019e-01, -1.82711196e-01,  6.47617859e-02,\n",
       "        2.47730554e-01, -3.65679964e-01, -1.06832294e+01, -1.25471836e+00,\n",
       "       -3.01171058e-01, -8.50093567e+00, -1.18084534e+01, -1.29966480e+00,\n",
       "       -6.56020409e-01, -3.96613613e-01, -1.02282026e+00, -7.95086595e-01,\n",
       "       -2.97253102e-01, -8.97607727e-01, -1.28219977e-01, -4.79757418e-01,\n",
       "        7.72915419e+00, -8.26716630e-01, -9.29393657e-01, -2.78717564e+00,\n",
       "        1.42974214e+00,  1.34462045e+00,  1.96201552e+00,  1.68840269e+00,\n",
       "        1.73172647e+00,  1.56044560e+00,  5.45872279e-01,  4.53294527e-01,\n",
       "       -8.24866189e+00, -8.26716630e-01,  1.14643449e+00, -2.78717564e+00,\n",
       "        2.57488245e+00,  6.31671973e-01,  6.26159491e-01,  1.12178491e+00,\n",
       "        6.65811555e-01,  7.05658635e-01,  7.30937680e-01, -1.04759348e+00,\n",
       "        3.50234946e+00,  1.36110126e-01, -6.86059715e+00,  2.19259945e-01,\n",
       "       -2.19259945e-01,  4.96964415e-01, -4.96964415e-01, -1.66786125e+00,\n",
       "        1.00141115e-01, -2.04501245e-01, -4.71689535e-01, -3.56804951e-01,\n",
       "       -5.34724401e-01, -1.27513178e+00, -5.08648068e-01, -2.05285573e-01,\n",
       "       -4.59099352e-01, -5.71420272e-01, -5.47974655e-01,  4.74960575e+01,\n",
       "        1.37874641e+01,  4.80012211e+01, -6.36700715e+00, -5.54081399e-01,\n",
       "       -2.15462185e-02,  1.70831335e-04,  4.38786980e-01,  1.86305783e-02,\n",
       "        4.51805023e-02,  4.75254609e-02,  3.23178134e-01,  3.99440585e+01,\n",
       "       -3.97707927e+01, -3.98776696e+01, -5.19639330e-01, -9.72374757e-01,\n",
       "       -1.44693795e+00, -1.35386358e+00, -3.09119177e+00, -1.65306799e-02,\n",
       "        5.09985359e-02,  2.13180524e-03, -3.42200858e-03, -2.05534513e-02,\n",
       "       -6.25751916e-03, -6.68045385e-03,  1.07896232e-02,  2.32990849e-10,\n",
       "        4.96248550e-03,  1.85485613e-02, -9.77769873e-03, -5.65756977e-03,\n",
       "        2.19967877e-10,  7.62516951e-03,  2.91900844e-02,  1.05288378e-01,\n",
       "        8.76621181e-03,  3.94357076e-03, -5.64345688e-03, -1.19684147e-02,\n",
       "        5.28273929e-01,  6.01965551e-02, -7.59541259e-01,  1.62125577e-01,\n",
       "        1.18543155e+00, -6.50772216e-02, -7.15721701e-01,  1.09809611e+00,\n",
       "       -3.77039121e-01,  1.15643630e-01, -1.04520426e-02, -3.43290195e-01,\n",
       "       -2.43718726e-01, -2.37103167e+00,  5.97986716e-01,  2.26076904e+00,\n",
       "        2.24038955e-01, -9.11049369e-03, -1.13676265e-01,  5.55505728e-01,\n",
       "       -7.46966150e-01,  1.10377781e+00,  1.09134273e-02, -7.53208513e-01,\n",
       "       -3.66023689e-01,  8.23251180e-02,  2.73196033e-03,  8.98299643e-01])"
      ]
     },
     "execution_count": 16,
     "metadata": {},
     "output_type": "execute_result"
    }
   ],
   "source": [
    "coefficients"
   ]
  },
  {
   "cell_type": "code",
   "execution_count": 17,
   "metadata": {},
   "outputs": [
    {
     "data": {
      "text/plain": [
       "21.407291500466595"
      ]
     },
     "execution_count": 17,
     "metadata": {},
     "output_type": "execute_result"
    }
   ],
   "source": [
    "model.intercept_"
   ]
  },
  {
   "cell_type": "code",
   "execution_count": 18,
   "metadata": {},
   "outputs": [],
   "source": [
    "indices = np.argsort(coefficients)[::-1]"
   ]
  },
  {
   "cell_type": "code",
   "execution_count": 19,
   "metadata": {},
   "outputs": [],
   "source": [
    "def print_top_features(features, coefficients, indices):\n",
    "    print(\"Feature ranking:\")\n",
    "    for f in range(len(features))[:25]:\n",
    "        print(\"%d. Feature %s [%d] (%f)\" % (f + 1, features[indices[f]], indices[f], coefficients[indices[f]]))\n",
    "    print('etc')"
   ]
  },
  {
   "cell_type": "code",
   "execution_count": 20,
   "metadata": {},
   "outputs": [
    {
     "name": "stdout",
     "output_type": "stream",
     "text": [
      "Feature ranking:\n",
      "1. Feature FIRST_RESULT_P [821] (48.001221)\n",
      "2. Feature FIRST_RESULT_F [819] (47.496058)\n",
      "3. Feature FIRST_CANX_2015.0 [642] (45.433655)\n",
      "4. Feature FIRST_CANX_2018.0 [645] (44.316437)\n",
      "5. Feature FIRST_CANX_2016.0 [643] (44.128318)\n",
      "6. Feature FIRST_CANX_2014.0 [641] (43.929892)\n",
      "7. Feature FIRST_CANX_2017.0 [644] (43.289236)\n",
      "8. Feature NUM_MEMBERSHIPS [831] (39.944059)\n",
      "9. Feature CODE_JHIFR [108] (24.956255)\n",
      "10. Feature COURSE_Bachelor of Arts Jnt.Hons(Irish&French) [214] (24.956255)\n",
      "11. Feature PREV_CANX_2013.0 [423] (17.628355)\n",
      "12. Feature FIRST_RESULT_F0 [820] (13.787464)\n",
      "13. Feature PREV_DEPT_INSTITUTE OF EDUCATION [249] (13.669016)\n",
      "14. Feature COURSE_Bachelor of Arts J.H.(Politics&Med Stu) [206] (13.200169)\n",
      "15. Feature CODE_JHPOM [120] (13.200169)\n",
      "16. Feature PREV_COURSE_Bachelor of Arts (BAJW) [401] (12.590372)\n",
      "17. Feature PREV_CODE_BAJW [272] (12.590372)\n",
      "18. Feature COURSE_BA in Applied Language and Intercultural [145] (11.884258)\n",
      "19. Feature CODE_ALIS [47] (11.884258)\n",
      "20. Feature PREV_CODE_ET [308] (11.327312)\n",
      "21. Feature PREV_COURSE_BSc in Education & Training [383] (11.327312)\n",
      "22. Feature NEXT_CODE_BRM [673] (10.882176)\n",
      "23. Feature COURSE_BSc Sport Science and Health [171] (10.201073)\n",
      "24. Feature CODE_SSH [134] (10.201073)\n",
      "25. Feature FIRST_DEPT_STEM Ed & Global Studies [459] (10.065728)\n",
      "etc\n"
     ]
    }
   ],
   "source": [
    "print_top_features(feature_names, coefficients, indices)"
   ]
  },
  {
   "cell_type": "code",
   "execution_count": 21,
   "metadata": {},
   "outputs": [],
   "source": [
    "def plot_top_features(feature_names, coefficients, indices, excluded=None):\n",
    "    N = 10\n",
    "    plt.figure(figsize=(16, 4))\n",
    "    plt.title(\"Top-{} Feature coefficients\".format(N))\n",
    "    plt.bar(range(N), coefficients[indices][:N], color=\"b\", align=\"center\")\n",
    "    plt.xticks(range(N), [ feature_names[index].replace('_', '\\n') for index in indices[:N] ])\n",
    "    plt.xlim([-1, N])\n",
    "    if excluded:\n",
    "        filename = '../figures/Ablation_Excluding_{}_Top_10_Feature_Importances.png'.format(excluded)\n",
    "    else:\n",
    "        filename = '../figures/modelling_Logistic_Regression_Top_10_Feature_Importances.png'\n",
    "    plt.savefig(filename, bbox_inches=\"tight\")"
   ]
  },
  {
   "cell_type": "code",
   "execution_count": 22,
   "metadata": {},
   "outputs": [
    {
     "data": {
      "image/png": "[encoded data removed]",
      "text/plain": [
       "<Figure size 1152x288 with 1 Axes>"
      ]
     },
     "metadata": {},
     "output_type": "display_data"
    }
   ],
   "source": [
    "plot_top_features(feature_names, coefficients, indices)"
   ]
  },
  {
   "cell_type": "code",
   "execution_count": 23,
   "metadata": {},
   "outputs": [
    {
     "data": {
      "text/plain": [
       "0.8239498809660055"
      ]
     },
     "execution_count": 23,
     "metadata": {},
     "output_type": "execute_result"
    }
   ],
   "source": [
    "model.score(X_test, y_test)"
   ]
  },
  {
   "cell_type": "code",
   "execution_count": 24,
   "metadata": {},
   "outputs": [],
   "source": [
    "y_pred = model.predict(X_test)"
   ]
  },
  {
   "cell_type": "code",
   "execution_count": 25,
   "metadata": {},
   "outputs": [
    {
     "data": {
      "text/plain": [
       "array([56.04241421, 52.944574  ])"
      ]
     },
     "execution_count": 25,
     "metadata": {},
     "output_type": "execute_result"
    }
   ],
   "source": [
    "y_pred[:2]"
   ]
  },
  {
   "cell_type": "code",
   "execution_count": 26,
   "metadata": {},
   "outputs": [
    {
     "data": {
      "text/plain": [
       "0.8239498809660055"
      ]
     },
     "execution_count": 26,
     "metadata": {},
     "output_type": "execute_result"
    }
   ],
   "source": [
    "r2_score(y_test, y_pred)"
   ]
  },
  {
   "cell_type": "code",
   "execution_count": 27,
   "metadata": {},
   "outputs": [
    {
     "data": {
      "text/plain": [
       "59.3284167754111"
      ]
     },
     "execution_count": 27,
     "metadata": {},
     "output_type": "execute_result"
    }
   ],
   "source": [
    "mean_squared_error(y_test, y_pred)"
   ]
  },
  {
   "cell_type": "markdown",
   "metadata": {},
   "source": [
    "### Ablation studies"
   ]
  },
  {
   "cell_type": "code",
   "execution_count": 28,
   "metadata": {},
   "outputs": [],
   "source": [
    "original_columns = [\n",
    "    # CATEGORIES\n",
    "    'YEAR',\n",
    "    'EARLY_TRANSFER',\n",
    "    'EARLY_CANX_LEFT',\n",
    "    'EARLY_CANX_DEFER',\n",
    "    'FEB_CANX_LEFT',\n",
    "    'FEB_CANX_DEFER',\n",
    "    'FACULTY',\n",
    "    'DEPT',\n",
    "    'CODE',\n",
    "    'COURSE',\n",
    "    'CANX',\n",
    "    'PREV_FACULTY',\n",
    "    'PREV_DEPT',\n",
    "    'PREV_CODE',\n",
    "    'PREV_COURSE',\n",
    "    'PREV_CANX',\n",
    "    'PREV_RESULT',\n",
    "    'FIRST_FACULTY',\n",
    "    'FIRST_DEPT',\n",
    "    'FIRST_CODE',\n",
    "    'FIRST_COURSE',\n",
    "    'FIRST_CANX',\n",
    "    'NEXT_CODE',\n",
    "    'NEXT_RESULT',\n",
    "    'Y2_RETURN',\n",
    "    'PASS_M1',\n",
    "    'PASS_M5',\n",
    "    'PASS_M8',\n",
    "    'BIO_SEX',\n",
    "    'ORIGIN_CODE',\n",
    "    'SCH_ADDR_CODE',\n",
    "    'SCH_DEIS',\n",
    "    'SCH_FEE_PAYING',\n",
    "    'STUDENT_TYPE',\n",
    "    'STUDENT_ADDR_CODE',\n",
    "    'ADDRESS_CODE',\n",
    "    'PERMANENT_ADDR_CODE',\n",
    "    'ENTERPRISE_ESOC',\n",
    "    'ACC_FINANCE',\n",
    "    'FIRST_REL_IND',\n",
    "    'FIRST_QUARTILE_RANK',\n",
    "    'SECOND_REL_IND',\n",
    "    'SECOND_QUARTILE_RANK',\n",
    "    'FIRST_RESULT',\n",
    "    # NUMBERS\n",
    "    'YR_NUM',\n",
    "    'TOTAL_YEARS',\n",
    "    'DAYS_TO_FIRST_REG',\n",
    "    'SCH_ENROLMENTS',\n",
    "    'YEARS_SINCE_LC',\n",
    "    'CAO_POINTS',\n",
    "    'LC_MATHS_POINTS',\n",
    "    'NUM_GRANTS',\n",
    "    'NUM_SUBJECTS',\n",
    "    'NUM_MEMBERSHIPS',\n",
    "    'NUM_SOCIETIES',\n",
    "    'NUM_CLUBS',\n",
    "    'NUM_M1_SUBJECTS',\n",
    "    'NUM_M5_SUBJECTS',\n",
    "    'NUM_M8_SUBJECTS',\n",
    "    'NUM_M1_FAILS',\n",
    "    'NUM_M5_FAILS',\n",
    "    'AGE_AT_START',\n",
    "    'NUM_EARLY_LOANS',\n",
    "    'DAYS_TO_FIRST_LOAN',\n",
    "    'DAYS_TO_FIRST_LAB',\n",
    "    'DAYS_TO_FIRST_ACCESS',\n",
    "    'DAYS_TO_FIRST_DUE_DATE',\n",
    "    'DAYS_FIRST_SUBMITTED_EARLY',\n",
    "    'FIRST_GRADE',\n",
    "    'FIRST_ASSIGN_GRADE',\n",
    "    'FIRST_GRADE_PC',\n",
    "    'FIRST_GRADE',\n",
    "    'DAYS_TO_SECOND_DUE_DATE',\n",
    "    'DAYS_SECOND_SUBMITTED_EARLY',\n",
    "    'SECOND_GRADE',\n",
    "    'SECOND_ASSIGN_GRADE',\n",
    "    'SECOND_GRADE_PC',\n",
    "    'NUM_EARLY_ASSIGNMENTS',\n",
    "    'NUM_EARLY_LATES',\n",
    "    'EARLY_Q1_SUBS_PC',\n",
    "    'EARLY_Q2_SUBS_PC',\n",
    "    'EARLY_Q3_SUBS_PC',\n",
    "    'EARLY_Q4_SUBS_PC',\n",
    "    'NUM_EARLY_CRM',\n",
    "    'NUM_EARLY_ACCESS_DAYS',\n",
    "    'NUM_EARLY_TYPE_A',\n",
    "    'NUM_EARLY_TYPE_B',\n",
    "    'NUM_EARLY_TYPE_C',\n",
    "    'NUM_EARLY_TYPE_D',\n",
    "    'NUM_EARLY_TYPE_E',\n",
    "    'NUM_EARLY_TYPE_S',\n",
    "    'NUM_EARLY_TYPE_X',\n",
    "    'NUM_FEB_CRM',\n",
    "    'NUM_FEB_ACCESS_DAYS',\n",
    "    'NUM_FEB_TYPE_A',\n",
    "    'NUM_FEB_TYPE_B',\n",
    "    'NUM_FEB_TYPE_C',\n",
    "    'NUM_FEB_TYPE_D',\n",
    "    'NUM_FEB_TYPE_E',\n",
    "    'NUM_FEB_TYPE_S',\n",
    "    'NUM_FEB_TYPE_X',\n",
    "    'NUM_MAY_CRM',\n",
    "    'NUM_MAY_TYPE_A',\n",
    "    'NUM_MAY_TYPE_B',\n",
    "    'NUM_MAY_TYPE_C',\n",
    "    'NUM_MAY_TYPE_D',\n",
    "    'NUM_MAY_TYPE_E',\n",
    "    'NUM_MAY_TYPE_S',\n",
    "    'NUM_MAY_TYPE_X',\n",
    "    'DAYS_TO_FIRST_CRM',\n",
    "    'PREV_NUM_CRM',\n",
    "]"
   ]
  },
  {
   "cell_type": "code",
   "execution_count": 29,
   "metadata": {},
   "outputs": [],
   "source": [
    "def train_model(cols_names_to_remove):\n",
    "    \n",
    "    # Columns to drop\n",
    "    cols_to_drop = []\n",
    "    for col in cols_names_to_remove:\n",
    "        cols_to_drop.extend([ feature_name for feature_name in feature_names if feature_name.startswith(col) ])\n",
    "    print('Excluding:', cols_to_drop)\n",
    "    \n",
    "    # Indexes to drop\n",
    "    indexes_to_drop = [ feature_names.index(col) for col in cols_to_drop ]\n",
    "    # Deep copy of the list\n",
    "    features = feature_names[:] # or list(feature_names)\n",
    "    for index in sorted(indexes_to_drop, reverse=True):\n",
    "        del features[index]\n",
    "    \n",
    "    # New train and test sets\n",
    "    X_mini_train = np.delete(X_train, indexes_to_drop, axis=1)\n",
    "    X_mini_test = np.delete(X_test, indexes_to_drop, axis=1)\n",
    "    \n",
    "    # model\n",
    "    model = LinearRegression()\n",
    "    # train\n",
    "    model.fit(X_mini_train, y_train)\n",
    "    \n",
    "    # scores\n",
    "    score = model.score(X_mini_test, y_test)\n",
    "    \n",
    "    # Predictions\n",
    "    y_mini_pred = model.predict(X_mini_test)\n",
    "    \n",
    "    # Scorings\n",
    "    r2 = r2_score(y_test, y_mini_pred)\n",
    "    mse = mean_squared_error(y_test, y_mini_pred)\n",
    "    var = explained_variance_score(y_test, y_mini_pred)\n",
    "    \n",
    "    # Get coefficients and indices\n",
    "    coefficients = model.coef_\n",
    "    indices = np.argsort(coefficients)[::-1]\n",
    "    \n",
    "    # Print top features\n",
    "    # print_top_features(features, coefficients, indices)\n",
    "    \n",
    "    # Plot top features\n",
    "    # plot_top_features(features, coefficients, indices, excluded=column_name)\n",
    "    \n",
    "    print('Score: {:0.4f}\\t R2: {:0.10f}\\t MSE: {:0.10f}\\t Variance: {:0.10f}'.format(score, r2, mse, var))\n",
    "    \n",
    "    return r2, mse, var"
   ]
  },
  {
   "cell_type": "markdown",
   "metadata": {},
   "source": [
    "### Individual features"
   ]
  },
  {
   "cell_type": "code",
   "execution_count": 30,
   "metadata": {
    "scrolled": false
   },
   "outputs": [
    {
     "name": "stdout",
     "output_type": "stream",
     "text": [
      "Leaving Column YEAR out\n",
      "Excluding: ['YEAR_2014', 'YEAR_2015', 'YEAR_2016', 'YEAR_2017', 'YEAR_2018', 'YEARS_SINCE_LC']\n",
      "Score: 0.8233\t R2: 0.8232910792\t MSE: 59.5504312141\t Variance: 0.8233147258\n",
      "\n",
      "Leaving Column EARLY_TRANSFER out\n",
      "Excluding: ['EARLY_TRANSFER_N', 'EARLY_TRANSFER_Y']\n",
      "Score: 0.8003\t R2: 0.8002970021\t MSE: 67.2993733420\t Variance: 0.8003063898\n",
      "\n",
      "Leaving Column EARLY_CANX_LEFT out\n",
      "Excluding: ['EARLY_CANX_LEFT_N', 'EARLY_CANX_LEFT_Y']\n",
      "Score: 0.8239\t R2: 0.8238656545\t MSE: 59.3568008750\t Variance: 0.8238879830\n",
      "\n",
      "Leaving Column EARLY_CANX_DEFER out\n",
      "Excluding: ['EARLY_CANX_DEFER_N', 'EARLY_CANX_DEFER_Y']\n",
      "Score: 0.8239\t R2: 0.8239263635\t MSE: 59.3363421133\t Variance: 0.8239483962\n",
      "\n",
      "Leaving Column FEB_CANX_LEFT out\n",
      "Excluding: ['FEB_CANX_LEFT_N', 'FEB_CANX_LEFT_Y']\n",
      "Score: 0.8239\t R2: 0.8239137069\t MSE: 59.3406073266\t Variance: 0.8239353910\n",
      "\n",
      "Leaving Column FEB_CANX_DEFER out\n",
      "Excluding: ['FEB_CANX_DEFER_N', 'FEB_CANX_DEFER_Y']\n",
      "Score: 0.8239\t R2: 0.8239256615\t MSE: 59.3365786804\t Variance: 0.8239481063\n",
      "\n",
      "Leaving Column FACULTY out\n",
      "Excluding: ['FACULTY_DCU BUSINESS SCHOOL', 'FACULTY_DCUBS/HSS', 'FACULTY_ENGINEERING AND COMPUTING', 'FACULTY_HUMANITIES AND SOCIAL SCIENCES', 'FACULTY_INSTITUTE OF EDUCATION', 'FACULTY_SCIENCE AND HEALTH']\n",
      "Score: 0.8237\t R2: 0.8237243471\t MSE: 59.4044210788\t Variance: 0.8237442293\n",
      "\n",
      "Leaving Column DEPT out\n",
      "Excluding: ['DEPT_BIOTECHNOLOGY', 'DEPT_CHEMICAL SCIENCES', 'DEPT_COMMUNICATIONS', 'DEPT_COMPUTING', 'DEPT_DCU BUSINESS SCHOOL', 'DEPT_DCUBS / HSS L&G Programmes', 'DEPT_EDUCATION', 'DEPT_ELECTRONIC ENGINEERING', 'DEPT_FIONTAR', 'DEPT_FIONTAR/COMMUNICATIONS', 'DEPT_Fiontar agus Scoil na Gaeilge', 'DEPT_HEALTH AND HUMAN PERFORMANCE', 'DEPT_HUMANITIES AND SOCIAL SCIENCES', 'DEPT_INSTITUTE OF EDUCATION', 'DEPT_LAW AND GOVERNMENT', 'DEPT_Language, Literacy and ECE', 'DEPT_MATHEMATICAL SCIENCES', 'DEPT_MECHANICAL ENGINEERING', 'DEPT_NURSING', 'DEPT_PHYSICAL SCIENCES', 'DEPT_SALIS', 'DEPT_STEM Ed & Global Studies', 'DEPT_THEOLOGY, PHILOSOPHY AND MUSIC']\n",
      "Score: 0.8243\t R2: 0.8243401394\t MSE: 59.1969007267\t Variance: 0.8243637105\n",
      "\n",
      "Leaving Column CODE out\n",
      "Excluding: ['CODE_AC', 'CODE_ACM', 'CODE_AF', 'CODE_ALIS', 'CODE_ALTS', 'CODE_AMPS', 'CODE_AP', 'CODE_AS', 'CODE_ATT', 'CODE_BAJG', 'CODE_BAJH', 'CODE_BAJI', 'CODE_BAJL', 'CODE_BAJM', 'CODE_BAJP', 'CODE_BAJW', 'CODE_BCL', 'CODE_BECE', 'CODE_BED', 'CODE_BET', 'CODE_BHS', 'CODE_BMED', 'CODE_BNCG', 'CODE_BNGN', 'CODE_BNID', 'CODE_BNPY', 'CODE_BNS', 'CODE_BPY', 'CODE_BRE', 'CODE_BRH', 'CODE_BRM', 'CODE_BS', 'CODE_BSIF', 'CODE_BT', 'CODE_CA', 'CODE_CAFM', 'CODE_CAM', 'CODE_CCS', 'CODE_CE', 'CODE_CES', 'CODE_CPSSD', 'CODE_CS', 'CODE_DME', 'CODE_DS', 'CODE_EBC', 'CODE_EBF', 'CODE_EBG', 'CODE_EBS', 'CODE_EBT', 'CODE_EC', 'CODE_ECE', 'CODE_EE', 'CODE_ENGLIC', 'CODE_EPL', 'CODE_ESH', 'CODE_EST', 'CODE_ET', 'CODE_GCB', 'CODE_GG', 'CODE_GI', 'CODE_HOR', 'CODE_ICE', 'CODE_INTB', 'CODE_IR', 'CODE_JHIFR', 'CODE_JHIIL', 'CODE_JHLFR', 'CODE_JHLIL', 'CODE_JHLIR', 'CODE_JHLMS', 'CODE_JHLPO', 'CODE_JHMFR', 'CODE_JHMIL', 'CODE_JHMSI', 'CODE_JHPFR', 'CODE_JHPIL', 'CODE_JHPOM', 'CODE_JR', 'CODE_JZCM', 'CODE_ME', 'CODE_MINT', 'CODE_MINTD', 'CODE_MMA', 'CODE_MWB', 'CODE_PBM', 'CODE_PEB', 'CODE_PEM', 'CODE_PHA', 'CODE_PSSD', 'CODE_SE', 'CODE_SSH']\n",
      "Score: 0.8239\t R2: 0.8239411607\t MSE: 59.3313554928\t Variance: 0.8239628735\n",
      "\n",
      "Leaving Column COURSE out\n",
      "Excluding: ['COURSE_B.Eng. Mechanical & Manufacturing Eng', 'COURSE_B.Eng. in Biomedical Engineering', 'COURSE_B.Eng. in Common Entry into Engineering', 'COURSE_B.Eng. in Digital Media Engineering', 'COURSE_B.Eng. in Mechatronic Engineering', 'COURSE_BA Gaeilge agus Iriseoireacht', 'COURSE_BA Gno agus Gaeilge', 'COURSE_BA Languages for Int. Communication(Eng)', 'COURSE_BA in Accounting and Finance', 'COURSE_BA in Applied Language & Translation Stu', 'COURSE_BA in Applied Language and Intercultural', 'COURSE_BA in Communication Studies', 'COURSE_BA in Contemporary Culture and Society', 'COURSE_BA in Economics, Politics and Law', 'COURSE_BA in Global Business (Canada)', 'COURSE_BA in Global Business (France)', 'COURSE_BA in Global Business (Germany)', 'COURSE_BA in Global Business (Spain)', 'COURSE_BA in Global Business (USA)', 'COURSE_BA in International Relations', 'COURSE_BA in Jazz and Contemporary Music Perfor', 'COURSE_BA in Journalism', 'COURSE_BBS (International Finance)', 'COURSE_BCL (Law and Society)', 'COURSE_BEng Electronic & Computer Engineering', 'COURSE_BEng Info and Communications Engineering', 'COURSE_BEng in Electronic Engineering', 'COURSE_BSc (Honours) in Psychology', 'COURSE_BSc Athletic Therapy and Training', 'COURSE_BSc Common Entry into Science', 'COURSE_BSc Environmental Science & Health', 'COURSE_BSc Manufacturing Eng with Business', 'COURSE_BSc Marketing, Innovation & Technology', 'COURSE_BSc Marketing, Innovation and Technology', 'COURSE_BSc Physics with Biomedical Sciences', 'COURSE_BSc Science Education', 'COURSE_BSc Sport Science and Health', 'COURSE_BSc in Actuarial Mathematics', 'COURSE_BSc in Analytical Science', 'COURSE_BSc in Applied Physics', 'COURSE_BSc in Aviation Management', 'COURSE_BSc in Biotechnology', 'COURSE_BSc in Chemical and Pharmaceutical Sc.', \"COURSE_BSc in Children's & General Nursing\", 'COURSE_BSc in ComputationalProblem Solv&SW Dev.', 'COURSE_BSc in Computer Applications', 'COURSE_BSc in Data Science', 'COURSE_BSc in Education & Training', 'COURSE_BSc in Enterprise Computing', 'COURSE_BSc in Environmental Science & Tech', 'COURSE_BSc in Genetics & Cell Biology', 'COURSE_BSc in Multimedia', 'COURSE_BSc in Nursing (General)', 'COURSE_BSc in Nursing (Intellectual Disability)', 'COURSE_BSc in Nursing (Mental Health)', 'COURSE_BSc in Physical Education with Biology', 'COURSE_BSc in Physical Education with Maths.', 'COURSE_BSc in Physics with Astronomy', 'COURSE_BSc. in Horticulture', 'COURSE_Bachelor Business Studies International', 'COURSE_Bachelor of Arts (BAJG)', 'COURSE_Bachelor of Arts (BAJH)', 'COURSE_Bachelor of Arts (BAJI)', 'COURSE_Bachelor of Arts (BAJL)', 'COURSE_Bachelor of Arts (BAJM)', 'COURSE_Bachelor of Arts (BAJP)', 'COURSE_Bachelor of Arts (BAJW)', 'COURSE_Bachelor of Arts J. H. (Politics&French)', 'COURSE_Bachelor of Arts J.H. (MediaStud&Irish)', 'COURSE_Bachelor of Arts J.H. Pol with Int. Lang', 'COURSE_Bachelor of Arts J.H.( M.S & Int. Lang)', 'COURSE_Bachelor of Arts J.H.(Politics&Med Stu)', 'COURSE_Bachelor of Arts Jnt Hon(MediaStud&Fren)', 'COURSE_Bachelor of Arts Jnt Hons (Law & Irish)', 'COURSE_Bachelor of Arts Jnt Hons (Law&French)', 'COURSE_Bachelor of Arts Jnt Hons Irs &Int Lang', 'COURSE_Bachelor of Arts Jnt Hons Law & Int.Lang', 'COURSE_Bachelor of Arts Jnt Hons(Law&Media Std)', 'COURSE_Bachelor of Arts Jnt Hons(Law&Politics)', 'COURSE_Bachelor of Arts Jnt.Hons(Irish&French)', 'COURSE_Bachelor of Business Studies', 'COURSE_Bachelor of Early Childhood Education', 'COURSE_Bachelor of Education', 'COURSE_Bachelor of Nursing Studies (Hons)', 'COURSE_Bachelor of Religious Education & Music', 'COURSE_Bachelor of Religious Education &English', 'COURSE_Bachelor of Religious Education &History', 'COURSE_Bachelor of Science in Health & Society', 'COURSE_Common Entry Actuarial and Financial Maths']\n",
      "Score: 0.8240\t R2: 0.8239501359\t MSE: 59.3283308775\t Variance: 0.8239720789\n",
      "\n",
      "Leaving Column CANX out\n",
      "Excluding: ['CANX_2014.0', 'CANX_2015.0', 'CANX_2016.0', 'CANX_2017.0', 'CANX_2018.0', 'CANX_2019.0']\n",
      "Score: 0.7803\t R2: 0.7802777585\t MSE: 74.0458046185\t Variance: 0.7802959320\n",
      "\n",
      "Leaving Column PREV_FACULTY out\n",
      "Excluding: ['PREV_FACULTY_DCU BUSINESS SCHOOL', 'PREV_FACULTY_DCUBS/HSS', 'PREV_FACULTY_ENGINEERING AND COMPUTING', 'PREV_FACULTY_HUMANITIES AND SOCIAL SCIENCES', 'PREV_FACULTY_INSTITUTE OF EDUCATION', 'PREV_FACULTY_SCIENCE AND HEALTH']\n",
      "Score: 0.7447\t R2: 0.7447109432\t MSE: 86.0317257543\t Variance: 0.7447140553\n",
      "\n",
      "Leaving Column PREV_DEPT out\n",
      "Excluding: ['PREV_DEPT_BIOTECHNOLOGY', 'PREV_DEPT_CHEMICAL SCIENCES', 'PREV_DEPT_COMMUNICATIONS', 'PREV_DEPT_COMPUTING', 'PREV_DEPT_DCU BUSINESS SCHOOL', 'PREV_DEPT_DCUBS / HSS L&G Programmes', 'PREV_DEPT_EDUCATION', 'PREV_DEPT_ELECTRONIC ENGINEERING', 'PREV_DEPT_FIONTAR', 'PREV_DEPT_FIONTAR/COMMUNICATIONS', 'PREV_DEPT_Fiontar agus Scoil na Gaeilge', 'PREV_DEPT_HEALTH AND HUMAN PERFORMANCE', 'PREV_DEPT_HUMANITIES AND SOCIAL SCIENCES', 'PREV_DEPT_INSTITUTE OF EDUCATION', 'PREV_DEPT_LAW AND GOVERNMENT', 'PREV_DEPT_Language, Literacy and ECE', 'PREV_DEPT_MATHEMATICAL SCIENCES', 'PREV_DEPT_MECHANICAL ENGINEERING', 'PREV_DEPT_NURSING', 'PREV_DEPT_PHYSICAL SCIENCES', 'PREV_DEPT_SALIS']\n"
     ]
    },
    {
     "name": "stdout",
     "output_type": "stream",
     "text": [
      "Score: 0.8236\t R2: 0.8236175557\t MSE: 59.4404094957\t Variance: 0.8236386189\n",
      "\n",
      "Leaving Column PREV_CODE out\n",
      "Excluding: ['PREV_CODE_AC', 'PREV_CODE_ACM', 'PREV_CODE_AF', 'PREV_CODE_ALIS', 'PREV_CODE_ALTS', 'PREV_CODE_AMPS', 'PREV_CODE_AP', 'PREV_CODE_AS', 'PREV_CODE_ATT', 'PREV_CODE_BAJG', 'PREV_CODE_BAJH', 'PREV_CODE_BAJI', 'PREV_CODE_BAJL', 'PREV_CODE_BAJM', 'PREV_CODE_BAJP', 'PREV_CODE_BAJW', 'PREV_CODE_BCL', 'PREV_CODE_BECE', 'PREV_CODE_BED', 'PREV_CODE_BHS', 'PREV_CODE_BMED', 'PREV_CODE_BNCG', 'PREV_CODE_BNGN', 'PREV_CODE_BNID', 'PREV_CODE_BNPY', 'PREV_CODE_BNS', 'PREV_CODE_BPY', 'PREV_CODE_BRE', 'PREV_CODE_BRH', 'PREV_CODE_BRM', 'PREV_CODE_BS', 'PREV_CODE_BT', 'PREV_CODE_CA', 'PREV_CODE_CAFM', 'PREV_CODE_CAM', 'PREV_CODE_CCS', 'PREV_CODE_CE', 'PREV_CODE_CES', 'PREV_CODE_CPSSD', 'PREV_CODE_CS', 'PREV_CODE_DME', 'PREV_CODE_EBF', 'PREV_CODE_EBG', 'PREV_CODE_EBS', 'PREV_CODE_EBT', 'PREV_CODE_EC', 'PREV_CODE_ECE', 'PREV_CODE_EE', 'PREV_CODE_ENGLIC', 'PREV_CODE_EPL', 'PREV_CODE_ESH', 'PREV_CODE_ET', 'PREV_CODE_GCB', 'PREV_CODE_GG', 'PREV_CODE_GI', 'PREV_CODE_HOR', 'PREV_CODE_ICE', 'PREV_CODE_INTB', 'PREV_CODE_IR', 'PREV_CODE_JHIFR', 'PREV_CODE_JHLFR', 'PREV_CODE_JHLIL', 'PREV_CODE_JHLIR', 'PREV_CODE_JHLMS', 'PREV_CODE_JHLPO', 'PREV_CODE_JHMFR', 'PREV_CODE_JHMIL', 'PREV_CODE_JHMSI', 'PREV_CODE_JHPFR', 'PREV_CODE_JHPIL', 'PREV_CODE_JHPOM', 'PREV_CODE_JR', 'PREV_CODE_ME', 'PREV_CODE_MINT', 'PREV_CODE_MINTD', 'PREV_CODE_MMA', 'PREV_CODE_MWB', 'PREV_CODE_PBM', 'PREV_CODE_PEB', 'PREV_CODE_PEM', 'PREV_CODE_PHA', 'PREV_CODE_SE', 'PREV_CODE_SSH']\n",
      "Score: 0.8240\t R2: 0.8239500810\t MSE: 59.3283493720\t Variance: 0.8239719455\n",
      "\n",
      "Leaving Column PREV_COURSE out\n",
      "Excluding: ['PREV_COURSE_B.Eng. Mechanical & Manufacturing Eng', 'PREV_COURSE_B.Eng. in Biomedical Engineering', 'PREV_COURSE_B.Eng. in Common Entry into Engineering', 'PREV_COURSE_B.Eng. in Digital Media Engineering', 'PREV_COURSE_B.Eng. in Mechatronic Engineering', 'PREV_COURSE_BA Gaeilge agus Iriseoireacht', 'PREV_COURSE_BA Gno agus Gaeilge', 'PREV_COURSE_BA Languages for Int. Communication(Eng)', 'PREV_COURSE_BA in Accounting and Finance', 'PREV_COURSE_BA in Applied Language & Translation Stu', 'PREV_COURSE_BA in Applied Language and Intercultural', 'PREV_COURSE_BA in Communication Studies', 'PREV_COURSE_BA in Contemporary Culture and Society', 'PREV_COURSE_BA in Economics, Politics and Law', 'PREV_COURSE_BA in Global Business (France)', 'PREV_COURSE_BA in Global Business (Germany)', 'PREV_COURSE_BA in Global Business (Spain)', 'PREV_COURSE_BA in Global Business (USA)', 'PREV_COURSE_BA in International Relations', 'PREV_COURSE_BA in Journalism', 'PREV_COURSE_BCL (Law and Society)', 'PREV_COURSE_BEng Electronic & Computer Engineering', 'PREV_COURSE_BEng Info and Communications Engineering', 'PREV_COURSE_BEng in Electronic Engineering', 'PREV_COURSE_BSc (Honours) in Psychology', 'PREV_COURSE_BSc Athletic Therapy and Training', 'PREV_COURSE_BSc Common Entry into Science', 'PREV_COURSE_BSc Environmental Science & Health', 'PREV_COURSE_BSc Manufacturing Eng with Business', 'PREV_COURSE_BSc Marketing, Innovation & Technology', 'PREV_COURSE_BSc Marketing, Innovation and Technology', 'PREV_COURSE_BSc Physics with Biomedical Sciences', 'PREV_COURSE_BSc Science Education', 'PREV_COURSE_BSc Sport Science and Health', 'PREV_COURSE_BSc in Actuarial Mathematics', 'PREV_COURSE_BSc in Analytical Science', 'PREV_COURSE_BSc in Applied Physics', 'PREV_COURSE_BSc in Aviation Management', 'PREV_COURSE_BSc in Biotechnology', 'PREV_COURSE_BSc in Chemical and Pharmaceutical Sc.', \"PREV_COURSE_BSc in Children's & General Nursing\", 'PREV_COURSE_BSc in ComputationalProblem Solv&SW Dev.', 'PREV_COURSE_BSc in Computer Applications', 'PREV_COURSE_BSc in Education & Training', 'PREV_COURSE_BSc in Enterprise Computing', 'PREV_COURSE_BSc in Genetics & Cell Biology', 'PREV_COURSE_BSc in Multimedia', 'PREV_COURSE_BSc in Nursing (General)', 'PREV_COURSE_BSc in Nursing (Intellectual Disability)', 'PREV_COURSE_BSc in Nursing (Mental Health)', 'PREV_COURSE_BSc in Physical Education with Biology', 'PREV_COURSE_BSc in Physical Education with Maths.', 'PREV_COURSE_BSc in Physics with Astronomy', 'PREV_COURSE_BSc. in Horticulture', 'PREV_COURSE_Bachelor Business Studies International', 'PREV_COURSE_Bachelor of Arts (BAJG)', 'PREV_COURSE_Bachelor of Arts (BAJH)', 'PREV_COURSE_Bachelor of Arts (BAJI)', 'PREV_COURSE_Bachelor of Arts (BAJL)', 'PREV_COURSE_Bachelor of Arts (BAJM)', 'PREV_COURSE_Bachelor of Arts (BAJP)', 'PREV_COURSE_Bachelor of Arts (BAJW)', 'PREV_COURSE_Bachelor of Arts J. H. (Politics&French)', 'PREV_COURSE_Bachelor of Arts J.H. (MediaStud&Irish)', 'PREV_COURSE_Bachelor of Arts J.H. Pol with Int. Lang', 'PREV_COURSE_Bachelor of Arts J.H.( M.S & Int. Lang)', 'PREV_COURSE_Bachelor of Arts J.H.(Politics&Med Stu)', 'PREV_COURSE_Bachelor of Arts Jnt Hon(MediaStud&Fren)', 'PREV_COURSE_Bachelor of Arts Jnt Hons (Law & Irish)', 'PREV_COURSE_Bachelor of Arts Jnt Hons (Law&French)', 'PREV_COURSE_Bachelor of Arts Jnt Hons Law & Int.Lang', 'PREV_COURSE_Bachelor of Arts Jnt Hons(Law&Media Std)', 'PREV_COURSE_Bachelor of Arts Jnt Hons(Law&Politics)', 'PREV_COURSE_Bachelor of Arts Jnt.Hons(Irish&French)', 'PREV_COURSE_Bachelor of Business Studies', 'PREV_COURSE_Bachelor of Early Childhood Education', 'PREV_COURSE_Bachelor of Education', 'PREV_COURSE_Bachelor of Nursing Studies (Hons)', 'PREV_COURSE_Bachelor of Religious Education & Music', 'PREV_COURSE_Bachelor of Religious Education &English', 'PREV_COURSE_Bachelor of Religious Education &History', 'PREV_COURSE_Bachelor of Science in Health & Society', 'PREV_COURSE_Common Entry Actuarial and Financial Maths']\n",
      "Score: 0.8240\t R2: 0.8239500813\t MSE: 59.3283492480\t Variance: 0.8239719458\n",
      "\n",
      "Leaving Column PREV_CANX out\n",
      "Excluding: ['PREV_CANX_2013.0', 'PREV_CANX_2014.0', 'PREV_CANX_2015.0', 'PREV_CANX_2016.0', 'PREV_CANX_2017.0', 'PREV_CANX_2018.0']\n",
      "Score: 0.8214\t R2: 0.8213608283\t MSE: 60.2009205665\t Variance: 0.8213796462\n",
      "\n",
      "Leaving Column PREV_RESULT out\n",
      "Excluding: ['PREV_RESULT_F', 'PREV_RESULT_F0', 'PREV_RESULT_P']\n",
      "Score: 0.8200\t R2: 0.8199842678\t MSE: 60.6648177373\t Variance: 0.8200156178\n",
      "\n",
      "Leaving Column FIRST_FACULTY out\n",
      "Excluding: ['FIRST_FACULTY_DCU BUSINESS SCHOOL', 'FIRST_FACULTY_DCUBS/HSS', 'FIRST_FACULTY_ENGINEERING AND COMPUTING', 'FIRST_FACULTY_HUMANITIES AND SOCIAL SCIENCES', 'FIRST_FACULTY_INSTITUTE OF EDUCATION', 'FIRST_FACULTY_SCIENCE AND HEALTH']\n",
      "Score: 0.8240\t R2: 0.8239500985\t MSE: 59.3283434786\t Variance: 0.8239719371\n",
      "\n",
      "Leaving Column FIRST_DEPT out\n",
      "Excluding: ['FIRST_DEPT_BIOTECHNOLOGY', 'FIRST_DEPT_CHEMICAL SCIENCES', 'FIRST_DEPT_COMMUNICATIONS', 'FIRST_DEPT_COMPUTING', 'FIRST_DEPT_DCU BUSINESS SCHOOL', 'FIRST_DEPT_DCUBS / HSS L&G Programmes', 'FIRST_DEPT_EDUCATION', 'FIRST_DEPT_ELECTRONIC ENGINEERING', 'FIRST_DEPT_FIONTAR', 'FIRST_DEPT_FIONTAR/COMMUNICATIONS', 'FIRST_DEPT_Fiontar agus Scoil na Gaeilge', 'FIRST_DEPT_HEALTH AND HUMAN PERFORMANCE', 'FIRST_DEPT_HUMANITIES AND SOCIAL SCIENCES', 'FIRST_DEPT_INSTITUTE OF EDUCATION', 'FIRST_DEPT_LAW AND GOVERNMENT', 'FIRST_DEPT_Language, Literacy and ECE', 'FIRST_DEPT_MATHEMATICAL SCIENCES', 'FIRST_DEPT_MECHANICAL ENGINEERING', 'FIRST_DEPT_NURSING', 'FIRST_DEPT_PHYSICAL SCIENCES', 'FIRST_DEPT_SALIS', 'FIRST_DEPT_STEM Ed & Global Studies', 'FIRST_DEPT_THEOLOGY, PHILOSOPHY AND MUSIC']\n",
      "Score: 0.8241\t R2: 0.8241279654\t MSE: 59.2684028142\t Variance: 0.8241569317\n",
      "\n",
      "Leaving Column FIRST_CODE out\n",
      "Excluding: ['FIRST_CODE_AC', 'FIRST_CODE_ACM', 'FIRST_CODE_AF', 'FIRST_CODE_ALIS', 'FIRST_CODE_ALTS', 'FIRST_CODE_AMPS', 'FIRST_CODE_AP', 'FIRST_CODE_AS', 'FIRST_CODE_ATT', 'FIRST_CODE_BAJG', 'FIRST_CODE_BAJH', 'FIRST_CODE_BAJI', 'FIRST_CODE_BAJL', 'FIRST_CODE_BAJM', 'FIRST_CODE_BAJP', 'FIRST_CODE_BAJW', 'FIRST_CODE_BCL', 'FIRST_CODE_BECE', 'FIRST_CODE_BED', 'FIRST_CODE_BET', 'FIRST_CODE_BHS', 'FIRST_CODE_BMED', 'FIRST_CODE_BNCG', 'FIRST_CODE_BNGN', 'FIRST_CODE_BNID', 'FIRST_CODE_BNPY', 'FIRST_CODE_BNS', 'FIRST_CODE_BPY', 'FIRST_CODE_BRE', 'FIRST_CODE_BRH', 'FIRST_CODE_BRM', 'FIRST_CODE_BS', 'FIRST_CODE_BSIF', 'FIRST_CODE_BT', 'FIRST_CODE_CA', 'FIRST_CODE_CAFM', 'FIRST_CODE_CAM', 'FIRST_CODE_CCS', 'FIRST_CODE_CE', 'FIRST_CODE_CES', 'FIRST_CODE_CPSSD', 'FIRST_CODE_CS', 'FIRST_CODE_DME', 'FIRST_CODE_DS', 'FIRST_CODE_EBC', 'FIRST_CODE_EBF', 'FIRST_CODE_EBG', 'FIRST_CODE_EBS', 'FIRST_CODE_EBT', 'FIRST_CODE_EC', 'FIRST_CODE_ECE', 'FIRST_CODE_EE', 'FIRST_CODE_ENGLIC', 'FIRST_CODE_EPL', 'FIRST_CODE_ESH', 'FIRST_CODE_EST', 'FIRST_CODE_ET', 'FIRST_CODE_GCB', 'FIRST_CODE_GG', 'FIRST_CODE_GI', 'FIRST_CODE_HOR', 'FIRST_CODE_ICE', 'FIRST_CODE_INTB', 'FIRST_CODE_IR', 'FIRST_CODE_JHIFR', 'FIRST_CODE_JHIIL', 'FIRST_CODE_JHLFR', 'FIRST_CODE_JHLIL', 'FIRST_CODE_JHLIR', 'FIRST_CODE_JHLMS', 'FIRST_CODE_JHLPO', 'FIRST_CODE_JHMFR', 'FIRST_CODE_JHMIL', 'FIRST_CODE_JHMSI', 'FIRST_CODE_JHPFR', 'FIRST_CODE_JHPIL', 'FIRST_CODE_JHPOM', 'FIRST_CODE_JR', 'FIRST_CODE_JZCM', 'FIRST_CODE_ME', 'FIRST_CODE_MINT', 'FIRST_CODE_MINTD', 'FIRST_CODE_MMA', 'FIRST_CODE_MWB', 'FIRST_CODE_PBM', 'FIRST_CODE_PEB', 'FIRST_CODE_PEM', 'FIRST_CODE_PHA', 'FIRST_CODE_PSSD', 'FIRST_CODE_SE', 'FIRST_CODE_SSH']\n"
     ]
    },
    {
     "name": "stdout",
     "output_type": "stream",
     "text": [
      "Score: 0.8246\t R2: 0.8246490558\t MSE: 59.0927967510\t Variance: 0.8246708816\n",
      "\n",
      "Leaving Column FIRST_COURSE out\n",
      "Excluding: ['FIRST_COURSE_B.Eng. Mechanical & Manufacturing Eng', 'FIRST_COURSE_B.Eng. in Biomedical Engineering', 'FIRST_COURSE_B.Eng. in Common Entry into Engineering', 'FIRST_COURSE_B.Eng. in Digital Media Engineering', 'FIRST_COURSE_B.Eng. in Mechatronic Engineering', 'FIRST_COURSE_BA Gaeilge agus Iriseoireacht', 'FIRST_COURSE_BA Gno agus Gaeilge', 'FIRST_COURSE_BA Languages for Int. Communication(Eng)', 'FIRST_COURSE_BA in Accounting and Finance', 'FIRST_COURSE_BA in Applied Language & Translation Stu', 'FIRST_COURSE_BA in Applied Language and Intercultural', 'FIRST_COURSE_BA in Communication Studies', 'FIRST_COURSE_BA in Contemporary Culture and Society', 'FIRST_COURSE_BA in Economics, Politics and Law', 'FIRST_COURSE_BA in Global Business (Canada)', 'FIRST_COURSE_BA in Global Business (France)', 'FIRST_COURSE_BA in Global Business (Germany)', 'FIRST_COURSE_BA in Global Business (Spain)', 'FIRST_COURSE_BA in Global Business (USA)', 'FIRST_COURSE_BA in International Relations', 'FIRST_COURSE_BA in Jazz and Contemporary Music Perfor', 'FIRST_COURSE_BA in Journalism', 'FIRST_COURSE_BBS (International Finance)', 'FIRST_COURSE_BCL (Law and Society)', 'FIRST_COURSE_BEng Electronic & Computer Engineering', 'FIRST_COURSE_BEng Info and Communications Engineering', 'FIRST_COURSE_BEng in Electronic Engineering', 'FIRST_COURSE_BSc (Honours) in Psychology', 'FIRST_COURSE_BSc Athletic Therapy and Training', 'FIRST_COURSE_BSc Common Entry into Science', 'FIRST_COURSE_BSc Environmental Science & Health', 'FIRST_COURSE_BSc Manufacturing Eng with Business', 'FIRST_COURSE_BSc Marketing, Innovation & Technology', 'FIRST_COURSE_BSc Marketing, Innovation and Technology', 'FIRST_COURSE_BSc Physics with Biomedical Sciences', 'FIRST_COURSE_BSc Science Education', 'FIRST_COURSE_BSc Sport Science and Health', 'FIRST_COURSE_BSc in Actuarial Mathematics', 'FIRST_COURSE_BSc in Analytical Science', 'FIRST_COURSE_BSc in Applied Physics', 'FIRST_COURSE_BSc in Aviation Management', 'FIRST_COURSE_BSc in Biotechnology', 'FIRST_COURSE_BSc in Chemical and Pharmaceutical Sc.', \"FIRST_COURSE_BSc in Children's & General Nursing\", 'FIRST_COURSE_BSc in ComputationalProblem Solv&SW Dev.', 'FIRST_COURSE_BSc in Computer Applications', 'FIRST_COURSE_BSc in Data Science', 'FIRST_COURSE_BSc in Education & Training', 'FIRST_COURSE_BSc in Enterprise Computing', 'FIRST_COURSE_BSc in Environmental Science & Tech', 'FIRST_COURSE_BSc in Genetics & Cell Biology', 'FIRST_COURSE_BSc in Multimedia', 'FIRST_COURSE_BSc in Nursing (General)', 'FIRST_COURSE_BSc in Nursing (Intellectual Disability)', 'FIRST_COURSE_BSc in Nursing (Mental Health)', 'FIRST_COURSE_BSc in Physical Education with Biology', 'FIRST_COURSE_BSc in Physical Education with Maths.', 'FIRST_COURSE_BSc in Physics with Astronomy', 'FIRST_COURSE_BSc. in Horticulture', 'FIRST_COURSE_Bachelor Business Studies International', 'FIRST_COURSE_Bachelor of Arts (BAJG)', 'FIRST_COURSE_Bachelor of Arts (BAJH)', 'FIRST_COURSE_Bachelor of Arts (BAJI)', 'FIRST_COURSE_Bachelor of Arts (BAJL)', 'FIRST_COURSE_Bachelor of Arts (BAJM)', 'FIRST_COURSE_Bachelor of Arts (BAJP)', 'FIRST_COURSE_Bachelor of Arts (BAJW)', 'FIRST_COURSE_Bachelor of Arts J. H. (Politics&French)', 'FIRST_COURSE_Bachelor of Arts J.H. (MediaStud&Irish)', 'FIRST_COURSE_Bachelor of Arts J.H. Pol with Int. Lang', 'FIRST_COURSE_Bachelor of Arts J.H.( M.S & Int. Lang)', 'FIRST_COURSE_Bachelor of Arts J.H.(Politics&Med Stu)', 'FIRST_COURSE_Bachelor of Arts Jnt Hon(MediaStud&Fren)', 'FIRST_COURSE_Bachelor of Arts Jnt Hons (Law & Irish)', 'FIRST_COURSE_Bachelor of Arts Jnt Hons (Law&French)', 'FIRST_COURSE_Bachelor of Arts Jnt Hons Irs &Int Lang', 'FIRST_COURSE_Bachelor of Arts Jnt Hons Law & Int.Lang', 'FIRST_COURSE_Bachelor of Arts Jnt Hons(Law&Media Std)', 'FIRST_COURSE_Bachelor of Arts Jnt Hons(Law&Politics)', 'FIRST_COURSE_Bachelor of Arts Jnt.Hons(Irish&French)', 'FIRST_COURSE_Bachelor of Business Studies', 'FIRST_COURSE_Bachelor of Early Childhood Education', 'FIRST_COURSE_Bachelor of Education', 'FIRST_COURSE_Bachelor of Nursing Studies (Hons)', 'FIRST_COURSE_Bachelor of Religious Education & Music', 'FIRST_COURSE_Bachelor of Religious Education &English', 'FIRST_COURSE_Bachelor of Religious Education &History', 'FIRST_COURSE_Bachelor of Science in Health & Society', 'FIRST_COURSE_Common Entry Actuarial and Financial Maths']\n",
      "Score: 0.8239\t R2: 0.8239490282\t MSE: 59.3287041569\t Variance: 0.8239707762\n",
      "\n",
      "Leaving Column FIRST_CANX out\n",
      "Excluding: ['FIRST_CANX_2014.0', 'FIRST_CANX_2015.0', 'FIRST_CANX_2016.0', 'FIRST_CANX_2017.0', 'FIRST_CANX_2018.0', 'FIRST_CANX_2019.0']\n",
      "Score: 0.8083\t R2: 0.8083247629\t MSE: 64.5940395654\t Variance: 0.8083518152\n",
      "\n",
      "Leaving Column NEXT_CODE out\n",
      "Excluding: ['NEXT_CODE_AC', 'NEXT_CODE_ACM', 'NEXT_CODE_AF', 'NEXT_CODE_ALTS', 'NEXT_CODE_AMPS', 'NEXT_CODE_AP', 'NEXT_CODE_AS', 'NEXT_CODE_ATT', 'NEXT_CODE_BAJH', 'NEXT_CODE_BAJI', 'NEXT_CODE_BAJL', 'NEXT_CODE_BAJM', 'NEXT_CODE_BAJP', 'NEXT_CODE_BAJW', 'NEXT_CODE_BCL', 'NEXT_CODE_BECE', 'NEXT_CODE_BED', 'NEXT_CODE_BHS', 'NEXT_CODE_BMED', 'NEXT_CODE_BNCG', 'NEXT_CODE_BNGN', 'NEXT_CODE_BNID', 'NEXT_CODE_BNPY', 'NEXT_CODE_BPY', 'NEXT_CODE_BRE', 'NEXT_CODE_BRH', 'NEXT_CODE_BRM', 'NEXT_CODE_BS', 'NEXT_CODE_BSSCI', 'NEXT_CODE_BT', 'NEXT_CODE_CA', 'NEXT_CODE_CAFM', 'NEXT_CODE_CAM', 'NEXT_CODE_CCS', 'NEXT_CODE_CE', 'NEXT_CODE_CES', 'NEXT_CODE_CPSSD', 'NEXT_CODE_CS', 'NEXT_CODE_DME', 'NEXT_CODE_DS', 'NEXT_CODE_EBC', 'NEXT_CODE_EBF', 'NEXT_CODE_EBG', 'NEXT_CODE_EBS', 'NEXT_CODE_EBT', 'NEXT_CODE_EC', 'NEXT_CODE_ECE', 'NEXT_CODE_EE', 'NEXT_CODE_EPL', 'NEXT_CODE_ESH', 'NEXT_CODE_EST', 'NEXT_CODE_ET', 'NEXT_CODE_GCB', 'NEXT_CODE_GG', 'NEXT_CODE_GI', 'NEXT_CODE_HOR', 'NEXT_CODE_INTB', 'NEXT_CODE_IR', 'NEXT_CODE_JHLIL', 'NEXT_CODE_JHLIR', 'NEXT_CODE_JHLMS', 'NEXT_CODE_JHLPO', 'NEXT_CODE_JHMFR', 'NEXT_CODE_JHMIL', 'NEXT_CODE_JHPOM', 'NEXT_CODE_JR', 'NEXT_CODE_JZCM', 'NEXT_CODE_ME', 'NEXT_CODE_MINT', 'NEXT_CODE_MINTD', 'NEXT_CODE_MMA', 'NEXT_CODE_MWB', 'NEXT_CODE_PBM', 'NEXT_CODE_PEB', 'NEXT_CODE_PEM', 'NEXT_CODE_PHA', 'NEXT_CODE_SE', 'NEXT_CODE_SSH']\n",
      "Score: 0.8210\t R2: 0.8209883475\t MSE: 60.3264455776\t Variance: 0.8210193263\n",
      "\n",
      "Leaving Column NEXT_RESULT out\n",
      "Excluding: ['NEXT_RESULT_F', 'NEXT_RESULT_F0', 'NEXT_RESULT_P']\n",
      "Score: 0.8243\t R2: 0.8242569417\t MSE: 59.2249381188\t Variance: 0.8242782858\n",
      "\n",
      "Leaving Column Y2_RETURN out\n",
      "Excluding: ['Y2_RETURN_N', 'Y2_RETURN_Y']\n",
      "Score: 0.8239\t R2: 0.8238627780\t MSE: 59.3577702325\t Variance: 0.8238852656\n",
      "\n",
      "Leaving Column PASS_M1 out\n",
      "Excluding: ['PASS_M1_0', 'PASS_M1_N', 'PASS_M1_Y']\n",
      "Score: 0.8238\t R2: 0.8238485048\t MSE: 59.3625802675\t Variance: 0.8238709447\n",
      "\n",
      "Leaving Column PASS_M5 out\n",
      "Excluding: ['PASS_M5_0', 'PASS_M5_N', 'PASS_M5_Y']\n",
      "Score: 0.8234\t R2: 0.8234411709\t MSE: 59.4998506862\t Variance: 0.8234605338\n",
      "\n",
      "Leaving Column PASS_M8 out\n",
      "Excluding: ['PASS_M8_0', 'PASS_M8_N', 'PASS_M8_Y']\n",
      "Score: 0.8242\t R2: 0.8242070512\t MSE: 59.2417510870\t Variance: 0.8242300384\n",
      "\n",
      "Leaving Column BIO_SEX out\n",
      "Excluding: ['BIO_SEX_F', 'BIO_SEX_M']\n",
      "Score: 0.8234\t R2: 0.8234103544\t MSE: 59.5102357641\t Variance: 0.8234377195\n",
      "\n",
      "Leaving Column ORIGIN_CODE out\n",
      "Excluding: ['ORIGIN_CODE_0.0', 'ORIGIN_CODE_2.0', 'ORIGIN_CODE_3.0', 'ORIGIN_CODE_4.0', 'ORIGIN_CODE_5.0', 'ORIGIN_CODE_6.0', 'ORIGIN_CODE_7.0', 'ORIGIN_CODE_8.0', 'ORIGIN_CODE_9.0', 'ORIGIN_CODE_10.0', 'ORIGIN_CODE_11.0']\n",
      "Score: 0.8241\t R2: 0.8241016555\t MSE: 59.2772691681\t Variance: 0.8241199922\n",
      "\n",
      "Leaving Column SCH_ADDR_CODE out\n",
      "Excluding: ['SCH_ADDR_CODE_2.0', 'SCH_ADDR_CODE_3.0', 'SCH_ADDR_CODE_4.0', 'SCH_ADDR_CODE_5.0', 'SCH_ADDR_CODE_6.0', 'SCH_ADDR_CODE_7.0']\n",
      "Score: 0.8241\t R2: 0.8240674698\t MSE: 59.2887896656\t Variance: 0.8240896521\n",
      "\n",
      "Leaving Column SCH_DEIS out\n",
      "Excluding: ['SCH_DEIS_N', 'SCH_DEIS_Y']\n",
      "Score: 0.8240\t R2: 0.8239630844\t MSE: 59.3239672695\t Variance: 0.8239845804\n",
      "\n",
      "Leaving Column SCH_FEE_PAYING out\n",
      "Excluding: ['SCH_FEE_PAYING_N', 'SCH_FEE_PAYING_Y']\n",
      "Score: 0.8242\t R2: 0.8241779067\t MSE: 59.2515727200\t Variance: 0.8241981251\n",
      "\n",
      "Leaving Column STUDENT_TYPE out\n",
      "Excluding: ['STUDENT_TYPE_1.0', 'STUDENT_TYPE_4.0', 'STUDENT_TYPE_5.0', 'STUDENT_TYPE_7.0', 'STUDENT_TYPE_9.0']\n"
     ]
    },
    {
     "name": "stdout",
     "output_type": "stream",
     "text": [
      "Score: 0.8217\t R2: 0.8217390103\t MSE: 60.0734742314\t Variance: 0.8217588170\n",
      "\n",
      "Leaving Column STUDENT_ADDR_CODE out\n",
      "Excluding: ['STUDENT_ADDR_CODE_0.0', 'STUDENT_ADDR_CODE_1.0', 'STUDENT_ADDR_CODE_2.0', 'STUDENT_ADDR_CODE_3.0', 'STUDENT_ADDR_CODE_4.0', 'STUDENT_ADDR_CODE_5.0', 'STUDENT_ADDR_CODE_6.0', 'STUDENT_ADDR_CODE_7.0', 'STUDENT_ADDR_CODE_8.0', 'STUDENT_ADDR_CODE_9.0', 'STUDENT_ADDR_CODE_10.0', 'STUDENT_ADDR_CODE_11.0']\n",
      "Score: 0.8235\t R2: 0.8235021381\t MSE: 59.4793049052\t Variance: 0.8235253791\n",
      "\n",
      "Leaving Column ADDRESS_CODE out\n",
      "Excluding: ['ADDRESS_CODE_0.0', 'ADDRESS_CODE_1.0', 'ADDRESS_CODE_2.0', 'ADDRESS_CODE_3.0', 'ADDRESS_CODE_4.0', 'ADDRESS_CODE_5.0', 'ADDRESS_CODE_6.0', 'ADDRESS_CODE_7.0', 'ADDRESS_CODE_8.0', 'ADDRESS_CODE_9.0', 'ADDRESS_CODE_10.0', 'ADDRESS_CODE_11.0']\n",
      "Score: 0.8236\t R2: 0.8236311679\t MSE: 59.4358222291\t Variance: 0.8236562492\n",
      "\n",
      "Leaving Column PERMANENT_ADDR_CODE out\n",
      "Excluding: ['PERMANENT_ADDR_CODE_0.0', 'PERMANENT_ADDR_CODE_1.0', 'PERMANENT_ADDR_CODE_2.0', 'PERMANENT_ADDR_CODE_3.0', 'PERMANENT_ADDR_CODE_4.0', 'PERMANENT_ADDR_CODE_5.0', 'PERMANENT_ADDR_CODE_6.0', 'PERMANENT_ADDR_CODE_7.0', 'PERMANENT_ADDR_CODE_8.0', 'PERMANENT_ADDR_CODE_9.0', 'PERMANENT_ADDR_CODE_10.0', 'PERMANENT_ADDR_CODE_11.0']\n",
      "Score: 0.8239\t R2: 0.8239227669\t MSE: 59.3375541439\t Variance: 0.8239423228\n",
      "\n",
      "Leaving Column ENTERPRISE_ESOC out\n",
      "Excluding: ['ENTERPRISE_ESOC_0', 'ENTERPRISE_ESOC_1']\n",
      "Score: 0.8239\t R2: 0.8239212131\t MSE: 59.3380777767\t Variance: 0.8239385559\n",
      "\n",
      "Leaving Column ACC_FINANCE out\n",
      "Excluding: ['ACC_FINANCE_0', 'ACC_FINANCE_1']\n",
      "Score: 0.8233\t R2: 0.8232649136\t MSE: 59.5592489499\t Variance: 0.8232877425\n",
      "\n",
      "Leaving Column FIRST_REL_IND out\n",
      "Excluding: ['FIRST_REL_IND_0.0', 'FIRST_REL_IND_1.0']\n",
      "Score: 0.8239\t R2: 0.8238719323\t MSE: 59.3546852560\t Variance: 0.8238950272\n",
      "\n",
      "Leaving Column FIRST_QUARTILE_RANK out\n",
      "Excluding: ['FIRST_QUARTILE_RANK_1.0', 'FIRST_QUARTILE_RANK_2.0', 'FIRST_QUARTILE_RANK_3.0', 'FIRST_QUARTILE_RANK_4.0']\n",
      "Score: 0.8240\t R2: 0.8240233462\t MSE: 59.3036591777\t Variance: 0.8240458375\n",
      "\n",
      "Leaving Column SECOND_REL_IND out\n",
      "Excluding: ['SECOND_REL_IND_0.0', 'SECOND_REL_IND_1.0']\n",
      "Score: 0.8240\t R2: 0.8239633749\t MSE: 59.3238693628\t Variance: 0.8239857079\n",
      "\n",
      "Leaving Column SECOND_QUARTILE_RANK out\n",
      "Excluding: ['SECOND_QUARTILE_RANK_1.0', 'SECOND_QUARTILE_RANK_2.0', 'SECOND_QUARTILE_RANK_3.0', 'SECOND_QUARTILE_RANK_4.0']\n",
      "Score: 0.8239\t R2: 0.8239173503\t MSE: 59.3393795242\t Variance: 0.8239394742\n",
      "\n",
      "Leaving Column FIRST_RESULT out\n",
      "Excluding: ['FIRST_RESULT_F', 'FIRST_RESULT_F0', 'FIRST_RESULT_P']\n",
      "Score: 0.7752\t R2: 0.7752421867\t MSE: 75.7427787718\t Variance: 0.7752860302\n",
      "\n",
      "Leaving Column YR_NUM out\n",
      "Excluding: ['YR_NUM']\n",
      "Score: 0.8232\t R2: 0.8232284710\t MSE: 59.5715300111\t Variance: 0.8232406190\n",
      "\n",
      "Leaving Column TOTAL_YEARS out\n",
      "Excluding: ['TOTAL_YEARS']\n",
      "Score: 0.8240\t R2: 0.8240183247\t MSE: 59.3053514131\t Variance: 0.8240413795\n",
      "\n",
      "Leaving Column DAYS_TO_FIRST_REG out\n",
      "Excluding: ['DAYS_TO_FIRST_REG']\n",
      "Score: 0.8240\t R2: 0.8239798984\t MSE: 59.3183009753\t Variance: 0.8239993598\n",
      "\n",
      "Leaving Column SCH_ENROLMENTS out\n",
      "Excluding: ['SCH_ENROLMENTS']\n",
      "Score: 0.8240\t R2: 0.8239529380\t MSE: 59.3273865570\t Variance: 0.8239742204\n",
      "\n",
      "Leaving Column YEARS_SINCE_LC out\n",
      "Excluding: ['YEARS_SINCE_LC']\n",
      "Score: 0.8233\t R2: 0.8232559519\t MSE: 59.5622690177\t Variance: 0.8232763300\n",
      "\n",
      "Leaving Column CAO_POINTS out\n",
      "Excluding: ['CAO_POINTS']\n",
      "Score: 0.8219\t R2: 0.8219211097\t MSE: 60.0121072206\t Variance: 0.8219438441\n",
      "\n",
      "Leaving Column LC_MATHS_POINTS out\n",
      "Excluding: ['LC_MATHS_POINTS']\n",
      "Score: 0.8229\t R2: 0.8228963573\t MSE: 59.6834514015\t Variance: 0.8229123478\n",
      "\n",
      "Leaving Column NUM_GRANTS out\n",
      "Excluding: ['NUM_GRANTS']\n",
      "Score: 0.8166\t R2: 0.8166326379\t MSE: 61.7943080038\t Variance: 0.8166466907\n",
      "\n",
      "Leaving Column NUM_SUBJECTS out\n",
      "Excluding: ['NUM_SUBJECTS']\n",
      "Score: 0.8178\t R2: 0.8178327499\t MSE: 61.3898734966\t Variance: 0.8178423314\n",
      "\n",
      "Leaving Column NUM_MEMBERSHIPS out\n",
      "Excluding: ['NUM_MEMBERSHIPS']\n",
      "Score: 0.8200\t R2: 0.8199595897\t MSE: 60.6731342150\t Variance: 0.8199927301\n",
      "\n",
      "Leaving Column NUM_SOCIETIES out\n",
      "Excluding: ['NUM_SOCIETIES']\n",
      "Score: 0.8200\t R2: 0.8199921675\t MSE: 60.6621555783\t Variance: 0.8200252740\n",
      "\n",
      "Leaving Column NUM_CLUBS out\n",
      "Excluding: ['NUM_CLUBS']\n",
      "Score: 0.8200\t R2: 0.8199616741\t MSE: 60.6724317745\t Variance: 0.8199947299\n",
      "\n",
      "Leaving Column NUM_M1_SUBJECTS out\n",
      "Excluding: ['NUM_M1_SUBJECTS']\n",
      "Score: 0.8237\t R2: 0.8237319517\t MSE: 59.4018583446\t Variance: 0.8237539165\n",
      "\n",
      "Leaving Column NUM_M5_SUBJECTS out\n",
      "Excluding: ['NUM_M5_SUBJECTS']\n",
      "Score: 0.8237\t R2: 0.8237060857\t MSE: 59.4105751410\t Variance: 0.8237296107\n",
      "\n",
      "Leaving Column NUM_M8_SUBJECTS out\n",
      "Excluding: ['NUM_M8_SUBJECTS']\n",
      "Score: 0.8237\t R2: 0.8236660945\t MSE: 59.4240520418\t Variance: 0.8236879296\n",
      "\n",
      "Leaving Column NUM_M1_FAILS out\n",
      "Excluding: ['NUM_M1_FAILS']\n",
      "Score: 0.8236\t R2: 0.8235599235\t MSE: 59.4598313934\t Variance: 0.8235776615\n",
      "\n",
      "Leaving Column NUM_M5_FAILS out\n",
      "Excluding: ['NUM_M5_FAILS']\n",
      "Score: 0.8217\t R2: 0.8216831138\t MSE: 60.0923112055\t Variance: 0.8217119332\n",
      "\n",
      "Leaving Column AGE_AT_START out\n",
      "Excluding: ['AGE_AT_START']\n",
      "Score: 0.8240\t R2: 0.8239689835\t MSE: 59.3219792722\t Variance: 0.8239907558\n",
      "\n",
      "Leaving Column NUM_EARLY_LOANS out\n",
      "Excluding: ['NUM_EARLY_LOANS']\n",
      "Score: 0.8018\t R2: 0.8018085097\t MSE: 66.7899993457\t Variance: 0.8018087335\n",
      "\n",
      "Leaving Column DAYS_TO_FIRST_LOAN out\n",
      "Excluding: ['DAYS_TO_FIRST_LOAN']\n",
      "Score: 0.8240\t R2: 0.8239854512\t MSE: 59.3164296859\t Variance: 0.8240078154\n",
      "\n",
      "Leaving Column DAYS_TO_FIRST_LAB out\n",
      "Excluding: ['DAYS_TO_FIRST_LAB']\n",
      "Score: 0.8219\t R2: 0.8219096468\t MSE: 60.0159702049\t Variance: 0.8219374117\n",
      "\n",
      "Leaving Column DAYS_TO_FIRST_ACCESS out\n",
      "Excluding: ['DAYS_TO_FIRST_ACCESS']\n",
      "Score: 0.8242\t R2: 0.8241838803\t MSE: 59.2495596399\t Variance: 0.8242095382\n",
      "\n",
      "Leaving Column DAYS_TO_FIRST_DUE_DATE out\n",
      "Excluding: ['DAYS_TO_FIRST_DUE_DATE']\n",
      "Score: 0.8239\t R2: 0.8239427902\t MSE: 59.3308063544\t Variance: 0.8239647111\n",
      "\n",
      "Leaving Column DAYS_FIRST_SUBMITTED_EARLY out\n",
      "Excluding: ['DAYS_FIRST_SUBMITTED_EARLY']\n",
      "Score: 0.8239\t R2: 0.8239250656\t MSE: 59.3367794954\t Variance: 0.8239467331\n",
      "\n",
      "Leaving Column FIRST_GRADE out\n",
      "Excluding: ['FIRST_GRADE', 'FIRST_GRADE_PC']\n",
      "Score: 0.8236\t R2: 0.8236258577\t MSE: 59.4376117548\t Variance: 0.8236452515\n",
      "\n",
      "Leaving Column FIRST_ASSIGN_GRADE out\n",
      "Excluding: ['FIRST_ASSIGN_GRADE']\n",
      "Score: 0.8164\t R2: 0.8163732034\t MSE: 61.8817367577\t Variance: 0.8163948653\n",
      "\n",
      "Leaving Column FIRST_GRADE_PC out\n",
      "Excluding: ['FIRST_GRADE_PC']\n",
      "Score: 0.8239\t R2: 0.8239415386\t MSE: 59.3312281222\t Variance: 0.8239620743\n",
      "\n",
      "Leaving Column FIRST_GRADE out\n",
      "Excluding: ['FIRST_GRADE', 'FIRST_GRADE_PC']\n",
      "Score: 0.8236\t R2: 0.8236258577\t MSE: 59.4376117548\t Variance: 0.8236452515\n",
      "\n",
      "Leaving Column DAYS_TO_SECOND_DUE_DATE out\n",
      "Excluding: ['DAYS_TO_SECOND_DUE_DATE']\n",
      "Score: 0.8240\t R2: 0.8240039896\t MSE: 59.3101822952\t Variance: 0.8240268245\n",
      "\n",
      "Leaving Column DAYS_SECOND_SUBMITTED_EARLY out\n",
      "Excluding: ['DAYS_SECOND_SUBMITTED_EARLY']\n",
      "Score: 0.8240\t R2: 0.8240410809\t MSE: 59.2976826490\t Variance: 0.8240616733\n",
      "\n",
      "Leaving Column SECOND_GRADE out\n",
      "Excluding: ['SECOND_GRADE', 'SECOND_GRADE_PC']\n",
      "Score: 0.8240\t R2: 0.8239621774\t MSE: 59.3242728944\t Variance: 0.8239843540\n",
      "\n",
      "Leaving Column SECOND_ASSIGN_GRADE out\n",
      "Excluding: ['SECOND_ASSIGN_GRADE']\n",
      "Score: 0.8240\t R2: 0.8239625868\t MSE: 59.3241349548\t Variance: 0.8239835286\n",
      "\n",
      "Leaving Column SECOND_GRADE_PC out\n",
      "Excluding: ['SECOND_GRADE_PC']\n",
      "Score: 0.8239\t R2: 0.8239357936\t MSE: 59.3331641821\t Variance: 0.8239580159\n",
      "\n",
      "Leaving Column NUM_EARLY_ASSIGNMENTS out\n",
      "Excluding: ['NUM_EARLY_ASSIGNMENTS']\n",
      "Score: 0.8239\t R2: 0.8239312443\t MSE: 59.3346972780\t Variance: 0.8239536128\n",
      "\n",
      "Leaving Column NUM_EARLY_LATES out\n",
      "Excluding: ['NUM_EARLY_LATES']\n",
      "Score: 0.8176\t R2: 0.8175905432\t MSE: 61.4714964910\t Variance: 0.8175940097\n",
      "\n",
      "Leaving Column EARLY_Q1_SUBS_PC out\n",
      "Excluding: ['EARLY_Q1_SUBS_PC']\n",
      "Score: 0.8239\t R2: 0.8239100497\t MSE: 59.3418397976\t Variance: 0.8239337985\n",
      "\n",
      "Leaving Column EARLY_Q2_SUBS_PC out\n",
      "Excluding: ['EARLY_Q2_SUBS_PC']\n",
      "Score: 0.8239\t R2: 0.8239230033\t MSE: 59.3374744650\t Variance: 0.8239457984\n",
      "\n",
      "Leaving Column EARLY_Q3_SUBS_PC out\n",
      "Excluding: ['EARLY_Q3_SUBS_PC']\n",
      "Score: 0.8150\t R2: 0.8150418436\t MSE: 62.3304014076\t Variance: 0.8150613964\n",
      "\n",
      "Leaving Column EARLY_Q4_SUBS_PC out\n",
      "Excluding: ['EARLY_Q4_SUBS_PC']\n"
     ]
    },
    {
     "name": "stdout",
     "output_type": "stream",
     "text": [
      "Score: 0.8238\t R2: 0.8238151802\t MSE: 59.3738105578\t Variance: 0.8238368950\n",
      "\n",
      "Leaving Column NUM_EARLY_CRM out\n",
      "Excluding: ['NUM_EARLY_CRM']\n",
      "Score: 0.8239\t R2: 0.8239498616\t MSE: 59.3284233078\t Variance: 0.8239716865\n",
      "\n",
      "Leaving Column NUM_EARLY_ACCESS_DAYS out\n",
      "Excluding: ['NUM_EARLY_ACCESS_DAYS']\n",
      "Score: 0.8239\t R2: 0.8239454264\t MSE: 59.3299179627\t Variance: 0.8239664805\n",
      "\n",
      "Leaving Column NUM_EARLY_TYPE_A out\n",
      "Excluding: ['NUM_EARLY_TYPE_A']\n",
      "Score: 0.8239\t R2: 0.8239498831\t MSE: 59.3284160550\t Variance: 0.8239717081\n",
      "\n",
      "Leaving Column NUM_EARLY_TYPE_B out\n",
      "Excluding: ['NUM_EARLY_TYPE_B']\n",
      "Score: 0.8239\t R2: 0.8239498932\t MSE: 59.3284126536\t Variance: 0.8239717182\n",
      "\n",
      "Leaving Column NUM_EARLY_TYPE_C out\n",
      "Excluding: ['NUM_EARLY_TYPE_C']\n",
      "Score: 0.8239\t R2: 0.8239498552\t MSE: 59.3284254541\t Variance: 0.8239716801\n",
      "\n",
      "Leaving Column NUM_EARLY_TYPE_D out\n",
      "Excluding: ['NUM_EARLY_TYPE_D']\n",
      "Score: 0.8239\t R2: 0.8239498622\t MSE: 59.3284231034\t Variance: 0.8239716871\n",
      "\n",
      "Leaving Column NUM_EARLY_TYPE_E out\n",
      "Excluding: ['NUM_EARLY_TYPE_E']\n",
      "Score: 0.8239\t R2: 0.8239498692\t MSE: 59.3284207484\t Variance: 0.8239716940\n",
      "\n",
      "Leaving Column NUM_EARLY_TYPE_S out\n",
      "Excluding: ['NUM_EARLY_TYPE_S']\n",
      "Score: 0.8239\t R2: 0.8239498672\t MSE: 59.3284214053\t Variance: 0.8239716923\n",
      "\n",
      "Leaving Column NUM_EARLY_TYPE_X out\n",
      "Excluding: ['NUM_EARLY_TYPE_X']\n",
      "Score: 0.8239\t R2: 0.8239498615\t MSE: 59.3284233217\t Variance: 0.8239716864\n",
      "\n",
      "Leaving Column NUM_FEB_CRM out\n",
      "Excluding: ['NUM_FEB_CRM']\n",
      "Score: 0.8239\t R2: 0.8239498597\t MSE: 59.3284239374\t Variance: 0.8239716846\n",
      "\n",
      "Leaving Column NUM_FEB_ACCESS_DAYS out\n",
      "Excluding: ['NUM_FEB_ACCESS_DAYS']\n",
      "Score: 0.8240\t R2: 0.8239632052\t MSE: 59.3239265583\t Variance: 0.8239850726\n",
      "\n",
      "Leaving Column NUM_FEB_TYPE_A out\n",
      "Excluding: ['NUM_FEB_TYPE_A']\n",
      "Score: 0.8239\t R2: 0.8239498600\t MSE: 59.3284238319\t Variance: 0.8239716849\n",
      "\n",
      "Leaving Column NUM_FEB_TYPE_B out\n",
      "Excluding: ['NUM_FEB_TYPE_B']\n",
      "Score: 0.8239\t R2: 0.8239498615\t MSE: 59.3284233303\t Variance: 0.8239716864\n",
      "\n",
      "Leaving Column NUM_FEB_TYPE_C out\n",
      "Excluding: ['NUM_FEB_TYPE_C']\n",
      "Score: 0.8239\t R2: 0.8239498636\t MSE: 59.3284226110\t Variance: 0.8239716886\n",
      "\n",
      "Leaving Column NUM_FEB_TYPE_D out\n",
      "Excluding: ['NUM_FEB_TYPE_D']\n",
      "Score: 0.8239\t R2: 0.8239498593\t MSE: 59.3284240919\t Variance: 0.8239716841\n",
      "\n",
      "Leaving Column NUM_FEB_TYPE_E out\n",
      "Excluding: ['NUM_FEB_TYPE_E']\n",
      "Score: 0.8239\t R2: 0.8239498695\t MSE: 59.3284206283\t Variance: 0.8239716945\n",
      "\n",
      "Leaving Column NUM_FEB_TYPE_S out\n",
      "Excluding: ['NUM_FEB_TYPE_S']\n",
      "Score: 0.8239\t R2: 0.8239498612\t MSE: 59.3284234528\t Variance: 0.8239716860\n",
      "\n",
      "Leaving Column NUM_FEB_TYPE_X out\n",
      "Excluding: ['NUM_FEB_TYPE_X']\n",
      "Score: 0.8239\t R2: 0.8239498580\t MSE: 59.3284245001\t Variance: 0.8239716829\n",
      "\n",
      "Leaving Column NUM_MAY_CRM out\n",
      "Excluding: ['NUM_MAY_CRM']\n",
      "Score: 0.8239\t R2: 0.8239498610\t MSE: 59.3284235069\t Variance: 0.8239716859\n",
      "\n",
      "Leaving Column NUM_MAY_TYPE_A out\n",
      "Excluding: ['NUM_MAY_TYPE_A']\n",
      "Score: 0.8239\t R2: 0.8239498464\t MSE: 59.3284284336\t Variance: 0.8239716711\n",
      "\n",
      "Leaving Column NUM_MAY_TYPE_B out\n",
      "Excluding: ['NUM_MAY_TYPE_B']\n",
      "Score: 0.8239\t R2: 0.8239498598\t MSE: 59.3284238930\t Variance: 0.8239716848\n",
      "\n",
      "Leaving Column NUM_MAY_TYPE_C out\n",
      "Excluding: ['NUM_MAY_TYPE_C']\n",
      "Score: 0.8239\t R2: 0.8239498345\t MSE: 59.3284324493\t Variance: 0.8239716594\n",
      "\n",
      "Leaving Column NUM_MAY_TYPE_D out\n",
      "Excluding: ['NUM_MAY_TYPE_D']\n",
      "Score: 0.8239\t R2: 0.8239498644\t MSE: 59.3284223512\t Variance: 0.8239716891\n",
      "\n",
      "Leaving Column NUM_MAY_TYPE_E out\n",
      "Excluding: ['NUM_MAY_TYPE_E']\n",
      "Score: 0.8239\t R2: 0.8239498609\t MSE: 59.3284235354\t Variance: 0.8239716857\n",
      "\n",
      "Leaving Column NUM_MAY_TYPE_S out\n",
      "Excluding: ['NUM_MAY_TYPE_S']\n",
      "Score: 0.8239\t R2: 0.8239498578\t MSE: 59.3284245684\t Variance: 0.8239716827\n",
      "\n",
      "Leaving Column NUM_MAY_TYPE_X out\n",
      "Excluding: ['NUM_MAY_TYPE_X']\n",
      "Score: 0.8239\t R2: 0.8239498604\t MSE: 59.3284236968\t Variance: 0.8239716853\n",
      "\n",
      "Leaving Column DAYS_TO_FIRST_CRM out\n",
      "Excluding: ['DAYS_TO_FIRST_CRM']\n",
      "Score: 0.8238\t R2: 0.8237946024\t MSE: 59.3807452297\t Variance: 0.8238175898\n",
      "\n",
      "Leaving Column PREV_NUM_CRM out\n",
      "Excluding: ['PREV_NUM_CRM']\n",
      "Score: 0.8238\t R2: 0.8237716682\t MSE: 59.3884740089\t Variance: 0.8237904415\n",
      "\n"
     ]
    }
   ],
   "source": [
    "var_scores = {}\n",
    "r2_scores = {}\n",
    "mse_scores = {}\n",
    "\n",
    "for column_name in original_columns:\n",
    "    \n",
    "    print('Leaving Column {} out'.format(column_name))\n",
    "    \n",
    "    # Train a model and give me back the variance explained\n",
    "    r2, mse, var = train_model([ column_name ])\n",
    "    \n",
    "    # Leaving that column out, we get this variance explained\n",
    "    var_scores[column_name] = var\n",
    "    r2_scores[column_name] = r2\n",
    "    mse_scores[column_name] = mse\n",
    "\n",
    "    print()"
   ]
  },
  {
   "cell_type": "code",
   "execution_count": 31,
   "metadata": {},
   "outputs": [],
   "source": [
    "def plot(scores, title):\n",
    "    plt.figure(figsize=(16, 4))\n",
    "    plt.title(title)\n",
    "    plt.bar(range(len(scores)), scores.values(), color=\"b\", align=\"center\")\n",
    "    plt.xticks(range(len(scores)), scores.keys(), rotation='vertical', fontsize=6)\n",
    "    # Pad margins so that markers don't get clipped by the axes\n",
    "    plt.margins(0.1)\n",
    "    # Tweak spacing to prevent clipping of tick-labels\n",
    "    plt.subplots_adjust(bottom=0.15)\n",
    "    filename = '../figures/{}.png'.format(title.lower().replace(' ', '_'))\n",
    "    plt.savefig(filename, bbox_inches=\"tight\", dpi=100)"
   ]
  },
  {
   "cell_type": "code",
   "execution_count": 32,
   "metadata": {},
   "outputs": [
    {
     "data": {
      "image/png": "[encoded data removed]",
      "text/plain": [
       "<Figure size 1152x288 with 1 Axes>"
      ]
     },
     "metadata": {},
     "output_type": "display_data"
    }
   ],
   "source": [
    "plot(var_scores, \"Variance explained excluding the following features\")"
   ]
  },
  {
   "cell_type": "code",
   "execution_count": 33,
   "metadata": {
    "scrolled": false
   },
   "outputs": [
    {
     "name": "stdout",
     "output_type": "stream",
     "text": [
      "Excluding PREV_FACULTY,\t variance explained:0.74471\n",
      "Excluding FIRST_RESULT,\t variance explained:0.77529\n",
      "Excluding CANX,\t variance explained:0.78030\n",
      "Excluding EARLY_TRANSFER,\t variance explained:0.80031\n",
      "Excluding NUM_EARLY_LOANS,\t variance explained:0.80181\n",
      "Excluding FIRST_CANX,\t variance explained:0.80835\n",
      "Excluding EARLY_Q3_SUBS_PC,\t variance explained:0.81506\n",
      "Excluding FIRST_ASSIGN_GRADE,\t variance explained:0.81639\n",
      "Excluding NUM_GRANTS,\t variance explained:0.81665\n",
      "Excluding NUM_EARLY_LATES,\t variance explained:0.81759\n",
      "Excluding NUM_SUBJECTS,\t variance explained:0.81784\n",
      "Excluding NUM_MEMBERSHIPS,\t variance explained:0.81999\n",
      "Excluding NUM_CLUBS,\t variance explained:0.81999\n",
      "Excluding PREV_RESULT,\t variance explained:0.82002\n",
      "Excluding NUM_SOCIETIES,\t variance explained:0.82003\n",
      "Excluding NEXT_CODE,\t variance explained:0.82102\n",
      "Excluding PREV_CANX,\t variance explained:0.82138\n",
      "Excluding NUM_M5_FAILS,\t variance explained:0.82171\n",
      "Excluding STUDENT_TYPE,\t variance explained:0.82176\n",
      "Excluding DAYS_TO_FIRST_LAB,\t variance explained:0.82194\n",
      "Excluding CAO_POINTS,\t variance explained:0.82194\n",
      "Excluding LC_MATHS_POINTS,\t variance explained:0.82291\n",
      "Excluding YR_NUM,\t variance explained:0.82324\n",
      "Excluding YEARS_SINCE_LC,\t variance explained:0.82328\n",
      "Excluding ACC_FINANCE,\t variance explained:0.82329\n",
      "Excluding YEAR,\t variance explained:0.82331\n",
      "Excluding BIO_SEX,\t variance explained:0.82344\n",
      "Excluding PASS_M5,\t variance explained:0.82346\n",
      "Excluding STUDENT_ADDR_CODE,\t variance explained:0.82353\n",
      "Excluding NUM_M1_FAILS,\t variance explained:0.82358\n",
      "Excluding PREV_DEPT,\t variance explained:0.82364\n",
      "Excluding FIRST_GRADE,\t variance explained:0.82365\n",
      "Excluding ADDRESS_CODE,\t variance explained:0.82366\n",
      "Excluding NUM_M8_SUBJECTS,\t variance explained:0.82369\n",
      "Excluding NUM_M5_SUBJECTS,\t variance explained:0.82373\n",
      "Excluding FACULTY,\t variance explained:0.82374\n",
      "Excluding NUM_M1_SUBJECTS,\t variance explained:0.82375\n",
      "Excluding PREV_NUM_CRM,\t variance explained:0.82379\n",
      "Excluding DAYS_TO_FIRST_CRM,\t variance explained:0.82382\n",
      "Excluding EARLY_Q4_SUBS_PC,\t variance explained:0.82384\n",
      "Excluding PASS_M1,\t variance explained:0.82387\n",
      "Excluding Y2_RETURN,\t variance explained:0.82389\n",
      "Excluding EARLY_CANX_LEFT,\t variance explained:0.82389\n",
      "Excluding FIRST_REL_IND,\t variance explained:0.82390\n",
      "Excluding EARLY_Q1_SUBS_PC,\t variance explained:0.82393\n",
      "Excluding FEB_CANX_LEFT,\t variance explained:0.82394\n",
      "Excluding ENTERPRISE_ESOC,\t variance explained:0.82394\n",
      "Excluding SECOND_QUARTILE_RANK,\t variance explained:0.82394\n",
      "Excluding PERMANENT_ADDR_CODE,\t variance explained:0.82394\n",
      "Excluding EARLY_Q2_SUBS_PC,\t variance explained:0.82395\n",
      "Excluding DAYS_FIRST_SUBMITTED_EARLY,\t variance explained:0.82395\n",
      "Excluding FEB_CANX_DEFER,\t variance explained:0.82395\n",
      "Excluding EARLY_CANX_DEFER,\t variance explained:0.82395\n",
      "Excluding NUM_EARLY_ASSIGNMENTS,\t variance explained:0.82395\n",
      "Excluding SECOND_GRADE_PC,\t variance explained:0.82396\n",
      "Excluding FIRST_GRADE_PC,\t variance explained:0.82396\n",
      "Excluding CODE,\t variance explained:0.82396\n",
      "Excluding DAYS_TO_FIRST_DUE_DATE,\t variance explained:0.82396\n",
      "Excluding NUM_EARLY_ACCESS_DAYS,\t variance explained:0.82397\n",
      "Excluding FIRST_COURSE,\t variance explained:0.82397\n",
      "Excluding NUM_MAY_TYPE_C,\t variance explained:0.82397\n",
      "Excluding NUM_MAY_TYPE_A,\t variance explained:0.82397\n",
      "Excluding NUM_EARLY_TYPE_C,\t variance explained:0.82397\n",
      "Excluding NUM_MAY_TYPE_S,\t variance explained:0.82397\n",
      "Excluding NUM_FEB_TYPE_X,\t variance explained:0.82397\n",
      "Excluding NUM_FEB_TYPE_D,\t variance explained:0.82397\n",
      "Excluding NUM_FEB_CRM,\t variance explained:0.82397\n",
      "Excluding NUM_MAY_TYPE_B,\t variance explained:0.82397\n",
      "Excluding NUM_FEB_TYPE_A,\t variance explained:0.82397\n",
      "Excluding NUM_MAY_TYPE_X,\t variance explained:0.82397\n",
      "Excluding NUM_MAY_TYPE_E,\t variance explained:0.82397\n",
      "Excluding NUM_MAY_CRM,\t variance explained:0.82397\n",
      "Excluding NUM_FEB_TYPE_S,\t variance explained:0.82397\n",
      "Excluding NUM_FEB_TYPE_B,\t variance explained:0.82397\n",
      "Excluding NUM_EARLY_TYPE_X,\t variance explained:0.82397\n",
      "Excluding NUM_EARLY_CRM,\t variance explained:0.82397\n",
      "Excluding NUM_EARLY_TYPE_D,\t variance explained:0.82397\n",
      "Excluding NUM_FEB_TYPE_C,\t variance explained:0.82397\n",
      "Excluding NUM_MAY_TYPE_D,\t variance explained:0.82397\n",
      "Excluding NUM_EARLY_TYPE_S,\t variance explained:0.82397\n",
      "Excluding NUM_EARLY_TYPE_E,\t variance explained:0.82397\n",
      "Excluding NUM_FEB_TYPE_E,\t variance explained:0.82397\n",
      "Excluding NUM_EARLY_TYPE_A,\t variance explained:0.82397\n",
      "Excluding NUM_EARLY_TYPE_B,\t variance explained:0.82397\n",
      "Excluding FIRST_FACULTY,\t variance explained:0.82397\n",
      "Excluding PREV_CODE,\t variance explained:0.82397\n",
      "Excluding PREV_COURSE,\t variance explained:0.82397\n",
      "Excluding COURSE,\t variance explained:0.82397\n",
      "Excluding SCH_ENROLMENTS,\t variance explained:0.82397\n",
      "Excluding SECOND_ASSIGN_GRADE,\t variance explained:0.82398\n",
      "Excluding SECOND_GRADE,\t variance explained:0.82398\n",
      "Excluding SCH_DEIS,\t variance explained:0.82398\n",
      "Excluding NUM_FEB_ACCESS_DAYS,\t variance explained:0.82399\n",
      "Excluding SECOND_REL_IND,\t variance explained:0.82399\n",
      "Excluding AGE_AT_START,\t variance explained:0.82399\n",
      "Excluding DAYS_TO_FIRST_REG,\t variance explained:0.82400\n",
      "Excluding DAYS_TO_FIRST_LOAN,\t variance explained:0.82401\n",
      "Excluding DAYS_TO_SECOND_DUE_DATE,\t variance explained:0.82403\n",
      "Excluding TOTAL_YEARS,\t variance explained:0.82404\n",
      "Excluding FIRST_QUARTILE_RANK,\t variance explained:0.82405\n",
      "Excluding DAYS_SECOND_SUBMITTED_EARLY,\t variance explained:0.82406\n",
      "Excluding SCH_ADDR_CODE,\t variance explained:0.82409\n",
      "Excluding ORIGIN_CODE,\t variance explained:0.82412\n",
      "Excluding FIRST_DEPT,\t variance explained:0.82416\n",
      "Excluding SCH_FEE_PAYING,\t variance explained:0.82420\n",
      "Excluding DAYS_TO_FIRST_ACCESS,\t variance explained:0.82421\n",
      "Excluding PASS_M8,\t variance explained:0.82423\n",
      "Excluding NEXT_RESULT,\t variance explained:0.82428\n",
      "Excluding DEPT,\t variance explained:0.82436\n",
      "Excluding FIRST_CODE,\t variance explained:0.82467\n"
     ]
    }
   ],
   "source": [
    "for key, value in sorted(var_scores.items(), key=lambda kv: kv[1]):\n",
    "    print('Excluding {},\\t variance explained:{:0.5f}'.format(key, value))"
   ]
  },
  {
   "cell_type": "code",
   "execution_count": 34,
   "metadata": {},
   "outputs": [
    {
     "data": {
      "image/png": "[encoded data removed]",
      "text/plain": [
       "<Figure size 1152x288 with 1 Axes>"
      ]
     },
     "metadata": {},
     "output_type": "display_data"
    }
   ],
   "source": [
    "plot(r2_scores, \"R2 excluding the following features\")"
   ]
  },
  {
   "cell_type": "code",
   "execution_count": 35,
   "metadata": {
    "scrolled": false
   },
   "outputs": [
    {
     "name": "stdout",
     "output_type": "stream",
     "text": [
      "Excluding PREV_FACULTY,\t R2:0.74471\n",
      "Excluding FIRST_RESULT,\t R2:0.77524\n",
      "Excluding CANX,\t R2:0.78028\n",
      "Excluding EARLY_TRANSFER,\t R2:0.80030\n",
      "Excluding NUM_EARLY_LOANS,\t R2:0.80181\n",
      "Excluding FIRST_CANX,\t R2:0.80832\n",
      "Excluding EARLY_Q3_SUBS_PC,\t R2:0.81504\n",
      "Excluding FIRST_ASSIGN_GRADE,\t R2:0.81637\n",
      "Excluding NUM_GRANTS,\t R2:0.81663\n",
      "Excluding NUM_EARLY_LATES,\t R2:0.81759\n",
      "Excluding NUM_SUBJECTS,\t R2:0.81783\n",
      "Excluding NUM_MEMBERSHIPS,\t R2:0.81996\n",
      "Excluding NUM_CLUBS,\t R2:0.81996\n",
      "Excluding PREV_RESULT,\t R2:0.81998\n",
      "Excluding NUM_SOCIETIES,\t R2:0.81999\n",
      "Excluding NEXT_CODE,\t R2:0.82099\n",
      "Excluding PREV_CANX,\t R2:0.82136\n",
      "Excluding NUM_M5_FAILS,\t R2:0.82168\n",
      "Excluding STUDENT_TYPE,\t R2:0.82174\n",
      "Excluding DAYS_TO_FIRST_LAB,\t R2:0.82191\n",
      "Excluding CAO_POINTS,\t R2:0.82192\n",
      "Excluding LC_MATHS_POINTS,\t R2:0.82290\n",
      "Excluding YR_NUM,\t R2:0.82323\n",
      "Excluding YEARS_SINCE_LC,\t R2:0.82326\n",
      "Excluding ACC_FINANCE,\t R2:0.82326\n",
      "Excluding YEAR,\t R2:0.82329\n",
      "Excluding BIO_SEX,\t R2:0.82341\n",
      "Excluding PASS_M5,\t R2:0.82344\n",
      "Excluding STUDENT_ADDR_CODE,\t R2:0.82350\n",
      "Excluding NUM_M1_FAILS,\t R2:0.82356\n",
      "Excluding PREV_DEPT,\t R2:0.82362\n",
      "Excluding FIRST_GRADE,\t R2:0.82363\n",
      "Excluding ADDRESS_CODE,\t R2:0.82363\n",
      "Excluding NUM_M8_SUBJECTS,\t R2:0.82367\n",
      "Excluding NUM_M5_SUBJECTS,\t R2:0.82371\n",
      "Excluding FACULTY,\t R2:0.82372\n",
      "Excluding NUM_M1_SUBJECTS,\t R2:0.82373\n",
      "Excluding PREV_NUM_CRM,\t R2:0.82377\n",
      "Excluding DAYS_TO_FIRST_CRM,\t R2:0.82379\n",
      "Excluding EARLY_Q4_SUBS_PC,\t R2:0.82382\n",
      "Excluding PASS_M1,\t R2:0.82385\n",
      "Excluding Y2_RETURN,\t R2:0.82386\n",
      "Excluding EARLY_CANX_LEFT,\t R2:0.82387\n",
      "Excluding FIRST_REL_IND,\t R2:0.82387\n",
      "Excluding EARLY_Q1_SUBS_PC,\t R2:0.82391\n",
      "Excluding FEB_CANX_LEFT,\t R2:0.82391\n",
      "Excluding SECOND_QUARTILE_RANK,\t R2:0.82392\n",
      "Excluding ENTERPRISE_ESOC,\t R2:0.82392\n",
      "Excluding PERMANENT_ADDR_CODE,\t R2:0.82392\n",
      "Excluding EARLY_Q2_SUBS_PC,\t R2:0.82392\n",
      "Excluding DAYS_FIRST_SUBMITTED_EARLY,\t R2:0.82393\n",
      "Excluding FEB_CANX_DEFER,\t R2:0.82393\n",
      "Excluding EARLY_CANX_DEFER,\t R2:0.82393\n",
      "Excluding NUM_EARLY_ASSIGNMENTS,\t R2:0.82393\n",
      "Excluding SECOND_GRADE_PC,\t R2:0.82394\n",
      "Excluding CODE,\t R2:0.82394\n",
      "Excluding FIRST_GRADE_PC,\t R2:0.82394\n",
      "Excluding DAYS_TO_FIRST_DUE_DATE,\t R2:0.82394\n",
      "Excluding NUM_EARLY_ACCESS_DAYS,\t R2:0.82395\n",
      "Excluding FIRST_COURSE,\t R2:0.82395\n",
      "Excluding NUM_MAY_TYPE_C,\t R2:0.82395\n",
      "Excluding NUM_MAY_TYPE_A,\t R2:0.82395\n",
      "Excluding NUM_EARLY_TYPE_C,\t R2:0.82395\n",
      "Excluding NUM_MAY_TYPE_S,\t R2:0.82395\n",
      "Excluding NUM_FEB_TYPE_X,\t R2:0.82395\n",
      "Excluding NUM_FEB_TYPE_D,\t R2:0.82395\n",
      "Excluding NUM_FEB_CRM,\t R2:0.82395\n",
      "Excluding NUM_MAY_TYPE_B,\t R2:0.82395\n",
      "Excluding NUM_FEB_TYPE_A,\t R2:0.82395\n",
      "Excluding NUM_MAY_TYPE_X,\t R2:0.82395\n",
      "Excluding NUM_MAY_TYPE_E,\t R2:0.82395\n",
      "Excluding NUM_MAY_CRM,\t R2:0.82395\n",
      "Excluding NUM_FEB_TYPE_S,\t R2:0.82395\n",
      "Excluding NUM_FEB_TYPE_B,\t R2:0.82395\n",
      "Excluding NUM_EARLY_TYPE_X,\t R2:0.82395\n",
      "Excluding NUM_EARLY_CRM,\t R2:0.82395\n",
      "Excluding NUM_EARLY_TYPE_D,\t R2:0.82395\n",
      "Excluding NUM_FEB_TYPE_C,\t R2:0.82395\n",
      "Excluding NUM_MAY_TYPE_D,\t R2:0.82395\n",
      "Excluding NUM_EARLY_TYPE_S,\t R2:0.82395\n",
      "Excluding NUM_EARLY_TYPE_E,\t R2:0.82395\n",
      "Excluding NUM_FEB_TYPE_E,\t R2:0.82395\n",
      "Excluding NUM_EARLY_TYPE_A,\t R2:0.82395\n",
      "Excluding NUM_EARLY_TYPE_B,\t R2:0.82395\n",
      "Excluding PREV_CODE,\t R2:0.82395\n",
      "Excluding PREV_COURSE,\t R2:0.82395\n",
      "Excluding FIRST_FACULTY,\t R2:0.82395\n",
      "Excluding COURSE,\t R2:0.82395\n",
      "Excluding SCH_ENROLMENTS,\t R2:0.82395\n",
      "Excluding SECOND_GRADE,\t R2:0.82396\n",
      "Excluding SECOND_ASSIGN_GRADE,\t R2:0.82396\n",
      "Excluding SCH_DEIS,\t R2:0.82396\n",
      "Excluding NUM_FEB_ACCESS_DAYS,\t R2:0.82396\n",
      "Excluding SECOND_REL_IND,\t R2:0.82396\n",
      "Excluding AGE_AT_START,\t R2:0.82397\n",
      "Excluding DAYS_TO_FIRST_REG,\t R2:0.82398\n",
      "Excluding DAYS_TO_FIRST_LOAN,\t R2:0.82399\n",
      "Excluding DAYS_TO_SECOND_DUE_DATE,\t R2:0.82400\n",
      "Excluding TOTAL_YEARS,\t R2:0.82402\n",
      "Excluding FIRST_QUARTILE_RANK,\t R2:0.82402\n",
      "Excluding DAYS_SECOND_SUBMITTED_EARLY,\t R2:0.82404\n",
      "Excluding SCH_ADDR_CODE,\t R2:0.82407\n",
      "Excluding ORIGIN_CODE,\t R2:0.82410\n",
      "Excluding FIRST_DEPT,\t R2:0.82413\n",
      "Excluding SCH_FEE_PAYING,\t R2:0.82418\n",
      "Excluding DAYS_TO_FIRST_ACCESS,\t R2:0.82418\n",
      "Excluding PASS_M8,\t R2:0.82421\n",
      "Excluding NEXT_RESULT,\t R2:0.82426\n",
      "Excluding DEPT,\t R2:0.82434\n",
      "Excluding FIRST_CODE,\t R2:0.82465\n"
     ]
    }
   ],
   "source": [
    "for key, value in sorted(r2_scores.items(), key=lambda kv: kv[1]):\n",
    "    print('Excluding {},\\t R2:{:0.5f}'.format(key, value))"
   ]
  },
  {
   "cell_type": "code",
   "execution_count": 36,
   "metadata": {},
   "outputs": [
    {
     "data": {
      "image/png": "[encoded data removed]",
      "text/plain": [
       "<Figure size 1152x288 with 1 Axes>"
      ]
     },
     "metadata": {},
     "output_type": "display_data"
    }
   ],
   "source": [
    "plot(mse_scores, \"MSE excluding the following features\")"
   ]
  },
  {
   "cell_type": "code",
   "execution_count": 37,
   "metadata": {
    "scrolled": false
   },
   "outputs": [
    {
     "name": "stdout",
     "output_type": "stream",
     "text": [
      "Excluding PREV_FACULTY,\t MSE:86.03173\n",
      "Excluding FIRST_RESULT,\t MSE:75.74278\n",
      "Excluding CANX,\t MSE:74.04580\n",
      "Excluding EARLY_TRANSFER,\t MSE:67.29937\n",
      "Excluding NUM_EARLY_LOANS,\t MSE:66.79000\n",
      "Excluding FIRST_CANX,\t MSE:64.59404\n",
      "Excluding EARLY_Q3_SUBS_PC,\t MSE:62.33040\n",
      "Excluding FIRST_ASSIGN_GRADE,\t MSE:61.88174\n",
      "Excluding NUM_GRANTS,\t MSE:61.79431\n",
      "Excluding NUM_EARLY_LATES,\t MSE:61.47150\n",
      "Excluding NUM_SUBJECTS,\t MSE:61.38987\n",
      "Excluding NUM_MEMBERSHIPS,\t MSE:60.67313\n",
      "Excluding NUM_CLUBS,\t MSE:60.67243\n",
      "Excluding PREV_RESULT,\t MSE:60.66482\n",
      "Excluding NUM_SOCIETIES,\t MSE:60.66216\n",
      "Excluding NEXT_CODE,\t MSE:60.32645\n",
      "Excluding PREV_CANX,\t MSE:60.20092\n",
      "Excluding NUM_M5_FAILS,\t MSE:60.09231\n",
      "Excluding STUDENT_TYPE,\t MSE:60.07347\n",
      "Excluding DAYS_TO_FIRST_LAB,\t MSE:60.01597\n",
      "Excluding CAO_POINTS,\t MSE:60.01211\n",
      "Excluding LC_MATHS_POINTS,\t MSE:59.68345\n",
      "Excluding YR_NUM,\t MSE:59.57153\n",
      "Excluding YEARS_SINCE_LC,\t MSE:59.56227\n",
      "Excluding ACC_FINANCE,\t MSE:59.55925\n",
      "Excluding YEAR,\t MSE:59.55043\n",
      "Excluding BIO_SEX,\t MSE:59.51024\n",
      "Excluding PASS_M5,\t MSE:59.49985\n",
      "Excluding STUDENT_ADDR_CODE,\t MSE:59.47930\n",
      "Excluding NUM_M1_FAILS,\t MSE:59.45983\n",
      "Excluding PREV_DEPT,\t MSE:59.44041\n",
      "Excluding FIRST_GRADE,\t MSE:59.43761\n",
      "Excluding ADDRESS_CODE,\t MSE:59.43582\n",
      "Excluding NUM_M8_SUBJECTS,\t MSE:59.42405\n",
      "Excluding NUM_M5_SUBJECTS,\t MSE:59.41058\n",
      "Excluding FACULTY,\t MSE:59.40442\n",
      "Excluding NUM_M1_SUBJECTS,\t MSE:59.40186\n",
      "Excluding PREV_NUM_CRM,\t MSE:59.38847\n",
      "Excluding DAYS_TO_FIRST_CRM,\t MSE:59.38075\n",
      "Excluding EARLY_Q4_SUBS_PC,\t MSE:59.37381\n",
      "Excluding PASS_M1,\t MSE:59.36258\n",
      "Excluding Y2_RETURN,\t MSE:59.35777\n",
      "Excluding EARLY_CANX_LEFT,\t MSE:59.35680\n",
      "Excluding FIRST_REL_IND,\t MSE:59.35469\n",
      "Excluding EARLY_Q1_SUBS_PC,\t MSE:59.34184\n",
      "Excluding FEB_CANX_LEFT,\t MSE:59.34061\n",
      "Excluding SECOND_QUARTILE_RANK,\t MSE:59.33938\n",
      "Excluding ENTERPRISE_ESOC,\t MSE:59.33808\n",
      "Excluding PERMANENT_ADDR_CODE,\t MSE:59.33755\n",
      "Excluding EARLY_Q2_SUBS_PC,\t MSE:59.33747\n",
      "Excluding DAYS_FIRST_SUBMITTED_EARLY,\t MSE:59.33678\n",
      "Excluding FEB_CANX_DEFER,\t MSE:59.33658\n",
      "Excluding EARLY_CANX_DEFER,\t MSE:59.33634\n",
      "Excluding NUM_EARLY_ASSIGNMENTS,\t MSE:59.33470\n",
      "Excluding SECOND_GRADE_PC,\t MSE:59.33316\n",
      "Excluding CODE,\t MSE:59.33136\n",
      "Excluding FIRST_GRADE_PC,\t MSE:59.33123\n",
      "Excluding DAYS_TO_FIRST_DUE_DATE,\t MSE:59.33081\n",
      "Excluding NUM_EARLY_ACCESS_DAYS,\t MSE:59.32992\n",
      "Excluding FIRST_COURSE,\t MSE:59.32870\n",
      "Excluding NUM_MAY_TYPE_C,\t MSE:59.32843\n",
      "Excluding NUM_MAY_TYPE_A,\t MSE:59.32843\n",
      "Excluding NUM_EARLY_TYPE_C,\t MSE:59.32843\n",
      "Excluding NUM_MAY_TYPE_S,\t MSE:59.32842\n",
      "Excluding NUM_FEB_TYPE_X,\t MSE:59.32842\n",
      "Excluding NUM_FEB_TYPE_D,\t MSE:59.32842\n",
      "Excluding NUM_FEB_CRM,\t MSE:59.32842\n",
      "Excluding NUM_MAY_TYPE_B,\t MSE:59.32842\n",
      "Excluding NUM_FEB_TYPE_A,\t MSE:59.32842\n",
      "Excluding NUM_MAY_TYPE_X,\t MSE:59.32842\n",
      "Excluding NUM_MAY_TYPE_E,\t MSE:59.32842\n",
      "Excluding NUM_MAY_CRM,\t MSE:59.32842\n",
      "Excluding NUM_FEB_TYPE_S,\t MSE:59.32842\n",
      "Excluding NUM_FEB_TYPE_B,\t MSE:59.32842\n",
      "Excluding NUM_EARLY_TYPE_X,\t MSE:59.32842\n",
      "Excluding NUM_EARLY_CRM,\t MSE:59.32842\n",
      "Excluding NUM_EARLY_TYPE_D,\t MSE:59.32842\n",
      "Excluding NUM_FEB_TYPE_C,\t MSE:59.32842\n",
      "Excluding NUM_MAY_TYPE_D,\t MSE:59.32842\n",
      "Excluding NUM_EARLY_TYPE_S,\t MSE:59.32842\n",
      "Excluding NUM_EARLY_TYPE_E,\t MSE:59.32842\n",
      "Excluding NUM_FEB_TYPE_E,\t MSE:59.32842\n",
      "Excluding NUM_EARLY_TYPE_A,\t MSE:59.32842\n",
      "Excluding NUM_EARLY_TYPE_B,\t MSE:59.32841\n",
      "Excluding PREV_CODE,\t MSE:59.32835\n",
      "Excluding PREV_COURSE,\t MSE:59.32835\n",
      "Excluding FIRST_FACULTY,\t MSE:59.32834\n",
      "Excluding COURSE,\t MSE:59.32833\n",
      "Excluding SCH_ENROLMENTS,\t MSE:59.32739\n",
      "Excluding SECOND_GRADE,\t MSE:59.32427\n",
      "Excluding SECOND_ASSIGN_GRADE,\t MSE:59.32413\n",
      "Excluding SCH_DEIS,\t MSE:59.32397\n",
      "Excluding NUM_FEB_ACCESS_DAYS,\t MSE:59.32393\n",
      "Excluding SECOND_REL_IND,\t MSE:59.32387\n",
      "Excluding AGE_AT_START,\t MSE:59.32198\n",
      "Excluding DAYS_TO_FIRST_REG,\t MSE:59.31830\n",
      "Excluding DAYS_TO_FIRST_LOAN,\t MSE:59.31643\n",
      "Excluding DAYS_TO_SECOND_DUE_DATE,\t MSE:59.31018\n",
      "Excluding TOTAL_YEARS,\t MSE:59.30535\n",
      "Excluding FIRST_QUARTILE_RANK,\t MSE:59.30366\n",
      "Excluding DAYS_SECOND_SUBMITTED_EARLY,\t MSE:59.29768\n",
      "Excluding SCH_ADDR_CODE,\t MSE:59.28879\n",
      "Excluding ORIGIN_CODE,\t MSE:59.27727\n",
      "Excluding FIRST_DEPT,\t MSE:59.26840\n",
      "Excluding SCH_FEE_PAYING,\t MSE:59.25157\n",
      "Excluding DAYS_TO_FIRST_ACCESS,\t MSE:59.24956\n",
      "Excluding PASS_M8,\t MSE:59.24175\n",
      "Excluding NEXT_RESULT,\t MSE:59.22494\n",
      "Excluding DEPT,\t MSE:59.19690\n",
      "Excluding FIRST_CODE,\t MSE:59.09280\n"
     ]
    }
   ],
   "source": [
    "for key, value in sorted(mse_scores.items(), reverse=True, key=lambda kv: kv[1]):\n",
    "    print('Excluding {},\\t MSE:{:0.5f}'.format(key, value))"
   ]
  },
  {
   "cell_type": "markdown",
   "metadata": {},
   "source": [
    "### Combinations of features"
   ]
  },
  {
   "cell_type": "code",
   "execution_count": 38,
   "metadata": {},
   "outputs": [],
   "source": [
    "column_names = [\n",
    "    'DAYS_TO_FIRST_REG',\n",
    "    'LC_MATHS_POINTS',\n",
    "    'CAO_POINTS',\n",
    "]"
   ]
  },
  {
   "cell_type": "code",
   "execution_count": 39,
   "metadata": {},
   "outputs": [
    {
     "data": {
      "text/plain": [
       "['DAYS_TO_FIRST_REG', 'LC_MATHS_POINTS', 'CAO_POINTS']"
      ]
     },
     "execution_count": 39,
     "metadata": {},
     "output_type": "execute_result"
    }
   ],
   "source": [
    "column_names"
   ]
  },
  {
   "cell_type": "code",
   "execution_count": 40,
   "metadata": {},
   "outputs": [
    {
     "name": "stdout",
     "output_type": "stream",
     "text": [
      "Excluding: ['DAYS_TO_FIRST_REG', 'LC_MATHS_POINTS', 'CAO_POINTS']\n",
      "Score: 0.8180\t R2: 0.8179647644\t MSE: 61.3453849684\t Variance: 0.8179740401\n"
     ]
    },
    {
     "data": {
      "text/plain": [
       "(0.8179647643935553, 61.34538496837886, 0.8179740400787501)"
      ]
     },
     "execution_count": 40,
     "metadata": {},
     "output_type": "execute_result"
    }
   ],
   "source": [
    "train_model(column_names)"
   ]
  },
  {
   "cell_type": "code",
   "execution_count": 41,
   "metadata": {},
   "outputs": [
    {
     "name": "stdout",
     "output_type": "stream",
     "text": [
      "Excluding: ['DAYS_TO_FIRST_REG', 'LC_MATHS_POINTS']\n",
      "Score: 0.8229\t R2: 0.8229158603\t MSE: 59.6768789651\t Variance: 0.8229297646\n"
     ]
    },
    {
     "data": {
      "text/plain": [
       "(0.8229158602841655, 59.67687896506038, 0.8229297645695834)"
      ]
     },
     "execution_count": 41,
     "metadata": {},
     "output_type": "execute_result"
    }
   ],
   "source": [
    "column_names = [\n",
    "    'DAYS_TO_FIRST_REG',\n",
    "    'LC_MATHS_POINTS',\n",
    "]\n",
    "train_model(column_names)"
   ]
  },
  {
   "cell_type": "code",
   "execution_count": 42,
   "metadata": {},
   "outputs": [
    {
     "name": "stdout",
     "output_type": "stream",
     "text": [
      "Excluding: ['LC_MATHS_POINTS', 'CAO_POINTS']\n",
      "Score: 0.8179\t R2: 0.8179389021\t MSE: 61.3541004894\t Variance: 0.8179496028\n"
     ]
    },
    {
     "data": {
      "text/plain": [
       "(0.8179389021070862, 61.354100489383995, 0.8179496028263451)"
      ]
     },
     "execution_count": 42,
     "metadata": {},
     "output_type": "execute_result"
    }
   ],
   "source": [
    "column_names = [\n",
    "    'LC_MATHS_POINTS',\n",
    "    'CAO_POINTS',\n",
    "]\n",
    "train_model(column_names)"
   ]
  },
  {
   "cell_type": "code",
   "execution_count": 43,
   "metadata": {},
   "outputs": [
    {
     "name": "stdout",
     "output_type": "stream",
     "text": [
      "Excluding: ['DAYS_TO_FIRST_REG', 'CAO_POINTS']\n",
      "Score: 0.8220\t R2: 0.8219603475\t MSE: 59.9988842038\t Variance: 0.8219809404\n"
     ]
    },
    {
     "data": {
      "text/plain": [
       "(0.8219603475013206, 59.99888420382939, 0.8219809404491901)"
      ]
     },
     "execution_count": 43,
     "metadata": {},
     "output_type": "execute_result"
    }
   ],
   "source": [
    "column_names = [\n",
    "    'DAYS_TO_FIRST_REG',\n",
    "    'CAO_POINTS',\n",
    "]\n",
    "train_model(column_names)"
   ]
  },
  {
   "cell_type": "code",
   "execution_count": 44,
   "metadata": {},
   "outputs": [
    {
     "name": "stdout",
     "output_type": "stream",
     "text": [
      "Excluding: ['DAYS_TO_FIRST_REG', 'LC_MATHS_POINTS', 'CAO_POINTS', 'DAYS_TO_FIRST_LAB']\n",
      "Score: 0.8171\t R2: 0.8171123592\t MSE: 61.6326432139\t Variance: 0.8171215332\n"
     ]
    },
    {
     "data": {
      "text/plain": [
       "(0.8171123592381231, 61.63264321393121, 0.8171215332284123)"
      ]
     },
     "execution_count": 44,
     "metadata": {},
     "output_type": "execute_result"
    }
   ],
   "source": [
    "column_names = [\n",
    "    'DAYS_TO_FIRST_REG',\n",
    "    'LC_MATHS_POINTS',\n",
    "    'CAO_POINTS',\n",
    "    'DAYS_TO_FIRST_LAB',\n",
    "]\n",
    "train_model(column_names)"
   ]
  },
  {
   "cell_type": "code",
   "execution_count": 45,
   "metadata": {},
   "outputs": [
    {
     "name": "stdout",
     "output_type": "stream",
     "text": [
      "Excluding: ['DAYS_TO_FIRST_REG', 'DAYS_TO_FIRST_LAB']\n",
      "Score: 0.8221\t R2: 0.8220796370\t MSE: 59.9586839660\t Variance: 0.8220985187\n"
     ]
    },
    {
     "data": {
      "text/plain": [
       "(0.822079636992701, 59.958683965963154, 0.8220985187283016)"
      ]
     },
     "execution_count": 45,
     "metadata": {},
     "output_type": "execute_result"
    }
   ],
   "source": [
    "column_names = [\n",
    "    'DAYS_TO_FIRST_REG',\n",
    "    'DAYS_TO_FIRST_LAB',\n",
    "]\n",
    "train_model(column_names)"
   ]
  },
  {
   "cell_type": "code",
   "execution_count": 46,
   "metadata": {},
   "outputs": [
    {
     "name": "stdout",
     "output_type": "stream",
     "text": [
      "Excluding: ['CAO_POINTS', 'DAYS_TO_FIRST_LAB']\n",
      "Score: 0.8187\t R2: 0.8187492484\t MSE: 61.0810159700\t Variance: 0.8187703674\n"
     ]
    },
    {
     "data": {
      "text/plain": [
       "(0.8187492483922396, 61.081015970033555, 0.8187703673753373)"
      ]
     },
     "execution_count": 46,
     "metadata": {},
     "output_type": "execute_result"
    }
   ],
   "source": [
    "column_names = [\n",
    "    'CAO_POINTS',\n",
    "    'DAYS_TO_FIRST_LAB',\n",
    "]\n",
    "train_model(column_names)"
   ]
  },
  {
   "cell_type": "code",
   "execution_count": 47,
   "metadata": {},
   "outputs": [
    {
     "name": "stdout",
     "output_type": "stream",
     "text": [
      "Excluding: ['PREV_FACULTY_DCU BUSINESS SCHOOL', 'PREV_FACULTY_DCUBS/HSS', 'PREV_FACULTY_ENGINEERING AND COMPUTING', 'PREV_FACULTY_HUMANITIES AND SOCIAL SCIENCES', 'PREV_FACULTY_INSTITUTE OF EDUCATION', 'PREV_FACULTY_SCIENCE AND HEALTH', 'FACULTY_DCU BUSINESS SCHOOL', 'FACULTY_DCUBS/HSS', 'FACULTY_ENGINEERING AND COMPUTING', 'FACULTY_HUMANITIES AND SOCIAL SCIENCES', 'FACULTY_INSTITUTE OF EDUCATION', 'FACULTY_SCIENCE AND HEALTH']\n",
      "Score: 0.8200\t R2: 0.8200263813\t MSE: 60.6506256075\t Variance: 0.8200535233\n"
     ]
    },
    {
     "data": {
      "text/plain": [
       "(0.8200263813188963, 60.65062560752743, 0.8200535232976707)"
      ]
     },
     "execution_count": 47,
     "metadata": {},
     "output_type": "execute_result"
    }
   ],
   "source": [
    "column_names = [\n",
    "    'PREV_FACULTY',\n",
    "    'FACULTY',\n",
    "]\n",
    "train_model(column_names)"
   ]
  },
  {
   "cell_type": "code",
   "execution_count": 48,
   "metadata": {
    "scrolled": false
   },
   "outputs": [
    {
     "name": "stdout",
     "output_type": "stream",
     "text": [
      "Excluding: ['PREV_FACULTY_DCU BUSINESS SCHOOL', 'PREV_FACULTY_DCUBS/HSS', 'PREV_FACULTY_ENGINEERING AND COMPUTING', 'PREV_FACULTY_HUMANITIES AND SOCIAL SCIENCES', 'PREV_FACULTY_INSTITUTE OF EDUCATION', 'PREV_FACULTY_SCIENCE AND HEALTH', 'PREV_DEPT_BIOTECHNOLOGY', 'PREV_DEPT_CHEMICAL SCIENCES', 'PREV_DEPT_COMMUNICATIONS', 'PREV_DEPT_COMPUTING', 'PREV_DEPT_DCU BUSINESS SCHOOL', 'PREV_DEPT_DCUBS / HSS L&G Programmes', 'PREV_DEPT_EDUCATION', 'PREV_DEPT_ELECTRONIC ENGINEERING', 'PREV_DEPT_FIONTAR', 'PREV_DEPT_FIONTAR/COMMUNICATIONS', 'PREV_DEPT_Fiontar agus Scoil na Gaeilge', 'PREV_DEPT_HEALTH AND HUMAN PERFORMANCE', 'PREV_DEPT_HUMANITIES AND SOCIAL SCIENCES', 'PREV_DEPT_INSTITUTE OF EDUCATION', 'PREV_DEPT_LAW AND GOVERNMENT', 'PREV_DEPT_Language, Literacy and ECE', 'PREV_DEPT_MATHEMATICAL SCIENCES', 'PREV_DEPT_MECHANICAL ENGINEERING', 'PREV_DEPT_NURSING', 'PREV_DEPT_PHYSICAL SCIENCES', 'PREV_DEPT_SALIS', 'PREV_CODE_AC', 'PREV_CODE_ACM', 'PREV_CODE_AF', 'PREV_CODE_ALIS', 'PREV_CODE_ALTS', 'PREV_CODE_AMPS', 'PREV_CODE_AP', 'PREV_CODE_AS', 'PREV_CODE_ATT', 'PREV_CODE_BAJG', 'PREV_CODE_BAJH', 'PREV_CODE_BAJI', 'PREV_CODE_BAJL', 'PREV_CODE_BAJM', 'PREV_CODE_BAJP', 'PREV_CODE_BAJW', 'PREV_CODE_BCL', 'PREV_CODE_BECE', 'PREV_CODE_BED', 'PREV_CODE_BHS', 'PREV_CODE_BMED', 'PREV_CODE_BNCG', 'PREV_CODE_BNGN', 'PREV_CODE_BNID', 'PREV_CODE_BNPY', 'PREV_CODE_BNS', 'PREV_CODE_BPY', 'PREV_CODE_BRE', 'PREV_CODE_BRH', 'PREV_CODE_BRM', 'PREV_CODE_BS', 'PREV_CODE_BT', 'PREV_CODE_CA', 'PREV_CODE_CAFM', 'PREV_CODE_CAM', 'PREV_CODE_CCS', 'PREV_CODE_CE', 'PREV_CODE_CES', 'PREV_CODE_CPSSD', 'PREV_CODE_CS', 'PREV_CODE_DME', 'PREV_CODE_EBF', 'PREV_CODE_EBG', 'PREV_CODE_EBS', 'PREV_CODE_EBT', 'PREV_CODE_EC', 'PREV_CODE_ECE', 'PREV_CODE_EE', 'PREV_CODE_ENGLIC', 'PREV_CODE_EPL', 'PREV_CODE_ESH', 'PREV_CODE_ET', 'PREV_CODE_GCB', 'PREV_CODE_GG', 'PREV_CODE_GI', 'PREV_CODE_HOR', 'PREV_CODE_ICE', 'PREV_CODE_INTB', 'PREV_CODE_IR', 'PREV_CODE_JHIFR', 'PREV_CODE_JHLFR', 'PREV_CODE_JHLIL', 'PREV_CODE_JHLIR', 'PREV_CODE_JHLMS', 'PREV_CODE_JHLPO', 'PREV_CODE_JHMFR', 'PREV_CODE_JHMIL', 'PREV_CODE_JHMSI', 'PREV_CODE_JHPFR', 'PREV_CODE_JHPIL', 'PREV_CODE_JHPOM', 'PREV_CODE_JR', 'PREV_CODE_ME', 'PREV_CODE_MINT', 'PREV_CODE_MINTD', 'PREV_CODE_MMA', 'PREV_CODE_MWB', 'PREV_CODE_PBM', 'PREV_CODE_PEB', 'PREV_CODE_PEM', 'PREV_CODE_PHA', 'PREV_CODE_SE', 'PREV_CODE_SSH', 'PREV_COURSE_B.Eng. Mechanical & Manufacturing Eng', 'PREV_COURSE_B.Eng. in Biomedical Engineering', 'PREV_COURSE_B.Eng. in Common Entry into Engineering', 'PREV_COURSE_B.Eng. in Digital Media Engineering', 'PREV_COURSE_B.Eng. in Mechatronic Engineering', 'PREV_COURSE_BA Gaeilge agus Iriseoireacht', 'PREV_COURSE_BA Gno agus Gaeilge', 'PREV_COURSE_BA Languages for Int. Communication(Eng)', 'PREV_COURSE_BA in Accounting and Finance', 'PREV_COURSE_BA in Applied Language & Translation Stu', 'PREV_COURSE_BA in Applied Language and Intercultural', 'PREV_COURSE_BA in Communication Studies', 'PREV_COURSE_BA in Contemporary Culture and Society', 'PREV_COURSE_BA in Economics, Politics and Law', 'PREV_COURSE_BA in Global Business (France)', 'PREV_COURSE_BA in Global Business (Germany)', 'PREV_COURSE_BA in Global Business (Spain)', 'PREV_COURSE_BA in Global Business (USA)', 'PREV_COURSE_BA in International Relations', 'PREV_COURSE_BA in Journalism', 'PREV_COURSE_BCL (Law and Society)', 'PREV_COURSE_BEng Electronic & Computer Engineering', 'PREV_COURSE_BEng Info and Communications Engineering', 'PREV_COURSE_BEng in Electronic Engineering', 'PREV_COURSE_BSc (Honours) in Psychology', 'PREV_COURSE_BSc Athletic Therapy and Training', 'PREV_COURSE_BSc Common Entry into Science', 'PREV_COURSE_BSc Environmental Science & Health', 'PREV_COURSE_BSc Manufacturing Eng with Business', 'PREV_COURSE_BSc Marketing, Innovation & Technology', 'PREV_COURSE_BSc Marketing, Innovation and Technology', 'PREV_COURSE_BSc Physics with Biomedical Sciences', 'PREV_COURSE_BSc Science Education', 'PREV_COURSE_BSc Sport Science and Health', 'PREV_COURSE_BSc in Actuarial Mathematics', 'PREV_COURSE_BSc in Analytical Science', 'PREV_COURSE_BSc in Applied Physics', 'PREV_COURSE_BSc in Aviation Management', 'PREV_COURSE_BSc in Biotechnology', 'PREV_COURSE_BSc in Chemical and Pharmaceutical Sc.', \"PREV_COURSE_BSc in Children's & General Nursing\", 'PREV_COURSE_BSc in ComputationalProblem Solv&SW Dev.', 'PREV_COURSE_BSc in Computer Applications', 'PREV_COURSE_BSc in Education & Training', 'PREV_COURSE_BSc in Enterprise Computing', 'PREV_COURSE_BSc in Genetics & Cell Biology', 'PREV_COURSE_BSc in Multimedia', 'PREV_COURSE_BSc in Nursing (General)', 'PREV_COURSE_BSc in Nursing (Intellectual Disability)', 'PREV_COURSE_BSc in Nursing (Mental Health)', 'PREV_COURSE_BSc in Physical Education with Biology', 'PREV_COURSE_BSc in Physical Education with Maths.', 'PREV_COURSE_BSc in Physics with Astronomy', 'PREV_COURSE_BSc. in Horticulture', 'PREV_COURSE_Bachelor Business Studies International', 'PREV_COURSE_Bachelor of Arts (BAJG)', 'PREV_COURSE_Bachelor of Arts (BAJH)', 'PREV_COURSE_Bachelor of Arts (BAJI)', 'PREV_COURSE_Bachelor of Arts (BAJL)', 'PREV_COURSE_Bachelor of Arts (BAJM)', 'PREV_COURSE_Bachelor of Arts (BAJP)', 'PREV_COURSE_Bachelor of Arts (BAJW)', 'PREV_COURSE_Bachelor of Arts J. H. (Politics&French)', 'PREV_COURSE_Bachelor of Arts J.H. (MediaStud&Irish)', 'PREV_COURSE_Bachelor of Arts J.H. Pol with Int. Lang', 'PREV_COURSE_Bachelor of Arts J.H.( M.S & Int. Lang)', 'PREV_COURSE_Bachelor of Arts J.H.(Politics&Med Stu)', 'PREV_COURSE_Bachelor of Arts Jnt Hon(MediaStud&Fren)', 'PREV_COURSE_Bachelor of Arts Jnt Hons (Law & Irish)', 'PREV_COURSE_Bachelor of Arts Jnt Hons (Law&French)', 'PREV_COURSE_Bachelor of Arts Jnt Hons Law & Int.Lang', 'PREV_COURSE_Bachelor of Arts Jnt Hons(Law&Media Std)', 'PREV_COURSE_Bachelor of Arts Jnt Hons(Law&Politics)', 'PREV_COURSE_Bachelor of Arts Jnt.Hons(Irish&French)', 'PREV_COURSE_Bachelor of Business Studies', 'PREV_COURSE_Bachelor of Early Childhood Education', 'PREV_COURSE_Bachelor of Education', 'PREV_COURSE_Bachelor of Nursing Studies (Hons)', 'PREV_COURSE_Bachelor of Religious Education & Music', 'PREV_COURSE_Bachelor of Religious Education &English', 'PREV_COURSE_Bachelor of Religious Education &History', 'PREV_COURSE_Bachelor of Science in Health & Society', 'PREV_COURSE_Common Entry Actuarial and Financial Maths', 'PREV_CANX_2013.0', 'PREV_CANX_2014.0', 'PREV_CANX_2015.0', 'PREV_CANX_2016.0', 'PREV_CANX_2017.0', 'PREV_CANX_2018.0', 'PREV_RESULT_F', 'PREV_RESULT_F0', 'PREV_RESULT_P', 'PREV_NUM_CRM', 'FIRST_FACULTY_DCU BUSINESS SCHOOL', 'FIRST_FACULTY_DCUBS/HSS', 'FIRST_FACULTY_ENGINEERING AND COMPUTING', 'FIRST_FACULTY_HUMANITIES AND SOCIAL SCIENCES', 'FIRST_FACULTY_INSTITUTE OF EDUCATION', 'FIRST_FACULTY_SCIENCE AND HEALTH', 'FIRST_DEPT_BIOTECHNOLOGY', 'FIRST_DEPT_CHEMICAL SCIENCES', 'FIRST_DEPT_COMMUNICATIONS', 'FIRST_DEPT_COMPUTING', 'FIRST_DEPT_DCU BUSINESS SCHOOL', 'FIRST_DEPT_DCUBS / HSS L&G Programmes', 'FIRST_DEPT_EDUCATION', 'FIRST_DEPT_ELECTRONIC ENGINEERING', 'FIRST_DEPT_FIONTAR', 'FIRST_DEPT_FIONTAR/COMMUNICATIONS', 'FIRST_DEPT_Fiontar agus Scoil na Gaeilge', 'FIRST_DEPT_HEALTH AND HUMAN PERFORMANCE', 'FIRST_DEPT_HUMANITIES AND SOCIAL SCIENCES', 'FIRST_DEPT_INSTITUTE OF EDUCATION', 'FIRST_DEPT_LAW AND GOVERNMENT', 'FIRST_DEPT_Language, Literacy and ECE', 'FIRST_DEPT_MATHEMATICAL SCIENCES', 'FIRST_DEPT_MECHANICAL ENGINEERING', 'FIRST_DEPT_NURSING', 'FIRST_DEPT_PHYSICAL SCIENCES', 'FIRST_DEPT_SALIS', 'FIRST_DEPT_STEM Ed & Global Studies', 'FIRST_DEPT_THEOLOGY, PHILOSOPHY AND MUSIC', 'FIRST_CODE_AC', 'FIRST_CODE_ACM', 'FIRST_CODE_AF', 'FIRST_CODE_ALIS', 'FIRST_CODE_ALTS', 'FIRST_CODE_AMPS', 'FIRST_CODE_AP', 'FIRST_CODE_AS', 'FIRST_CODE_ATT', 'FIRST_CODE_BAJG', 'FIRST_CODE_BAJH', 'FIRST_CODE_BAJI', 'FIRST_CODE_BAJL', 'FIRST_CODE_BAJM', 'FIRST_CODE_BAJP', 'FIRST_CODE_BAJW', 'FIRST_CODE_BCL', 'FIRST_CODE_BECE', 'FIRST_CODE_BED', 'FIRST_CODE_BET', 'FIRST_CODE_BHS', 'FIRST_CODE_BMED', 'FIRST_CODE_BNCG', 'FIRST_CODE_BNGN', 'FIRST_CODE_BNID', 'FIRST_CODE_BNPY', 'FIRST_CODE_BNS', 'FIRST_CODE_BPY', 'FIRST_CODE_BRE', 'FIRST_CODE_BRH', 'FIRST_CODE_BRM', 'FIRST_CODE_BS', 'FIRST_CODE_BSIF', 'FIRST_CODE_BT', 'FIRST_CODE_CA', 'FIRST_CODE_CAFM', 'FIRST_CODE_CAM', 'FIRST_CODE_CCS', 'FIRST_CODE_CE', 'FIRST_CODE_CES', 'FIRST_CODE_CPSSD', 'FIRST_CODE_CS', 'FIRST_CODE_DME', 'FIRST_CODE_DS', 'FIRST_CODE_EBC', 'FIRST_CODE_EBF', 'FIRST_CODE_EBG', 'FIRST_CODE_EBS', 'FIRST_CODE_EBT', 'FIRST_CODE_EC', 'FIRST_CODE_ECE', 'FIRST_CODE_EE', 'FIRST_CODE_ENGLIC', 'FIRST_CODE_EPL', 'FIRST_CODE_ESH', 'FIRST_CODE_EST', 'FIRST_CODE_ET', 'FIRST_CODE_GCB', 'FIRST_CODE_GG', 'FIRST_CODE_GI', 'FIRST_CODE_HOR', 'FIRST_CODE_ICE', 'FIRST_CODE_INTB', 'FIRST_CODE_IR', 'FIRST_CODE_JHIFR', 'FIRST_CODE_JHIIL', 'FIRST_CODE_JHLFR', 'FIRST_CODE_JHLIL', 'FIRST_CODE_JHLIR', 'FIRST_CODE_JHLMS', 'FIRST_CODE_JHLPO', 'FIRST_CODE_JHMFR', 'FIRST_CODE_JHMIL', 'FIRST_CODE_JHMSI', 'FIRST_CODE_JHPFR', 'FIRST_CODE_JHPIL', 'FIRST_CODE_JHPOM', 'FIRST_CODE_JR', 'FIRST_CODE_JZCM', 'FIRST_CODE_ME', 'FIRST_CODE_MINT', 'FIRST_CODE_MINTD', 'FIRST_CODE_MMA', 'FIRST_CODE_MWB', 'FIRST_CODE_PBM', 'FIRST_CODE_PEB', 'FIRST_CODE_PEM', 'FIRST_CODE_PHA', 'FIRST_CODE_PSSD', 'FIRST_CODE_SE', 'FIRST_CODE_SSH', 'FIRST_COURSE_B.Eng. Mechanical & Manufacturing Eng', 'FIRST_COURSE_B.Eng. in Biomedical Engineering', 'FIRST_COURSE_B.Eng. in Common Entry into Engineering', 'FIRST_COURSE_B.Eng. in Digital Media Engineering', 'FIRST_COURSE_B.Eng. in Mechatronic Engineering', 'FIRST_COURSE_BA Gaeilge agus Iriseoireacht', 'FIRST_COURSE_BA Gno agus Gaeilge', 'FIRST_COURSE_BA Languages for Int. Communication(Eng)', 'FIRST_COURSE_BA in Accounting and Finance', 'FIRST_COURSE_BA in Applied Language & Translation Stu', 'FIRST_COURSE_BA in Applied Language and Intercultural', 'FIRST_COURSE_BA in Communication Studies', 'FIRST_COURSE_BA in Contemporary Culture and Society', 'FIRST_COURSE_BA in Economics, Politics and Law', 'FIRST_COURSE_BA in Global Business (Canada)', 'FIRST_COURSE_BA in Global Business (France)', 'FIRST_COURSE_BA in Global Business (Germany)', 'FIRST_COURSE_BA in Global Business (Spain)', 'FIRST_COURSE_BA in Global Business (USA)', 'FIRST_COURSE_BA in International Relations', 'FIRST_COURSE_BA in Jazz and Contemporary Music Perfor', 'FIRST_COURSE_BA in Journalism', 'FIRST_COURSE_BBS (International Finance)', 'FIRST_COURSE_BCL (Law and Society)', 'FIRST_COURSE_BEng Electronic & Computer Engineering', 'FIRST_COURSE_BEng Info and Communications Engineering', 'FIRST_COURSE_BEng in Electronic Engineering', 'FIRST_COURSE_BSc (Honours) in Psychology', 'FIRST_COURSE_BSc Athletic Therapy and Training', 'FIRST_COURSE_BSc Common Entry into Science', 'FIRST_COURSE_BSc Environmental Science & Health', 'FIRST_COURSE_BSc Manufacturing Eng with Business', 'FIRST_COURSE_BSc Marketing, Innovation & Technology', 'FIRST_COURSE_BSc Marketing, Innovation and Technology', 'FIRST_COURSE_BSc Physics with Biomedical Sciences', 'FIRST_COURSE_BSc Science Education', 'FIRST_COURSE_BSc Sport Science and Health', 'FIRST_COURSE_BSc in Actuarial Mathematics', 'FIRST_COURSE_BSc in Analytical Science', 'FIRST_COURSE_BSc in Applied Physics', 'FIRST_COURSE_BSc in Aviation Management', 'FIRST_COURSE_BSc in Biotechnology', 'FIRST_COURSE_BSc in Chemical and Pharmaceutical Sc.', \"FIRST_COURSE_BSc in Children's & General Nursing\", 'FIRST_COURSE_BSc in ComputationalProblem Solv&SW Dev.', 'FIRST_COURSE_BSc in Computer Applications', 'FIRST_COURSE_BSc in Data Science', 'FIRST_COURSE_BSc in Education & Training', 'FIRST_COURSE_BSc in Enterprise Computing', 'FIRST_COURSE_BSc in Environmental Science & Tech', 'FIRST_COURSE_BSc in Genetics & Cell Biology', 'FIRST_COURSE_BSc in Multimedia', 'FIRST_COURSE_BSc in Nursing (General)', 'FIRST_COURSE_BSc in Nursing (Intellectual Disability)', 'FIRST_COURSE_BSc in Nursing (Mental Health)', 'FIRST_COURSE_BSc in Physical Education with Biology', 'FIRST_COURSE_BSc in Physical Education with Maths.', 'FIRST_COURSE_BSc in Physics with Astronomy', 'FIRST_COURSE_BSc. in Horticulture', 'FIRST_COURSE_Bachelor Business Studies International', 'FIRST_COURSE_Bachelor of Arts (BAJG)', 'FIRST_COURSE_Bachelor of Arts (BAJH)', 'FIRST_COURSE_Bachelor of Arts (BAJI)', 'FIRST_COURSE_Bachelor of Arts (BAJL)', 'FIRST_COURSE_Bachelor of Arts (BAJM)', 'FIRST_COURSE_Bachelor of Arts (BAJP)', 'FIRST_COURSE_Bachelor of Arts (BAJW)', 'FIRST_COURSE_Bachelor of Arts J. H. (Politics&French)', 'FIRST_COURSE_Bachelor of Arts J.H. (MediaStud&Irish)', 'FIRST_COURSE_Bachelor of Arts J.H. Pol with Int. Lang', 'FIRST_COURSE_Bachelor of Arts J.H.( M.S & Int. Lang)', 'FIRST_COURSE_Bachelor of Arts J.H.(Politics&Med Stu)', 'FIRST_COURSE_Bachelor of Arts Jnt Hon(MediaStud&Fren)', 'FIRST_COURSE_Bachelor of Arts Jnt Hons (Law & Irish)', 'FIRST_COURSE_Bachelor of Arts Jnt Hons (Law&French)', 'FIRST_COURSE_Bachelor of Arts Jnt Hons Irs &Int Lang', 'FIRST_COURSE_Bachelor of Arts Jnt Hons Law & Int.Lang', 'FIRST_COURSE_Bachelor of Arts Jnt Hons(Law&Media Std)', 'FIRST_COURSE_Bachelor of Arts Jnt Hons(Law&Politics)', 'FIRST_COURSE_Bachelor of Arts Jnt.Hons(Irish&French)', 'FIRST_COURSE_Bachelor of Business Studies', 'FIRST_COURSE_Bachelor of Early Childhood Education', 'FIRST_COURSE_Bachelor of Education', 'FIRST_COURSE_Bachelor of Nursing Studies (Hons)', 'FIRST_COURSE_Bachelor of Religious Education & Music', 'FIRST_COURSE_Bachelor of Religious Education &English', 'FIRST_COURSE_Bachelor of Religious Education &History', 'FIRST_COURSE_Bachelor of Science in Health & Society', 'FIRST_COURSE_Common Entry Actuarial and Financial Maths', 'FIRST_CANX_2014.0', 'FIRST_CANX_2015.0', 'FIRST_CANX_2016.0', 'FIRST_CANX_2017.0', 'FIRST_CANX_2018.0', 'FIRST_CANX_2019.0', 'FIRST_REL_IND_0.0', 'FIRST_REL_IND_1.0', 'FIRST_QUARTILE_RANK_1.0', 'FIRST_QUARTILE_RANK_2.0', 'FIRST_QUARTILE_RANK_3.0', 'FIRST_QUARTILE_RANK_4.0', 'FIRST_RESULT_F', 'FIRST_RESULT_F0', 'FIRST_RESULT_P', 'FIRST_GRADE', 'FIRST_ASSIGN_GRADE', 'FIRST_GRADE_PC', 'CANX_2014.0', 'CANX_2015.0', 'CANX_2016.0', 'CANX_2017.0', 'CANX_2018.0', 'CANX_2019.0']\n"
     ]
    },
    {
     "name": "stdout",
     "output_type": "stream",
     "text": [
      "Score: 0.7550\t R2: 0.7549653111\t MSE: 82.5760313596\t Variance: 0.7550442864\n"
     ]
    },
    {
     "data": {
      "text/plain": [
       "(0.7549653110540988, 82.57603135961823, 0.7550442863641252)"
      ]
     },
     "execution_count": 48,
     "metadata": {},
     "output_type": "execute_result"
    }
   ],
   "source": [
    "column_names = [\n",
    "    'PREV_',\n",
    "    'FIRST_',\n",
    "    'CANX'\n",
    "]\n",
    "train_model(column_names)"
   ]
  },
  {
   "cell_type": "code",
   "execution_count": 49,
   "metadata": {},
   "outputs": [
    {
     "name": "stdout",
     "output_type": "stream",
     "text": [
      "Excluding: []\n",
      "Score: 0.8239\t R2: 0.8239499419\t MSE: 59.3283962492\t Variance: 0.8239717661\n"
     ]
    },
    {
     "data": {
      "text/plain": [
       "(0.8239499418749829, 59.328396249249494, 0.8239717660706911)"
      ]
     },
     "execution_count": 49,
     "metadata": {},
     "output_type": "execute_result"
    }
   ],
   "source": [
    "column_names = []\n",
    "train_model(column_names)"
   ]
  },
  {
   "cell_type": "code",
   "execution_count": null,
   "metadata": {},
   "outputs": [],
   "source": []
  }
 ],
 "metadata": {
  "kernelspec": {
   "display_name": "Python 3",
   "language": "python",
   "name": "python3"
  },
  "language_info": {
   "codemirror_mode": {
    "name": "ipython",
    "version": 3
   },
   "file_extension": ".py",
   "mimetype": "text/x-python",
   "name": "python",
   "nbconvert_exporter": "python",
   "pygments_lexer": "ipython3",
   "version": "3.5.2"
  }
 },
 "nbformat": 4,
 "nbformat_minor": 2
}
